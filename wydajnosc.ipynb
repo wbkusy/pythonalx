{
 "cells": [
  {
   "cell_type": "markdown",
   "metadata": {},
   "source": [
    "# Optymalizacje\n",
    "\n",
    "## rozgrzewka - Tips and Tricks"
   ]
  },
  {
   "cell_type": "markdown",
   "metadata": {},
   "source": [
    "Trochę sztuczek i tricków. Niektóre mogą być przydatne przy optymalizacji. Potraktujmy to jako formę rozgrzewki"
   ]
  },
  {
   "cell_type": "code",
   "execution_count": 1,
   "metadata": {
    "ExecuteTime": {
     "end_time": "2020-01-07T18:37:58.759246Z",
     "start_time": "2020-01-07T18:37:58.751986Z"
    }
   },
   "outputs": [],
   "source": [
    "import dis"
   ]
  },
  {
   "cell_type": "markdown",
   "metadata": {},
   "source": [
    "#### bardziej zwięzłe wyrażenia warynkowe przypisujące wartości"
   ]
  },
  {
   "cell_type": "code",
   "execution_count": 2,
   "metadata": {
    "ExecuteTime": {
     "end_time": "2020-01-07T18:35:03.031822Z",
     "start_time": "2020-01-07T18:35:03.028632Z"
    }
   },
   "outputs": [],
   "source": [
    "condition = True"
   ]
  },
  {
   "cell_type": "code",
   "execution_count": 3,
   "metadata": {
    "ExecuteTime": {
     "end_time": "2020-01-07T18:35:25.546549Z",
     "start_time": "2020-01-07T18:35:23.001172Z"
    }
   },
   "outputs": [
    {
     "name": "stdout",
     "output_type": "stream",
     "text": [
      "32.3 ns ± 0.564 ns per loop (mean ± std. dev. of 7 runs, 10000000 loops each)\n"
     ]
    }
   ],
   "source": [
    "%%timeit\n",
    "if condition:\n",
    "    x = 1\n",
    "else:\n",
    "    x = 0"
   ]
  },
  {
   "cell_type": "code",
   "execution_count": 4,
   "metadata": {
    "ExecuteTime": {
     "end_time": "2020-01-07T18:35:28.767522Z",
     "start_time": "2020-01-07T18:35:26.110038Z"
    }
   },
   "outputs": [
    {
     "name": "stdout",
     "output_type": "stream",
     "text": [
      "36 ns ± 1.53 ns per loop (mean ± std. dev. of 7 runs, 10000000 loops each)\n"
     ]
    }
   ],
   "source": [
    "%%timeit\n",
    "x = 1 if condition else 0"
   ]
  },
  {
   "cell_type": "code",
   "execution_count": 5,
   "metadata": {
    "ExecuteTime": {
     "end_time": "2020-01-07T18:35:09.010680Z",
     "start_time": "2020-01-07T18:35:09.003360Z"
    }
   },
   "outputs": [
    {
     "name": "stdout",
     "output_type": "stream",
     "text": [
      "  1           0 LOAD_NAME                0 (condition)\n",
      "              2 POP_JUMP_IF_FALSE       10\n",
      "\n",
      "  2           4 LOAD_CONST               0 (1)\n",
      "              6 STORE_NAME               1 (x)\n",
      "              8 JUMP_FORWARD             4 (to 14)\n",
      "\n",
      "  4     >>   10 LOAD_CONST               1 (0)\n",
      "             12 STORE_NAME               1 (x)\n",
      "        >>   14 LOAD_CONST               2 (None)\n",
      "             16 RETURN_VALUE\n"
     ]
    }
   ],
   "source": [
    "dis.dis(\"\"\"if condition:\n",
    "    x = 1\n",
    "else:\n",
    "    x = 0\"\"\")"
   ]
  },
  {
   "cell_type": "code",
   "execution_count": 6,
   "metadata": {
    "ExecuteTime": {
     "end_time": "2020-01-07T18:35:10.717089Z",
     "start_time": "2020-01-07T18:35:10.711582Z"
    },
    "scrolled": false
   },
   "outputs": [
    {
     "name": "stdout",
     "output_type": "stream",
     "text": [
      "  1           0 LOAD_NAME                0 (condition)\n",
      "              2 POP_JUMP_IF_FALSE        8\n",
      "              4 LOAD_CONST               0 (1)\n",
      "              6 JUMP_FORWARD             2 (to 10)\n",
      "        >>    8 LOAD_CONST               1 (0)\n",
      "        >>   10 STORE_NAME               1 (x)\n",
      "             12 LOAD_CONST               2 (None)\n",
      "             14 RETURN_VALUE\n"
     ]
    }
   ],
   "source": [
    "dis.dis(\"\"\"x = 1 if condition else 0\"\"\")"
   ]
  },
  {
   "cell_type": "markdown",
   "metadata": {},
   "source": [
    "#### Separator _ w liczbach"
   ]
  },
  {
   "cell_type": "code",
   "execution_count": 7,
   "metadata": {
    "ExecuteTime": {
     "end_time": "2020-01-07T19:52:18.362793Z",
     "start_time": "2020-01-07T19:52:18.356653Z"
    }
   },
   "outputs": [
    {
     "name": "stdout",
     "output_type": "stream",
     "text": [
      "10010000000\n"
     ]
    }
   ],
   "source": [
    "num1 = 10000000000\n",
    "num2 = 10000000\n",
    "\n",
    "print(num1 + num2)"
   ]
  },
  {
   "cell_type": "code",
   "execution_count": 8,
   "metadata": {
    "ExecuteTime": {
     "end_time": "2020-01-07T19:56:20.468098Z",
     "start_time": "2020-01-07T19:56:20.463551Z"
    }
   },
   "outputs": [
    {
     "name": "stdout",
     "output_type": "stream",
     "text": [
      "10_010_000_000\n"
     ]
    }
   ],
   "source": [
    "num1 = 10_000_000_000\n",
    "num2 = 10_000_000\n",
    "\n",
    "print(f'{num1 + num2:_}')"
   ]
  },
  {
   "cell_type": "markdown",
   "metadata": {},
   "source": [
    "#### iterowanie po kilku listach"
   ]
  },
  {
   "cell_type": "code",
   "execution_count": 9,
   "metadata": {
    "ExecuteTime": {
     "end_time": "2020-01-07T20:00:14.456021Z",
     "start_time": "2020-01-07T20:00:14.451916Z"
    }
   },
   "outputs": [],
   "source": [
    "names = ['Peter Parker', 'Clark Kent', 'Wade Wilson', 'Bruce Wayne']\n",
    "heroes = [\"Spiderman\", \"Superman\", \"Deadpool\", \"Batman\"]"
   ]
  },
  {
   "cell_type": "code",
   "execution_count": 10,
   "metadata": {
    "ExecuteTime": {
     "end_time": "2020-01-07T20:01:00.531003Z",
     "start_time": "2020-01-07T20:01:00.526008Z"
    }
   },
   "outputs": [
    {
     "name": "stdout",
     "output_type": "stream",
     "text": [
      "Peter Parker to Spiderman\n",
      "Clark Kent to Superman\n",
      "Wade Wilson to Deadpool\n",
      "Bruce Wayne to Batman\n"
     ]
    }
   ],
   "source": [
    "for i, name in enumerate(names):\n",
    "    hero = heroes[i]\n",
    "    print(f\"{name} to {hero}\")"
   ]
  },
  {
   "cell_type": "code",
   "execution_count": 11,
   "metadata": {
    "ExecuteTime": {
     "end_time": "2020-01-07T20:01:23.335541Z",
     "start_time": "2020-01-07T20:01:23.330311Z"
    }
   },
   "outputs": [
    {
     "name": "stdout",
     "output_type": "stream",
     "text": [
      "Peter Parker to Spiderman\n",
      "Clark Kent to Superman\n",
      "Wade Wilson to Deadpool\n",
      "Bruce Wayne to Batman\n"
     ]
    }
   ],
   "source": [
    "for name, hero in zip(names, heroes):\n",
    "    print(f\"{name} to {hero}\")"
   ]
  },
  {
   "cell_type": "code",
   "execution_count": 12,
   "metadata": {
    "ExecuteTime": {
     "end_time": "2020-01-07T20:03:44.387485Z",
     "start_time": "2020-01-07T20:03:44.379995Z"
    }
   },
   "outputs": [
    {
     "name": "stdout",
     "output_type": "stream",
     "text": [
      "Peter Parker to Spiderman from Marvel\n",
      "Clark Kent to Superman from DC\n",
      "Wade Wilson to Deadpool from Marvel\n",
      "Bruce Wayne to Batman from DC\n"
     ]
    }
   ],
   "source": [
    "universes = ['Marvel', 'DC', 'Marvel', 'DC']\n",
    "\n",
    "for name, hero, universe in zip(names, heroes, universes):\n",
    "    print(f\"{name} to {hero} from {universe}\")"
   ]
  },
  {
   "cell_type": "markdown",
   "metadata": {
    "ExecuteTime": {
     "end_time": "2020-01-07T20:05:36.101403Z",
     "start_time": "2020-01-07T20:05:36.096102Z"
    }
   },
   "source": [
    "#### Rozpakowywanie"
   ]
  },
  {
   "cell_type": "code",
   "execution_count": 13,
   "metadata": {
    "ExecuteTime": {
     "end_time": "2020-01-07T20:05:36.101403Z",
     "start_time": "2020-01-07T20:05:36.096102Z"
    }
   },
   "outputs": [],
   "source": [
    "a, b, *_, d = (1, 2, 3, 4, 5, 6, 7, 8)  # czy to zadziała i jak?"
   ]
  },
  {
   "cell_type": "markdown",
   "metadata": {},
   "source": [
    "#### `type`, `hasattr`, `getattr`, `setattr`"
   ]
  },
  {
   "cell_type": "code",
   "execution_count": 14,
   "metadata": {
    "ExecuteTime": {
     "end_time": "2020-01-07T20:10:05.225365Z",
     "start_time": "2020-01-07T20:10:05.214931Z"
    }
   },
   "outputs": [
    {
     "name": "stdout",
     "output_type": "stream",
     "text": [
      "False\n",
      "True\n",
      "Corey\n",
      "Corey\n"
     ]
    }
   ],
   "source": [
    "class Person():\n",
    "    pass\n",
    "\n",
    "person = Person()\n",
    "\n",
    "print(hasattr(person, 'first_name'))\n",
    "setattr(person, 'first_name', 'Corey')\n",
    "print(hasattr(person, 'first_name'))\n",
    "print(person.first_name)\n",
    "\n",
    "key = 'first_name'\n",
    "value = getattr(person, key)\n",
    "print(value)"
   ]
  },
  {
   "cell_type": "code",
   "execution_count": 15,
   "metadata": {
    "ExecuteTime": {
     "end_time": "2020-01-07T20:33:04.346933Z",
     "start_time": "2020-01-07T20:33:04.336659Z"
    }
   },
   "outputs": [
    {
     "name": "stdout",
     "output_type": "stream",
     "text": [
      "<class 'type'>\n",
      "type\n",
      "<class '__main__.Dynamiczny'>\n"
     ]
    }
   ],
   "source": [
    "x = type(\"Dynamiczny\",(),{'ala': \"kot\"})\n",
    "print(type(x))\n",
    "print(type.__name__)\n",
    "x.ala\n",
    "\n",
    "y = x()\n",
    "print(type(y))\n"
   ]
  },
  {
   "cell_type": "markdown",
   "metadata": {
    "solution2": "hidden",
    "solution2_first": true
   },
   "source": [
    "##### Zadanie\n",
    "\n",
    "Korzystając z modułu `json`. \n",
    "Odczytaj plik musicians.json (jest w katalogu dane).\n",
    "\n",
    "Utwórz dynamicznie klasy i ich instancje - na podstawie pola type\n",
    "Ustaw instancjom atrybuty - bez atrybutu type\n",
    "Dodaj instancję do listy `instances`\n",
    "\n"
   ]
  },
  {
   "cell_type": "code",
   "execution_count": null,
   "metadata": {},
   "outputs": [],
   "source": [
    "#### hasło w konsoli"
   ]
  },
  {
   "cell_type": "code",
   "execution_count": 16,
   "metadata": {
    "ExecuteTime": {
     "end_time": "2020-01-07T21:31:17.518393Z",
     "start_time": "2020-01-07T21:31:14.026725Z"
    }
   },
   "outputs": [
    {
     "name": "stdout",
     "output_type": "stream",
     "text": [
      "Username: wbkusy\n",
      "Password: qwerty\n",
      "Logging in...\n"
     ]
    }
   ],
   "source": [
    "username = input(\"Username: \")\n",
    "password = input(\"Password: \")\n",
    "\n",
    "print(\"Logging in...\")"
   ]
  },
  {
   "cell_type": "code",
   "execution_count": null,
   "metadata": {
    "ExecuteTime": {
     "end_time": "2020-01-07T20:39:26.450001Z",
     "start_time": "2020-01-07T20:39:26.430285Z"
    },
    "solution2": "hidden"
   },
   "outputs": [],
   "source": [
    "with open(\"data/musicians.json\") as f:\n",
    "    dane = json.load(f)\n",
    "\n",
    "instances = []\n",
    "for el in dane:\n",
    "    type_ = el.pop('type')\n",
    "    tmp_obj = type(type_, (),{})()\n",
    "    \n",
    "    for k, v in el.items():\n",
    "        setattr(tmp_obj, k, v)\n",
    "    instances.append(tmp_obj)\n",
    "instances"
   ]
  },
  {
   "cell_type": "code",
   "execution_count": 17,
   "metadata": {
    "ExecuteTime": {
     "end_time": "2020-01-07T21:31:43.815599Z",
     "start_time": "2020-01-07T21:31:38.010012Z"
    }
   },
   "outputs": [
    {
     "name": "stdout",
     "output_type": "stream",
     "text": [
      "Username: wbkusy\n",
      "Password: ········\n",
      "Logging in...\n"
     ]
    }
   ],
   "source": [
    "from getpass import getpass\n",
    "\n",
    "username = input(\"Username: \")\n",
    "password = getpass(\"Password: \")\n",
    "\n",
    "print(\"Logging in...\")"
   ]
  },
  {
   "cell_type": "markdown",
   "metadata": {},
   "source": [
    "#### generatory\n",
    "\n",
    "Problem - chcemy policzyć linie w pliku, ale jest na tyle duzy, że nie chcemy otworzyć go w całości i robić splitlines, a zrobić to w jakiś sprytniejszy sposób\n",
    "\n"
   ]
  },
  {
   "cell_type": "code",
   "execution_count": null,
   "metadata": {
    "ExecuteTime": {
     "end_time": "2020-01-07T21:36:45.679941Z",
     "start_time": "2020-01-07T21:36:45.590774Z"
    }
   },
   "outputs": [],
   "source": [
    "with open('data/movies.csv') as f:\n",
    "    print(sum([1 for line in f]))"
   ]
  },
  {
   "cell_type": "code",
   "execution_count": null,
   "metadata": {
    "ExecuteTime": {
     "end_time": "2020-01-07T21:39:20.681555Z",
     "start_time": "2020-01-07T21:39:20.675146Z"
    }
   },
   "outputs": [],
   "source": [
    "with open('data/movies.csv') as f:\n",
    "    file_gen = (row for row in f)\n",
    "\n",
    "print(type(file_gen))"
   ]
  },
  {
   "cell_type": "code",
   "execution_count": null,
   "metadata": {
    "ExecuteTime": {
     "end_time": "2020-01-07T21:40:26.816975Z",
     "start_time": "2020-01-07T21:40:26.808602Z"
    }
   },
   "outputs": [],
   "source": [
    "def file_gen(file_name):\n",
    "    for row in open(file_name):\n",
    "        yield row\n",
    "        \n",
    "wiersze = file_gen('data/moves.csv')\n",
    "wiersze"
   ]
  },
  {
   "cell_type": "code",
   "execution_count": null,
   "metadata": {
    "ExecuteTime": {
     "end_time": "2020-01-07T21:40:34.323605Z",
     "start_time": "2020-01-07T21:40:34.301794Z"
    }
   },
   "outputs": [],
   "source": [
    "next(wiersze)"
   ]
  },
  {
   "cell_type": "code",
   "execution_count": null,
   "metadata": {
    "ExecuteTime": {
     "end_time": "2020-01-07T21:40:43.029594Z",
     "start_time": "2020-01-07T21:40:43.022693Z"
    }
   },
   "outputs": [],
   "source": [
    "next(wiersze)"
   ]
  },
  {
   "cell_type": "code",
   "execution_count": null,
   "metadata": {
    "ExecuteTime": {
     "end_time": "2020-01-07T21:41:01.251219Z",
     "start_time": "2020-01-07T21:41:01.245418Z"
    }
   },
   "outputs": [],
   "source": [
    "for i in range(10):\n",
    "    print(next(wiersze))"
   ]
  },
  {
   "cell_type": "code",
   "execution_count": null,
   "metadata": {
    "ExecuteTime": {
     "end_time": "2020-01-07T21:42:38.965702Z",
     "start_time": "2020-01-07T21:42:38.959197Z"
    }
   },
   "outputs": [],
   "source": [
    "import sys\n",
    "sys.getsizeof(wiersze)"
   ]
  },
  {
   "cell_type": "markdown",
   "metadata": {
    "solution2": "hidden",
    "solution2_first": true
   },
   "source": [
    "##### Zadanie\n",
    "\n",
    "Napisz generator, który będzie zwracać kolejne potęgi dwójki. "
   ]
  },
  {
   "cell_type": "code",
   "execution_count": null,
   "metadata": {
    "ExecuteTime": {
     "end_time": "2020-01-07T21:50:25.635880Z",
     "start_time": "2020-01-07T21:50:25.629367Z"
    },
    "solution2": "hidden"
   },
   "outputs": [],
   "source": [
    "def potegi_dwojki():\n",
    "    i = 0\n",
    "    while True:\n",
    "        yield 2**i\n",
    "        i += 1\n",
    "\n",
    "c = potegi_dwojki()\n",
    "\n",
    "for i in range(10):\n",
    "    print(next(c))"
   ]
  },
  {
   "cell_type": "markdown",
   "metadata": {},
   "source": [
    "## Czasowo złożoność obliczeniowa\n",
    "\n",
    "Złożoność obliczeniową określamy jako funkcję danych wejściowych algorytmu. Wyznacza się ją licząc operacje potrzebne do jej wykoanania\n",
    "W praktyce wystarczą oszacowania takiej funkcji. Wprowadza się tu notacja Ο (dużego O), notacja Ω (omega) i notacja Θ (theta).\n",
    "\n",
    "Niektóre funkcje i określenia złożoności z nimi związane:\n",
    "\n",
    "* log(n)- złożoność logarytmiczna\n",
    "* n - złożoność liniowa\n",
    "* nlog(n) - złożoność liniowo-logarytmiczna\n",
    "* n<sup>2</sup> - złożoność kwadratowa\n",
    "* n<sup>k</sup>  - złożoność wielomianowa\n",
    "* 2<sup>n</sup>  - złożoność wykładnicza\n",
    "* n! - złożoność wykładnicza, ponieważ n!>2n już od n=4\n",
    "\n",
    "\n",
    "Przykład obrazujący wzrost czasu wykonania programu w zależności od jego czasowej założoności obliczeniowej\n",
    "\n",
    "* Duże \"O\", np O(n<sup>2</sup>) - górne asymptoryczne oszacowanie złożoności czasowej\n",
    "\n",
    "Przykład - algorytm sortowania bąbelkowego w najgorszym przypadku ma czas obliczeń rzędu O(n<sup>2</sup>). Nie oznacza to jednak, że za każdym razem czas będzie to taki czas. \n",
    "Jeśli np dane wejściowe będa posortowane, to czas obliczeń wyniesie zaledwie O(N) (nie mówimy tutaj o czasie w sensie czasu zegarowego, ale liczbie operacji dominujących). Tak więc notacja „O duże” informuje nas, że czas wykonywania tego algorytmu nie jest dłuży niż O(n<sup>2</sup>) - ale może być krótszy.\n",
    "\n",
    "\n",
    "* Duże \"Omega\" - np. Ω(N) - odnosi się ograniczenia asymptotycznego tempa wzrostu czasu wykonywania algorytmu od dołu.\n",
    "\n",
    "W tym przypadku chodzi o to, że np. algorytm sortowania bąbelkowego w najlepszym przypadku ma czas obliczeń rzędu Ω(N). Nie oznacza to jednak, że za każdym razem czas ten będzie taki sam. Jeżeli dana na wejściu tablica n elementowa nie będzie posortowana czas ten wyniesie Ω(n<sup>2</sup>). Tak więc notacja „Omega duże” informuje nas, że czas wykonywania danego algorytmu nie jest krótszy niż Ω(N) - ale może być dłuższy.\n",
    "\n",
    "* Notacja „Theta” (przykładowo: Θ(N2)) - to oszacowanie pomiędzy O i Omega\n",
    "\n",
    "Więcej informacji np. tutaj: https://www.samouczekprogramisty.pl/podstawy-zlozonosci-obliczeniowej/\n",
    "\n",
    "\n",
    "\n",
    "\n"
   ]
  },
  {
   "cell_type": "markdown",
   "metadata": {},
   "source": [
    "## Reguły optymalizacj: \n",
    "\n",
    "(https://wiki.c2.com/?RulesOfOptimization)\n",
    "\n",
    "Jeśli zamierzasz przystąpić do optymalizacji rozważ następujące reguły:\n",
    "\n",
    "1. Nie rób tego\n",
    "\n",
    "    Czy na pewno tego potrzebujesz?\n",
    "\n",
    "2. Nie rób tego ... jeszcze.\n",
    "\n",
    "    Jeśli potrzebujesz to:\n",
    "    1. Skończ swój kod\n",
    "    2. Napisz testy\n",
    "    3. Ok.. teraz możesz optymalizować\n",
    "\n",
    "3. Profiluj - przed optymalizacją\n",
    "    \n",
    "    Zanim zaczniesz coś zmieniać wykonaj profilowanie:\n",
    "    1. cProfile\n",
    "    2. pstats\n",
    "    3. RunSnakeRun SnakeViz"
   ]
  },
  {
   "cell_type": "markdown",
   "metadata": {},
   "source": [
    "### Poziomy optymalizacji:\n",
    "\n",
    "Wychodzimy tu poza optymalizacje sprzętowe. \n",
    "\n",
    "#### Projekt (desing)\n",
    "\n",
    "W pewnych sytuacjach korzystne, czy wręcz konieczne może być przepisanie projektu. \n",
    "\n",
    "Mogą to być:\n",
    "\n",
    "* zmiana technologi - niektóre języki po prostu są szybsze od innych. Ale często też i trudniej się w nich pisze.\n",
    "* zmiany w stosie technologicznym - może baza danych nie daje rady, może serwer jest za wolny? \n",
    "* architektury - np. przejście na rozwiązanie asynchroniczne, czy wieloprocesowe \n",
    "\n",
    "Tu prawdopodobnie można uzyskać najlepsze wyniki, ale jest to kosztowne. \n",
    "Trzeba dobrze wiedzieć czego się chce i co zastosować. \n",
    "Może się to opłacać dla krytcznych, często uruchamianych fragmentów systemu.\n",
    "\n",
    "#### Algorytmy i struktury danych.\n",
    "\n",
    "Stosując lepsze algorytmy możemy uzyskać znaczne przyspieszenie działania programu. Często trzeba tu nieźle pogłówkować, wpaśc na jakiś sprytny pomysł. Przydaje się wiedza z innych dziedzin - takich jak matematyka.\n",
    "\n",
    "Przykład. Jeśli chcemy zsumować liczby z jakiegoś zakresu, to możemy użyć pętli for:\n",
    "    "
   ]
  },
  {
   "cell_type": "code",
   "execution_count": 19,
   "metadata": {
    "ExecuteTime": {
     "end_time": "2020-01-07T19:25:35.437822Z",
     "start_time": "2020-01-07T19:25:35.434556Z"
    }
   },
   "outputs": [],
   "source": [
    "N = 500000"
   ]
  },
  {
   "cell_type": "code",
   "execution_count": 20,
   "metadata": {
    "ExecuteTime": {
     "end_time": "2020-01-07T19:25:37.024862Z",
     "start_time": "2020-01-07T19:25:36.544459Z"
    }
   },
   "outputs": [
    {
     "name": "stdout",
     "output_type": "stream",
     "text": [
      "42.4 ms ± 1.9 ms per loop (mean ± std. dev. of 7 runs, 2 loops each)\n"
     ]
    }
   ],
   "source": [
    "%%timeit -n2\n",
    "suma = 0\n",
    "for x in range(1, N+1):\n",
    "    suma += x"
   ]
  },
  {
   "cell_type": "markdown",
   "metadata": {},
   "source": [
    "Sumowanie musimy wykonać N razy. Więcj jest to złożonośc O(n). Znajac lepszy algorytm możemy wykonać te działanie szybciej, np. możemy wykorzystać wzór na sume N elementów."
   ]
  },
  {
   "cell_type": "code",
   "execution_count": 21,
   "metadata": {
    "ExecuteTime": {
     "end_time": "2020-01-07T19:27:36.143300Z",
     "start_time": "2020-01-07T19:27:36.136493Z"
    }
   },
   "outputs": [
    {
     "name": "stdout",
     "output_type": "stream",
     "text": [
      "The slowest run took 4.83 times longer than the fastest. This could mean that an intermediate result is being cached.\n",
      "493 ns ± 391 ns per loop (mean ± std. dev. of 7 runs, 2 loops each)\n"
     ]
    }
   ],
   "source": [
    "%timeit -n2 N * (1 + N) / 2"
   ]
  },
  {
   "cell_type": "markdown",
   "metadata": {},
   "source": [
    "#### Optymalizacja kodu źródłowego\n",
    "\n",
    "- poziom budowania aplikacji - ustawianie różnego rodzaju flag przy uruchamianiu, czy kompilowaniu kodu. Pozwala to na optymalizację kodu na poziomie maszyny\n",
    "- optymalizacje na poziomie kompilacji - niektóre kompilatory mogą być szybsze od innych\n",
    "- optymalizacje na poziomie środowiska uruchomieniowego -  tu może pomóc instalacja nowszej wersji oprogramowania\n",
    "- No i wreszcie - wykorzystanie samego języka w sposób optymalny\n",
    "\n"
   ]
  },
  {
   "cell_type": "markdown",
   "metadata": {},
   "source": [
    "#### Różne obszary optymalizacji\n",
    "\n",
    "Optymalizować mozemy zarówno szybkość, pamięć, zajmowaną przestrzeń dyskową, dyskowe i sieciowe operacje I/O, zużycie energii ..."
   ]
  },
  {
   "cell_type": "markdown",
   "metadata": {},
   "source": [
    "**<cite>Always code as if the guy who ends up maintaining yout code will be a violent psychopath who knows where your live</cite><br>\n",
    "<small>John Woods</small>**"
   ]
  },
  {
   "cell_type": "markdown",
   "metadata": {
    "ExecuteTime": {
     "end_time": "2020-01-06T21:49:22.270288Z",
     "start_time": "2020-01-06T21:49:22.267079Z"
    }
   },
   "source": [
    "### Wybrane przykłady optymalizacji kodu źródłowego"
   ]
  },
  {
   "cell_type": "markdown",
   "metadata": {},
   "source": [
    "#### Ile zajmuje zwykłe wywołanie funkcji i zwrócenie wartości?"
   ]
  },
  {
   "cell_type": "code",
   "execution_count": 22,
   "metadata": {
    "ExecuteTime": {
     "end_time": "2020-01-07T11:05:48.471066Z",
     "start_time": "2020-01-07T11:05:48.461624Z"
    }
   },
   "outputs": [],
   "source": [
    "def the_answer_to_life_universe_and_everything():\n",
    "    return 42"
   ]
  },
  {
   "cell_type": "code",
   "execution_count": 23,
   "metadata": {
    "ExecuteTime": {
     "end_time": "2020-01-07T11:05:48.486467Z",
     "start_time": "2020-01-07T11:05:48.473449Z"
    }
   },
   "outputs": [
    {
     "name": "stdout",
     "output_type": "stream",
     "text": [
      "83.1 ns ± 2.65 ns per loop (mean ± std. dev. of 7 runs, 10000 loops each)\n"
     ]
    }
   ],
   "source": [
    "%timeit -n10000 the_answer_to_life_universe_and_everything()"
   ]
  },
  {
   "cell_type": "markdown",
   "metadata": {},
   "source": [
    "\n",
    "\n",
    "7.5 miliona lat to ... 236520000000000 sekund"
   ]
  },
  {
   "cell_type": "code",
   "execution_count": null,
   "metadata": {
    "ExecuteTime": {
     "end_time": "2020-01-07T11:05:48.506855Z",
     "start_time": "2020-01-07T11:05:48.489857Z"
    }
   },
   "outputs": [],
   "source": [
    "sekundy = 7_500_000 * 365 * 24 * 60 * 60\n",
    "sekundy"
   ]
  },
  {
   "cell_type": "code",
   "execution_count": null,
   "metadata": {
    "ExecuteTime": {
     "end_time": "2020-01-07T11:05:48.517277Z",
     "start_time": "2020-01-07T11:05:48.510487Z"
    }
   },
   "outputs": [],
   "source": [
    "(sekundy * 10 **9) / 67.6"
   ]
  },
  {
   "cell_type": "markdown",
   "metadata": {
    "ExecuteTime": {
     "end_time": "2020-01-06T22:06:41.748480Z",
     "start_time": "2020-01-06T22:06:41.730808Z"
    }
   },
   "source": [
    "Czyli ~ 3.5 x 10<sup>21</sup> szybciej niż w Autostopem przez Galaktykę ... :D. Nie jest źle.\n",
    "\n",
    "https://www.youtube.com/watch?v=aboZctrHfK8&t\n",
    "\n",
    "Dalej podobnie - będziemy pisać kod w różnych wersjach i porównywać ze sobą.. \n",
    "\n",
    "####  Zliczenie elementów w liście"
   ]
  },
  {
   "cell_type": "code",
   "execution_count": 24,
   "metadata": {
    "ExecuteTime": {
     "end_time": "2020-01-07T11:05:48.529539Z",
     "start_time": "2020-01-07T11:05:48.520752Z"
    }
   },
   "outputs": [],
   "source": [
    "MILION_ELEMENTS = [1]*1_000_000"
   ]
  },
  {
   "cell_type": "code",
   "execution_count": 25,
   "metadata": {
    "ExecuteTime": {
     "end_time": "2020-01-07T11:05:51.218684Z",
     "start_time": "2020-01-07T11:05:48.532705Z"
    }
   },
   "outputs": [
    {
     "name": "stdout",
     "output_type": "stream",
     "text": [
      "52.3 ms ± 245 µs per loop (mean ± std. dev. of 7 runs, 10 loops each)\n"
     ]
    }
   ],
   "source": [
    "%%timeit -n10\n",
    "\n",
    "how_many = 0\n",
    "for element in MILION_ELEMENTS:\n",
    "    how_many += 1\n"
   ]
  },
  {
   "cell_type": "code",
   "execution_count": 26,
   "metadata": {
    "ExecuteTime": {
     "end_time": "2020-01-07T11:05:51.228641Z",
     "start_time": "2020-01-07T11:05:51.221895Z"
    }
   },
   "outputs": [
    {
     "name": "stdout",
     "output_type": "stream",
     "text": [
      "271 ns ± 22.3 ns per loop (mean ± std. dev. of 7 runs, 10 loops each)\n"
     ]
    }
   ],
   "source": [
    "%timeit -n10 len(MILION_ELEMENTS)"
   ]
  },
  {
   "cell_type": "code",
   "execution_count": null,
   "metadata": {
    "ExecuteTime": {
     "end_time": "2020-01-07T11:05:51.243138Z",
     "start_time": "2020-01-07T11:05:51.232652Z"
    }
   },
   "outputs": [],
   "source": [
    "ns = 1\n",
    "um = 100\n",
    "ms = 100_000\n",
    "s = 100_000_000"
   ]
  },
  {
   "cell_type": "code",
   "execution_count": null,
   "metadata": {
    "ExecuteTime": {
     "end_time": "2020-01-07T11:05:51.252120Z",
     "start_time": "2020-01-07T11:05:51.245343Z"
    }
   },
   "outputs": [],
   "source": [
    "37*ms / 107*ns"
   ]
  },
  {
   "cell_type": "markdown",
   "metadata": {},
   "source": [
    "#### Wybieranie z listy\n",
    "\n",
    "Problem: wybrać z listy określone elementy. Np. liczby parzyste."
   ]
  },
  {
   "cell_type": "code",
   "execution_count": 27,
   "metadata": {
    "ExecuteTime": {
     "end_time": "2020-01-07T11:05:51.313545Z",
     "start_time": "2020-01-07T11:05:51.255538Z"
    }
   },
   "outputs": [],
   "source": [
    "MILLION_ELEMENTS = list(range(1000000))"
   ]
  },
  {
   "cell_type": "code",
   "execution_count": 28,
   "metadata": {
    "ExecuteTime": {
     "end_time": "2020-01-07T11:05:55.930822Z",
     "start_time": "2020-01-07T11:05:51.318552Z"
    }
   },
   "outputs": [
    {
     "name": "stdout",
     "output_type": "stream",
     "text": [
      "101 ms ± 1.17 ms per loop (mean ± std. dev. of 7 runs, 10 loops each)\n"
     ]
    }
   ],
   "source": [
    "%%timeit -n10\n",
    "output = []\n",
    "for element in MILLION_ELEMENTS:\n",
    "    if element % 2:\n",
    "        output.append(element)\n",
    "            \n"
   ]
  },
  {
   "cell_type": "code",
   "execution_count": 29,
   "metadata": {
    "ExecuteTime": {
     "end_time": "2020-01-07T11:06:04.890109Z",
     "start_time": "2020-01-07T11:05:55.934960Z"
    }
   },
   "outputs": [
    {
     "name": "stdout",
     "output_type": "stream",
     "text": [
      "127 ms ± 1.39 ms per loop (mean ± std. dev. of 7 runs, 10 loops each)\n"
     ]
    }
   ],
   "source": [
    "%timeit -n10 list(filter(lambda x: x % 2, MILLION_ELEMENTS))"
   ]
  },
  {
   "cell_type": "code",
   "execution_count": 30,
   "metadata": {
    "ExecuteTime": {
     "end_time": "2020-01-07T11:06:08.872840Z",
     "start_time": "2020-01-07T11:06:04.893130Z"
    }
   },
   "outputs": [
    {
     "name": "stdout",
     "output_type": "stream",
     "text": [
      "78.4 ms ± 1.39 ms per loop (mean ± std. dev. of 7 runs, 10 loops each)\n"
     ]
    }
   ],
   "source": [
    "%timeit -n10 [x for x in MILLION_ELEMENTS if x % 2]"
   ]
  },
  {
   "cell_type": "markdown",
   "metadata": {},
   "source": [
    "#### Pytać o zgode, czy prosic o przebaczenie\n",
    "\n",
    "W niektórych przypadkach wydajniej jest spróbować coś zrobić i obsłużyć to jakoś w przypadku niepowodzenia. Np przy pomocy `try ... except`. \n",
    "Czasem jednak lepiej jest najpierw sprawdzić.\n"
   ]
  },
  {
   "cell_type": "code",
   "execution_count": 31,
   "metadata": {
    "ExecuteTime": {
     "end_time": "2020-01-07T11:06:08.882711Z",
     "start_time": "2020-01-07T11:06:08.876733Z"
    }
   },
   "outputs": [],
   "source": [
    "class Foo:\n",
    "    a1 = \"a\"\n",
    "    a2 = \"b\"\n",
    "    a3 = \"c\"\n",
    "\n",
    "foo = Foo()\n"
   ]
  },
  {
   "cell_type": "markdown",
   "metadata": {},
   "source": [
    "##### Podejście `ask for permission`"
   ]
  },
  {
   "cell_type": "code",
   "execution_count": 32,
   "metadata": {
    "ExecuteTime": {
     "end_time": "2020-01-07T11:06:08.901586Z",
     "start_time": "2020-01-07T11:06:08.885856Z"
    }
   },
   "outputs": [
    {
     "name": "stdout",
     "output_type": "stream",
     "text": [
      "271 ns ± 5.83 ns per loop (mean ± std. dev. of 7 runs, 100 loops each)\n"
     ]
    }
   ],
   "source": [
    "%%timeit -n100\n",
    "if hasattr(foo, 'a1'):\n",
    "    foo.a1"
   ]
  },
  {
   "cell_type": "markdown",
   "metadata": {},
   "source": [
    "##### Podejście `beg for forgiveness`"
   ]
  },
  {
   "cell_type": "code",
   "execution_count": 33,
   "metadata": {
    "ExecuteTime": {
     "end_time": "2020-01-07T11:06:08.913001Z",
     "start_time": "2020-01-07T11:06:08.905627Z"
    }
   },
   "outputs": [
    {
     "name": "stdout",
     "output_type": "stream",
     "text": [
      "66.1 ns ± 1.64 ns per loop (mean ± std. dev. of 7 runs, 100 loops each)\n"
     ]
    }
   ],
   "source": [
    "%%timeit -n100\n",
    "try:\n",
    "    foo.a1\n",
    "except AttributeError:\n",
    "    pass\n"
   ]
  },
  {
   "cell_type": "markdown",
   "metadata": {},
   "source": [
    "Jeszcze lepiej to widać przy większej ilości warunków"
   ]
  },
  {
   "cell_type": "code",
   "execution_count": null,
   "metadata": {
    "ExecuteTime": {
     "end_time": "2020-01-07T11:06:08.921958Z",
     "start_time": "2020-01-07T11:06:08.915454Z"
    }
   },
   "outputs": [],
   "source": [
    "%%timeit -n100 \n",
    "\n",
    "if (hasattr(foo, 'a1') and hasattr(foo, 'a2') and hasattr(foo, 'a3')):\n",
    "    foo.a1\n",
    "    foo.a2\n",
    "    foo.a3"
   ]
  },
  {
   "cell_type": "code",
   "execution_count": null,
   "metadata": {
    "ExecuteTime": {
     "end_time": "2020-01-07T11:06:08.932358Z",
     "start_time": "2020-01-07T11:06:08.924226Z"
    }
   },
   "outputs": [],
   "source": [
    "%%timeit -n100\n",
    "try:\n",
    "    foo.a1\n",
    "    foo.a2\n",
    "    foo.a3\n",
    "except AttributeError:\n",
    "    pass"
   ]
  },
  {
   "cell_type": "markdown",
   "metadata": {},
   "source": [
    "Jeśli atrybutu jednak rzeczywiście nie ma to obsługa błędu staje się kosztowniejsza:"
   ]
  },
  {
   "cell_type": "code",
   "execution_count": null,
   "metadata": {
    "ExecuteTime": {
     "end_time": "2020-01-07T11:06:08.940831Z",
     "start_time": "2020-01-07T11:06:08.936063Z"
    }
   },
   "outputs": [],
   "source": [
    "class Bar:\n",
    "    pass\n",
    "\n",
    "\n",
    "bar = Bar()"
   ]
  },
  {
   "cell_type": "code",
   "execution_count": null,
   "metadata": {
    "ExecuteTime": {
     "end_time": "2020-01-07T11:06:08.952004Z",
     "start_time": "2020-01-07T11:06:08.944483Z"
    }
   },
   "outputs": [],
   "source": [
    "%%timeit -n100\n",
    "\n",
    "if hasattr(bar, 'hello'):\n",
    "    bar.hello"
   ]
  },
  {
   "cell_type": "code",
   "execution_count": null,
   "metadata": {
    "ExecuteTime": {
     "end_time": "2020-01-07T11:06:08.964390Z",
     "start_time": "2020-01-07T11:06:08.958570Z"
    }
   },
   "outputs": [],
   "source": [
    "%%timeit -n100\n",
    "try: \n",
    "    bar.hello\n",
    "except AttributeError:\n",
    "    pass\n"
   ]
  },
  {
   "cell_type": "markdown",
   "metadata": {},
   "source": [
    "* Jeśli spodziewamy się częstych problemów z atrybutami, to lepsze będzie podejście \"ask for perrmission\". \n",
    "* Jeśli takich sytuacji spodziewamy się rzadko, to przewagę da podejście \"beg for forgiveness\""
   ]
  },
  {
   "cell_type": "markdown",
   "metadata": {},
   "source": [
    "#### Sprawdzanie przynależności - membership"
   ]
  },
  {
   "cell_type": "code",
   "execution_count": 34,
   "metadata": {
    "ExecuteTime": {
     "end_time": "2020-01-07T11:06:08.971797Z",
     "start_time": "2020-01-07T11:06:08.967231Z"
    }
   },
   "outputs": [],
   "source": [
    "def check_membership(number):\n",
    "    for item in MILLION_ELEMENTS:\n",
    "        if item == number:\n",
    "            return True\n",
    "    return False\n",
    "\n"
   ]
  },
  {
   "cell_type": "code",
   "execution_count": 35,
   "metadata": {
    "ExecuteTime": {
     "end_time": "2020-01-07T11:06:08.984764Z",
     "start_time": "2020-01-07T11:06:08.978342Z"
    }
   },
   "outputs": [
    {
     "name": "stdout",
     "output_type": "stream",
     "text": [
      "320 ns ± 53.2 ns per loop (mean ± std. dev. of 7 runs, 10 loops each)\n"
     ]
    }
   ],
   "source": [
    "%timeit -n10 check_membership(1)"
   ]
  },
  {
   "cell_type": "code",
   "execution_count": 36,
   "metadata": {
    "ExecuteTime": {
     "end_time": "2020-01-07T11:06:23.287921Z",
     "start_time": "2020-01-07T11:06:08.988488Z"
    }
   },
   "outputs": [
    {
     "name": "stdout",
     "output_type": "stream",
     "text": [
      "25.2 ms ± 101 µs per loop (mean ± std. dev. of 7 runs, 100 loops each)\n"
     ]
    }
   ],
   "source": [
    "%timeit -n100 check_membership(500000)"
   ]
  },
  {
   "cell_type": "code",
   "execution_count": 37,
   "metadata": {
    "ExecuteTime": {
     "end_time": "2020-01-07T11:06:44.183331Z",
     "start_time": "2020-01-07T11:06:23.292832Z"
    }
   },
   "outputs": [
    {
     "name": "stdout",
     "output_type": "stream",
     "text": [
      "50.4 ms ± 195 µs per loop (mean ± std. dev. of 7 runs, 100 loops each)\n"
     ]
    }
   ],
   "source": [
    "%timeit -n100 check_membership(1000000)"
   ]
  },
  {
   "cell_type": "code",
   "execution_count": 38,
   "metadata": {
    "ExecuteTime": {
     "end_time": "2020-01-07T11:06:44.191784Z",
     "start_time": "2020-01-07T11:06:44.185724Z"
    }
   },
   "outputs": [],
   "source": [
    "def check_membership2(number):\n",
    "    return number in MILLION_ELEMENTS"
   ]
  },
  {
   "cell_type": "code",
   "execution_count": 39,
   "metadata": {
    "ExecuteTime": {
     "end_time": "2020-01-07T11:06:44.221856Z",
     "start_time": "2020-01-07T11:06:44.194540Z"
    }
   },
   "outputs": [
    {
     "name": "stdout",
     "output_type": "stream",
     "text": [
      "291 ns ± 11.3 ns per loop (mean ± std. dev. of 7 runs, 100 loops each)\n"
     ]
    }
   ],
   "source": [
    "%timeit -n100 check_membership2(1)"
   ]
  },
  {
   "cell_type": "code",
   "execution_count": 40,
   "metadata": {
    "ExecuteTime": {
     "end_time": "2020-01-07T11:06:48.200176Z",
     "start_time": "2020-01-07T11:06:44.226622Z"
    }
   },
   "outputs": [
    {
     "name": "stdout",
     "output_type": "stream",
     "text": [
      "8.69 ms ± 81.6 µs per loop (mean ± std. dev. of 7 runs, 100 loops each)\n"
     ]
    }
   ],
   "source": [
    "%timeit -n100 check_membership2(500000)"
   ]
  },
  {
   "cell_type": "markdown",
   "metadata": {},
   "source": [
    "**Oba podejścia nadal przechodzą przez całą listę.** \n",
    "\n",
    "Jeśli szukamy liczby z początku listy to mamy szczeście, jeśli z końca to musimy poczekać.\n",
    "\n",
    "Przydałaby się struktura danych ze stałym czasem dostępu. Takimi strukturami są np. `set` i `dict`"
   ]
  },
  {
   "cell_type": "code",
   "execution_count": 41,
   "metadata": {
    "ExecuteTime": {
     "end_time": "2020-01-07T11:06:48.254308Z",
     "start_time": "2020-01-07T11:06:48.202565Z"
    }
   },
   "outputs": [],
   "source": [
    "MILLION_SET = set(MILLION_ELEMENTS)"
   ]
  },
  {
   "cell_type": "code",
   "execution_count": 42,
   "metadata": {
    "ExecuteTime": {
     "end_time": "2020-01-07T11:06:48.262236Z",
     "start_time": "2020-01-07T11:06:48.256602Z"
    }
   },
   "outputs": [
    {
     "name": "stdout",
     "output_type": "stream",
     "text": [
      "63.4 ns ± 3.11 ns per loop (mean ± std. dev. of 7 runs, 100 loops each)\n"
     ]
    }
   ],
   "source": [
    "%timeit -n100 1 in MILLION_SET"
   ]
  },
  {
   "cell_type": "code",
   "execution_count": 43,
   "metadata": {
    "ExecuteTime": {
     "end_time": "2020-01-07T11:06:48.269068Z",
     "start_time": "2020-01-07T11:06:48.264190Z"
    }
   },
   "outputs": [
    {
     "name": "stdout",
     "output_type": "stream",
     "text": [
      "80 ns ± 3.3 ns per loop (mean ± std. dev. of 7 runs, 100 loops each)\n"
     ]
    }
   ],
   "source": [
    "%timeit -n100 999999 in MILLION_SET"
   ]
  },
  {
   "cell_type": "markdown",
   "metadata": {},
   "source": [
    "**Ale!! Zamiana listy na set jest kosztowna!**\n",
    "\n",
    "Opłaca się to robić więc tylko wtedy, gdy takich sprawdzeń robimy dużo. Najpierw zamieniamy listę na set a potem sprawdzamy. "
   ]
  },
  {
   "cell_type": "code",
   "execution_count": null,
   "metadata": {
    "ExecuteTime": {
     "end_time": "2020-01-07T11:06:48.988963Z",
     "start_time": "2020-01-07T11:06:48.271946Z"
    }
   },
   "outputs": [],
   "source": [
    "%timeit -n2 set(MILLION_ELEMENTS)"
   ]
  },
  {
   "cell_type": "markdown",
   "metadata": {},
   "source": [
    "#### Usuwanie duplikatów\n",
    "\n",
    "Trzeba tez pamiętać o tym, że w zbiorze nie ma powtórzeń! Zamiana na set jest najszybszym sposobem pozbycia sie duplikatów. Poniżej koszmarny alogrytm - złożoność O(n<sup>2</sup>):"
   ]
  },
  {
   "cell_type": "code",
   "execution_count": 44,
   "metadata": {
    "ExecuteTime": {
     "end_time": "2020-01-07T11:10:02.254590Z",
     "start_time": "2020-01-07T11:10:02.249132Z"
    }
   },
   "outputs": [],
   "source": [
    "ELEMENTS = list(range(1, 1001))"
   ]
  },
  {
   "cell_type": "code",
   "execution_count": 45,
   "metadata": {
    "ExecuteTime": {
     "end_time": "2020-01-07T11:10:04.053665Z",
     "start_time": "2020-01-07T11:10:03.947264Z"
    }
   },
   "outputs": [
    {
     "name": "stdout",
     "output_type": "stream",
     "text": [
      "8.87 ms ± 1.88 ms per loop (mean ± std. dev. of 7 runs, 2 loops each)\n"
     ]
    }
   ],
   "source": [
    "%%timeit -n2\n",
    "\n",
    "unique = []\n",
    "for element in ELEMENTS:\n",
    "    if element not in unique:\n",
    "        unique.append(element)"
   ]
  },
  {
   "cell_type": "markdown",
   "metadata": {
    "ExecuteTime": {
     "end_time": "2020-01-07T11:06:50.151697Z",
     "start_time": "2020-01-07T11:06:48.997383Z"
    }
   },
   "source": [
    "I szybki sposób"
   ]
  },
  {
   "cell_type": "code",
   "execution_count": 46,
   "metadata": {
    "ExecuteTime": {
     "end_time": "2020-01-07T11:10:17.982919Z",
     "start_time": "2020-01-07T11:10:17.964803Z"
    }
   },
   "outputs": [
    {
     "name": "stdout",
     "output_type": "stream",
     "text": [
      "18.3 µs ± 2.07 µs per loop (mean ± std. dev. of 7 runs, 2 loops each)\n"
     ]
    }
   ],
   "source": [
    "%timeit -n2 set(ELEMENTS)"
   ]
  },
  {
   "cell_type": "markdown",
   "metadata": {},
   "source": [
    "#### Sortowanie list"
   ]
  },
  {
   "cell_type": "code",
   "execution_count": 47,
   "metadata": {
    "ExecuteTime": {
     "end_time": "2020-01-07T11:16:44.955307Z",
     "start_time": "2020-01-07T11:16:44.791192Z"
    }
   },
   "outputs": [],
   "source": [
    "import random\n",
    "\n",
    "RANDOM_NUMBERS = [random.random() for i in range(1000000)]"
   ]
  },
  {
   "cell_type": "code",
   "execution_count": 48,
   "metadata": {
    "ExecuteTime": {
     "end_time": "2020-01-07T11:18:04.815866Z",
     "start_time": "2020-01-07T11:18:03.313129Z"
    }
   },
   "outputs": [
    {
     "name": "stdout",
     "output_type": "stream",
     "text": [
      "380 ms ± 6.76 ms per loop (mean ± std. dev. of 7 runs, 3 loops each)\n"
     ]
    }
   ],
   "source": [
    "%timeit -n3 sorted(RANDOM_NUMBERS)"
   ]
  },
  {
   "cell_type": "code",
   "execution_count": 49,
   "metadata": {
    "ExecuteTime": {
     "end_time": "2020-01-07T11:18:07.806832Z",
     "start_time": "2020-01-07T11:18:07.168145Z"
    }
   },
   "outputs": [
    {
     "name": "stdout",
     "output_type": "stream",
     "text": [
      "66.8 ms ± 37.1 ms per loop (mean ± std. dev. of 7 runs, 3 loops each)\n"
     ]
    }
   ],
   "source": [
    "%timeit -n3 RANDOM_NUMBERS.sort()"
   ]
  },
  {
   "cell_type": "markdown",
   "metadata": {},
   "source": [
    "#### Wiele operacji z jedną funkcją.\n"
   ]
  },
  {
   "cell_type": "code",
   "execution_count": 50,
   "metadata": {
    "ExecuteTime": {
     "end_time": "2020-01-07T11:20:26.625009Z",
     "start_time": "2020-01-07T11:20:26.621423Z"
    }
   },
   "outputs": [],
   "source": [
    "def kwadrat(n):\n",
    "    return n**2"
   ]
  },
  {
   "cell_type": "code",
   "execution_count": 51,
   "metadata": {
    "ExecuteTime": {
     "end_time": "2020-01-07T11:23:06.749832Z",
     "start_time": "2020-01-07T11:22:43.581142Z"
    }
   },
   "outputs": [
    {
     "name": "stdout",
     "output_type": "stream",
     "text": [
      "561 µs ± 3.97 µs per loop (mean ± std. dev. of 7 runs, 10000 loops each)\n"
     ]
    }
   ],
   "source": [
    "%timeit -n10000 [kwadrat(i) for i in range(1000)]"
   ]
  },
  {
   "cell_type": "code",
   "execution_count": 52,
   "metadata": {
    "ExecuteTime": {
     "end_time": "2020-01-07T11:23:07.822691Z",
     "start_time": "2020-01-07T11:23:07.816650Z"
    }
   },
   "outputs": [],
   "source": [
    "def oblicz_kwadraty():\n",
    "    return [i**2 for i in range(1000)]"
   ]
  },
  {
   "cell_type": "code",
   "execution_count": 53,
   "metadata": {
    "ExecuteTime": {
     "end_time": "2020-01-07T11:23:29.476913Z",
     "start_time": "2020-01-07T11:23:08.784257Z"
    }
   },
   "outputs": [
    {
     "name": "stdout",
     "output_type": "stream",
     "text": [
      "472 µs ± 1.7 µs per loop (mean ± std. dev. of 7 runs, 10000 loops each)\n"
     ]
    }
   ],
   "source": [
    "%timeit -n10000 oblicz_kwadraty()"
   ]
  },
  {
   "cell_type": "markdown",
   "metadata": {},
   "source": [
    "#### Instrukcje warunkowe, testowanie prawdy i fałszu, sprawdzanie czy struktury są puste czy nie"
   ]
  },
  {
   "cell_type": "code",
   "execution_count": 54,
   "metadata": {
    "ExecuteTime": {
     "end_time": "2020-01-07T12:24:55.149923Z",
     "start_time": "2020-01-07T12:24:55.146487Z"
    }
   },
   "outputs": [],
   "source": [
    "v1 = True\n",
    "v2 = False"
   ]
  },
  {
   "cell_type": "code",
   "execution_count": 55,
   "metadata": {
    "ExecuteTime": {
     "end_time": "2020-01-07T12:25:43.450223Z",
     "start_time": "2020-01-07T12:25:40.642285Z"
    }
   },
   "outputs": [
    {
     "name": "stdout",
     "output_type": "stream",
     "text": [
      "42.7 ns ± 0.48 ns per loop (mean ± std. dev. of 7 runs, 10000000 loops each)\n"
     ]
    }
   ],
   "source": [
    "%%timeit \n",
    "if v1 == True:\n",
    "    pass"
   ]
  },
  {
   "cell_type": "code",
   "execution_count": 56,
   "metadata": {
    "ExecuteTime": {
     "end_time": "2020-01-07T12:26:08.673916Z",
     "start_time": "2020-01-07T12:26:05.807823Z"
    }
   },
   "outputs": [
    {
     "name": "stdout",
     "output_type": "stream",
     "text": [
      "41.6 ns ± 1.35 ns per loop (mean ± std. dev. of 7 runs, 10000000 loops each)\n"
     ]
    }
   ],
   "source": [
    "%%timeit\n",
    "if v2 == True:\n",
    "    pass"
   ]
  },
  {
   "cell_type": "code",
   "execution_count": 57,
   "metadata": {
    "ExecuteTime": {
     "end_time": "2020-01-07T12:26:30.442884Z",
     "start_time": "2020-01-07T12:26:28.117792Z"
    }
   },
   "outputs": [
    {
     "name": "stdout",
     "output_type": "stream",
     "text": [
      "37.2 ns ± 0.318 ns per loop (mean ± std. dev. of 7 runs, 10000000 loops each)\n"
     ]
    }
   ],
   "source": [
    "%%timeit\n",
    "if v1 is True:\n",
    "    pass"
   ]
  },
  {
   "cell_type": "code",
   "execution_count": 58,
   "metadata": {
    "ExecuteTime": {
     "end_time": "2020-01-07T12:26:43.445618Z",
     "start_time": "2020-01-07T12:26:40.997601Z"
    }
   },
   "outputs": [
    {
     "name": "stdout",
     "output_type": "stream",
     "text": [
      "35.5 ns ± 1.77 ns per loop (mean ± std. dev. of 7 runs, 10000000 loops each)\n"
     ]
    }
   ],
   "source": [
    "%%timeit\n",
    "if v2 is True:\n",
    "    pass"
   ]
  },
  {
   "cell_type": "code",
   "execution_count": 59,
   "metadata": {
    "ExecuteTime": {
     "end_time": "2020-01-07T12:27:08.868784Z",
     "start_time": "2020-01-07T12:27:07.119252Z"
    }
   },
   "outputs": [
    {
     "name": "stdout",
     "output_type": "stream",
     "text": [
      "27.9 ns ± 0.404 ns per loop (mean ± std. dev. of 7 runs, 10000000 loops each)\n"
     ]
    }
   ],
   "source": [
    "%%timeit\n",
    "if v1:\n",
    "    pass"
   ]
  },
  {
   "cell_type": "code",
   "execution_count": 60,
   "metadata": {
    "ExecuteTime": {
     "end_time": "2020-01-07T12:27:11.988727Z",
     "start_time": "2020-01-07T12:27:10.196081Z"
    }
   },
   "outputs": [
    {
     "name": "stdout",
     "output_type": "stream",
     "text": [
      "24.7 ns ± 0.439 ns per loop (mean ± std. dev. of 7 runs, 10000000 loops each)\n"
     ]
    }
   ],
   "source": [
    "%%timeit\n",
    "if v2:\n",
    "    pass"
   ]
  },
  {
   "cell_type": "code",
   "execution_count": 61,
   "metadata": {
    "ExecuteTime": {
     "end_time": "2020-01-07T12:28:33.433601Z",
     "start_time": "2020-01-07T12:28:31.547571Z"
    }
   },
   "outputs": [
    {
     "name": "stdout",
     "output_type": "stream",
     "text": [
      "29.5 ns ± 2.05 ns per loop (mean ± std. dev. of 7 runs, 10000000 loops each)\n"
     ]
    }
   ],
   "source": [
    "%%timeit\n",
    "if not v2:\n",
    "    pass"
   ]
  },
  {
   "cell_type": "markdown",
   "metadata": {},
   "source": [
    "Podobnie możemy zoptymalizować czy struktury danych są puste"
   ]
  },
  {
   "cell_type": "code",
   "execution_count": null,
   "metadata": {
    "ExecuteTime": {
     "end_time": "2020-01-07T12:32:29.510798Z",
     "start_time": "2020-01-07T12:32:29.507866Z"
    }
   },
   "outputs": [],
   "source": [
    "lista = []"
   ]
  },
  {
   "cell_type": "code",
   "execution_count": null,
   "metadata": {
    "ExecuteTime": {
     "end_time": "2020-01-07T12:32:35.923375Z",
     "start_time": "2020-01-07T12:32:29.747520Z"
    }
   },
   "outputs": [],
   "source": [
    "%%timeit\n",
    "\n",
    "if len(lista) == 0:\n",
    "    pass"
   ]
  },
  {
   "cell_type": "code",
   "execution_count": null,
   "metadata": {
    "ExecuteTime": {
     "end_time": "2020-01-07T12:33:01.687271Z",
     "start_time": "2020-01-07T12:32:57.798178Z"
    }
   },
   "outputs": [],
   "source": [
    "%%timeit\n",
    "\n",
    "if lista == []:\n",
    "    pass"
   ]
  },
  {
   "cell_type": "code",
   "execution_count": null,
   "metadata": {
    "ExecuteTime": {
     "end_time": "2020-01-07T12:33:52.777895Z",
     "start_time": "2020-01-07T12:33:50.667585Z"
    }
   },
   "outputs": [],
   "source": [
    "%%timeit\n",
    "\n",
    "if not lista:\n",
    "    pass"
   ]
  },
  {
   "cell_type": "markdown",
   "metadata": {},
   "source": [
    "#### Czy jest różnica w szybkości między zwykłą funkcją a lambdą?\n"
   ]
  },
  {
   "cell_type": "code",
   "execution_count": null,
   "metadata": {
    "ExecuteTime": {
     "end_time": "2020-01-07T12:36:20.878781Z",
     "start_time": "2020-01-07T12:36:20.874982Z"
    }
   },
   "outputs": [],
   "source": [
    "def hello1(name):\n",
    "    return f\"Hello {name}\"\n",
    "\n",
    "hello2 = lambda name: f\"Hello {name}\""
   ]
  },
  {
   "cell_type": "code",
   "execution_count": null,
   "metadata": {
    "ExecuteTime": {
     "end_time": "2020-01-07T12:37:50.979078Z",
     "start_time": "2020-01-07T12:37:39.003954Z"
    }
   },
   "outputs": [],
   "source": [
    "%timeit hello1(\"Rafał\")"
   ]
  },
  {
   "cell_type": "code",
   "execution_count": null,
   "metadata": {
    "ExecuteTime": {
     "end_time": "2020-01-07T12:38:03.816503Z",
     "start_time": "2020-01-07T12:37:51.876024Z"
    }
   },
   "outputs": [],
   "source": [
    "%timeit hello2(\"Rafał\")"
   ]
  },
  {
   "cell_type": "code",
   "execution_count": null,
   "metadata": {
    "ExecuteTime": {
     "end_time": "2020-01-07T12:38:40.791951Z",
     "start_time": "2020-01-07T12:38:40.783491Z"
    }
   },
   "outputs": [],
   "source": [
    "import dis\n",
    "dis.dis(hello1)"
   ]
  },
  {
   "cell_type": "code",
   "execution_count": null,
   "metadata": {
    "ExecuteTime": {
     "end_time": "2020-01-07T12:38:46.964322Z",
     "start_time": "2020-01-07T12:38:46.958121Z"
    }
   },
   "outputs": [],
   "source": [
    "dis.dis(hello2)"
   ]
  },
  {
   "cell_type": "markdown",
   "metadata": {},
   "source": [
    "#### `list()` czy `[]`"
   ]
  },
  {
   "cell_type": "code",
   "execution_count": 62,
   "metadata": {
    "ExecuteTime": {
     "end_time": "2020-01-07T12:40:30.797379Z",
     "start_time": "2020-01-07T12:40:22.689969Z"
    }
   },
   "outputs": [
    {
     "name": "stdout",
     "output_type": "stream",
     "text": [
      "121 ns ± 0.843 ns per loop (mean ± std. dev. of 7 runs, 10000000 loops each)\n"
     ]
    }
   ],
   "source": [
    "%timeit list()"
   ]
  },
  {
   "cell_type": "code",
   "execution_count": 63,
   "metadata": {
    "ExecuteTime": {
     "end_time": "2020-01-07T12:40:37.483090Z",
     "start_time": "2020-01-07T12:40:35.634172Z"
    }
   },
   "outputs": [
    {
     "name": "stdout",
     "output_type": "stream",
     "text": [
      "27.7 ns ± 1.31 ns per loop (mean ± std. dev. of 7 runs, 10000000 loops each)\n"
     ]
    }
   ],
   "source": [
    "%timeit []"
   ]
  },
  {
   "cell_type": "code",
   "execution_count": 64,
   "metadata": {
    "ExecuteTime": {
     "end_time": "2020-01-07T12:41:15.387152Z",
     "start_time": "2020-01-07T12:41:15.375161Z"
    }
   },
   "outputs": [
    {
     "name": "stdout",
     "output_type": "stream",
     "text": [
      "  1           0 BUILD_LIST               0\n",
      "              2 RETURN_VALUE\n"
     ]
    }
   ],
   "source": [
    "dis.dis('[]')"
   ]
  },
  {
   "cell_type": "code",
   "execution_count": 65,
   "metadata": {
    "ExecuteTime": {
     "end_time": "2020-01-07T12:41:25.926791Z",
     "start_time": "2020-01-07T12:41:25.921964Z"
    }
   },
   "outputs": [
    {
     "name": "stdout",
     "output_type": "stream",
     "text": [
      "  1           0 LOAD_NAME                0 (list)\n",
      "              2 CALL_FUNCTION            0\n",
      "              4 RETURN_VALUE\n"
     ]
    }
   ],
   "source": [
    "dis.dis('list()')"
   ]
  },
  {
   "cell_type": "code",
   "execution_count": 66,
   "metadata": {
    "ExecuteTime": {
     "end_time": "2020-01-07T12:41:57.917928Z",
     "start_time": "2020-01-07T12:41:49.578479Z"
    }
   },
   "outputs": [
    {
     "name": "stdout",
     "output_type": "stream",
     "text": [
      "137 ns ± 3.93 ns per loop (mean ± std. dev. of 7 runs, 10000000 loops each)\n"
     ]
    }
   ],
   "source": [
    "%timeit dict()"
   ]
  },
  {
   "cell_type": "code",
   "execution_count": 67,
   "metadata": {
    "ExecuteTime": {
     "end_time": "2020-01-07T12:42:01.265723Z",
     "start_time": "2020-01-07T12:41:57.920989Z"
    }
   },
   "outputs": [
    {
     "name": "stdout",
     "output_type": "stream",
     "text": [
      "45.8 ns ± 2.37 ns per loop (mean ± std. dev. of 7 runs, 10000000 loops each)\n"
     ]
    }
   ],
   "source": [
    "%timeit {}"
   ]
  },
  {
   "cell_type": "markdown",
   "metadata": {},
   "source": [
    "#### Sloty w klasach\n",
    "\n",
    "Klasy w zasadzie oferują nam możliwość dynamicznego tworzenia atrybutów. Ma to z pewnością swoje zalety, ale może prowadzić do problemów z pamięcią. Słownik to dynamiczna struktura. Czy da się tak zdefiniować klasę, by możliwe było korzystanie z tylko określonych atrybutów? Tak. Służy do tego specjalny atrybut `__slots__`. "
   ]
  },
  {
   "cell_type": "code",
   "execution_count": 68,
   "metadata": {
    "ExecuteTime": {
     "end_time": "2020-01-07T12:47:25.478473Z",
     "start_time": "2020-01-07T12:47:25.470137Z"
    }
   },
   "outputs": [],
   "source": [
    "class MyClass1(object):\n",
    "    def __init__(self, name, identifier):\n",
    "        self.name = name\n",
    "        self.identifier = identifier\n",
    "\n",
    "    def hello(self):\n",
    "        print(\"Hello\")"
   ]
  },
  {
   "cell_type": "code",
   "execution_count": 69,
   "metadata": {
    "ExecuteTime": {
     "end_time": "2020-01-07T12:47:26.030857Z",
     "start_time": "2020-01-07T12:47:26.026672Z"
    }
   },
   "outputs": [],
   "source": [
    "class MyClass2(object):\n",
    "    __slots__ = ['name', 'identifier']\n",
    "\n",
    "    def __init__(self, name, identifier):\n",
    "        self.name = name\n",
    "        self.identifier = identifier\n",
    "\n",
    "    def hello(self):\n",
    "        print(\"Hello\")"
   ]
  },
  {
   "cell_type": "code",
   "execution_count": null,
   "metadata": {
    "ExecuteTime": {
     "end_time": "2020-01-07T12:47:29.524004Z",
     "start_time": "2020-01-07T12:47:27.170885Z"
    }
   },
   "outputs": [],
   "source": [
    "%timeit MyClass1(\"a\", 1)"
   ]
  },
  {
   "cell_type": "code",
   "execution_count": null,
   "metadata": {
    "ExecuteTime": {
     "end_time": "2020-01-07T12:47:31.995795Z",
     "start_time": "2020-01-07T12:47:30.124211Z"
    }
   },
   "outputs": [],
   "source": [
    "%timeit MyClass2(\"a\", 1)"
   ]
  },
  {
   "cell_type": "code",
   "execution_count": null,
   "metadata": {
    "ExecuteTime": {
     "end_time": "2020-01-07T12:47:35.241964Z",
     "start_time": "2020-01-07T12:47:32.770917Z"
    }
   },
   "outputs": [],
   "source": [
    "%timeit MyClass1('a', 1).name"
   ]
  },
  {
   "cell_type": "code",
   "execution_count": null,
   "metadata": {
    "ExecuteTime": {
     "end_time": "2020-01-07T12:47:37.881025Z",
     "start_time": "2020-01-07T12:47:35.822696Z"
    }
   },
   "outputs": [],
   "source": [
    "%timeit MyClass2('a', 1).name"
   ]
  },
  {
   "cell_type": "markdown",
   "metadata": {},
   "source": [
    "##### Zbadajmy zużycie pamięci"
   ]
  },
  {
   "cell_type": "code",
   "execution_count": null,
   "metadata": {
    "ExecuteTime": {
     "end_time": "2020-01-07T12:53:22.352009Z",
     "start_time": "2020-01-07T12:53:22.343858Z"
    }
   },
   "outputs": [],
   "source": [
    "# !pip install ipython_memory_usage"
   ]
  },
  {
   "cell_type": "code",
   "execution_count": null,
   "metadata": {
    "ExecuteTime": {
     "end_time": "2020-01-07T12:54:00.190134Z",
     "start_time": "2020-01-07T12:54:00.051816Z"
    }
   },
   "outputs": [],
   "source": [
    "import ipython_memory_usage.ipython_memory_usage as imu"
   ]
  },
  {
   "cell_type": "code",
   "execution_count": null,
   "metadata": {
    "ExecuteTime": {
     "end_time": "2020-01-07T12:54:01.298369Z",
     "start_time": "2020-01-07T12:54:01.193194Z"
    }
   },
   "outputs": [],
   "source": [
    "imu.start_watching_memory()"
   ]
  },
  {
   "cell_type": "code",
   "execution_count": null,
   "metadata": {
    "ExecuteTime": {
     "end_time": "2020-01-07T13:00:31.417301Z",
     "start_time": "2020-01-07T13:00:31.308707Z"
    }
   },
   "outputs": [],
   "source": [
    "%%writefile slots.py\n",
    "class MyClass(object):\n",
    "        __slots__ = ['name', 'identifier']\n",
    "        def __init__(self, name, identifier):\n",
    "                self.name = name\n",
    "                self.identifier = identifier\n",
    "\n",
    "num = 1024*256\n",
    "x = [MyClass(1,1) for i in range(num)]"
   ]
  },
  {
   "cell_type": "code",
   "execution_count": null,
   "metadata": {
    "ExecuteTime": {
     "end_time": "2020-01-07T13:00:36.831709Z",
     "start_time": "2020-01-07T13:00:36.724055Z"
    }
   },
   "outputs": [],
   "source": [
    "%%writefile noslots.py\n",
    "class MyClass(object):\n",
    "        def __init__(self, name, identifier):\n",
    "                self.name = name\n",
    "                self.identifier = identifier\n",
    "\n",
    "num = 1024*256\n",
    "x = [MyClass(1,1) for i in range(num)]"
   ]
  },
  {
   "cell_type": "code",
   "execution_count": null,
   "metadata": {
    "ExecuteTime": {
     "end_time": "2020-01-07T13:00:40.459737Z",
     "start_time": "2020-01-07T13:00:40.017982Z"
    }
   },
   "outputs": [],
   "source": [
    "import slots"
   ]
  },
  {
   "cell_type": "code",
   "execution_count": null,
   "metadata": {
    "ExecuteTime": {
     "end_time": "2020-01-07T13:00:47.290800Z",
     "start_time": "2020-01-07T13:00:46.609400Z"
    }
   },
   "outputs": [],
   "source": [
    "import noslots"
   ]
  },
  {
   "cell_type": "code",
   "execution_count": null,
   "metadata": {
    "ExecuteTime": {
     "end_time": "2020-01-07T13:28:46.995377Z",
     "start_time": "2020-01-07T13:28:46.990059Z"
    }
   },
   "outputs": [],
   "source": [
    "imu.stop_watching_memory()"
   ]
  },
  {
   "cell_type": "code",
   "execution_count": null,
   "metadata": {},
   "outputs": [],
   "source": []
  },
  {
   "cell_type": "markdown",
   "metadata": {},
   "source": [
    "#### Przykład. Łączenie napisów"
   ]
  },
  {
   "cell_type": "code",
   "execution_count": null,
   "metadata": {
    "ExecuteTime": {
     "end_time": "2020-01-07T11:05:36.089256Z",
     "start_time": "2020-01-07T11:05:35.925002Z"
    }
   },
   "outputs": [],
   "source": [
    "text = [str(x) for x in range(600000)]"
   ]
  },
  {
   "cell_type": "code",
   "execution_count": null,
   "metadata": {
    "ExecuteTime": {
     "end_time": "2020-01-07T11:05:36.097970Z",
     "start_time": "2020-01-07T11:05:36.092211Z"
    }
   },
   "outputs": [],
   "source": [
    "def for_concat(lista):\n",
    "    x = \"\"\n",
    "    for i in lista:\n",
    "        x += i\n",
    "    return x"
   ]
  },
  {
   "cell_type": "code",
   "execution_count": null,
   "metadata": {
    "ExecuteTime": {
     "end_time": "2020-01-07T11:05:40.399993Z",
     "start_time": "2020-01-07T11:05:36.101913Z"
    }
   },
   "outputs": [],
   "source": [
    "%timeit -n10 x = for_concat(text)\n"
   ]
  },
  {
   "cell_type": "code",
   "execution_count": null,
   "metadata": {
    "ExecuteTime": {
     "end_time": "2020-01-07T11:05:41.067072Z",
     "start_time": "2020-01-07T11:05:40.402560Z"
    }
   },
   "outputs": [],
   "source": [
    "timeit -n10 x = \"\".join(text)"
   ]
  },
  {
   "cell_type": "code",
   "execution_count": 70,
   "metadata": {
    "ExecuteTime": {
     "end_time": "2020-01-07T11:05:41.074681Z",
     "start_time": "2020-01-07T11:05:41.070244Z"
    }
   },
   "outputs": [],
   "source": [
    "my_var = \"my\"\n",
    "my_var1 = \"1\"\n",
    "my_var2 = \"3 4\"\n"
   ]
  },
  {
   "cell_type": "code",
   "execution_count": null,
   "metadata": {},
   "outputs": [],
   "source": []
  },
  {
   "cell_type": "code",
   "execution_count": 71,
   "metadata": {
    "ExecuteTime": {
     "end_time": "2020-01-07T11:05:42.644172Z",
     "start_time": "2020-01-07T11:05:41.078075Z"
    }
   },
   "outputs": [
    {
     "name": "stdout",
     "output_type": "stream",
     "text": [
      "331 ns ± 15.6 ns per loop (mean ± std. dev. of 7 runs, 1000000 loops each)\n"
     ]
    }
   ],
   "source": [
    "%timeit -n1000000 msg = 'hello ' + my_var + ' world' + my_var1 + my_var2"
   ]
  },
  {
   "cell_type": "code",
   "execution_count": 72,
   "metadata": {
    "ExecuteTime": {
     "end_time": "2020-01-07T11:05:44.629772Z",
     "start_time": "2020-01-07T11:05:42.646650Z"
    }
   },
   "outputs": [
    {
     "name": "stdout",
     "output_type": "stream",
     "text": [
      "501 ns ± 7.13 ns per loop (mean ± std. dev. of 7 runs, 1000000 loops each)\n"
     ]
    }
   ],
   "source": [
    "%timeit -n1000000 msg = 'hello %s world %s %s' % (my_var, my_var1, my_var2)"
   ]
  },
  {
   "cell_type": "code",
   "execution_count": 73,
   "metadata": {
    "ExecuteTime": {
     "end_time": "2020-01-07T11:05:46.930194Z",
     "start_time": "2020-01-07T11:05:44.633341Z"
    }
   },
   "outputs": [
    {
     "name": "stdout",
     "output_type": "stream",
     "text": [
      "540 ns ± 9.65 ns per loop (mean ± std. dev. of 7 runs, 1000000 loops each)\n"
     ]
    }
   ],
   "source": [
    "\n",
    "%timeit -n1000000 msg = 'hello {} world {} {}'.format(my_var, my_var1, my_var2) "
   ]
  },
  {
   "cell_type": "code",
   "execution_count": 74,
   "metadata": {
    "ExecuteTime": {
     "end_time": "2020-01-07T11:05:48.015433Z",
     "start_time": "2020-01-07T11:05:46.935517Z"
    },
    "scrolled": true
   },
   "outputs": [
    {
     "name": "stdout",
     "output_type": "stream",
     "text": [
      "243 ns ± 12.6 ns per loop (mean ± std. dev. of 7 runs, 1000000 loops each)\n"
     ]
    }
   ],
   "source": [
    "%timeit -n1000000 msg = f'hello {my_var} world {my_var1} {my_var2}'"
   ]
  },
  {
   "cell_type": "markdown",
   "metadata": {},
   "source": [
    "#### Zliczanie linii w pliku - różne optymalizacje"
   ]
  },
  {
   "cell_type": "code",
   "execution_count": null,
   "metadata": {
    "ExecuteTime": {
     "end_time": "2020-01-07T23:55:01.530163Z",
     "start_time": "2020-01-07T23:54:53.649869Z"
    }
   },
   "outputs": [],
   "source": [
    "import mmap\n",
    "import numpy as np\n",
    "import pandas as pd\n",
    "import time\n",
    "import mmap\n",
    "import random\n",
    "from collections import defaultdict\n",
    "\n",
    "\n",
    "filename = \"data/PESEL_NAZWISKA.csv\"  # 298127 linii\n",
    "\n",
    "\n",
    "def simplecount(filename):\n",
    "    lines = 0\n",
    "    with open(filename) as f:\n",
    "        for line in f:\n",
    "            lines += 1\n",
    "    return lines\n",
    "\n",
    "\n",
    "def simplecount2(filename):\n",
    "    with open(filename) as f:\n",
    "        lines = sum(1 for line in f)\n",
    "    return lines\n",
    "\n",
    "\n",
    "def enumerate_count(fname):\n",
    "    with open(fname) as f:\n",
    "        for i, l in enumerate(f):\n",
    "            pass\n",
    "    return i + 1\n",
    "\n",
    "\n",
    "def mapcount(filename):\n",
    "    lines = 0\n",
    "    with open(filename) as f:\n",
    "        buf = mmap.mmap(f.fileno(), 0, prot=mmap.PROT_READ)\n",
    "        readline = buf.readline\n",
    "        while readline():\n",
    "            lines += 1\n",
    "    return lines\n",
    "\n",
    "\n",
    "def bufcount(filename):\n",
    "    lines = 0\n",
    "    buf_size = 1024 * 1024\n",
    "\n",
    "    with open(filename) as f:\n",
    "        lines = 0\n",
    "        read_f = f.read  # loop optimization\n",
    "        buf = read_f(buf_size)\n",
    "        while buf:\n",
    "            lines += buf.count('\\n')\n",
    "            buf = read_f(buf_size)\n",
    "    return lines\n",
    "\n",
    "\n",
    "def numpy_count(filename):\n",
    "    my_data = np.genfromtxt(filename, delimiter=',')\n",
    "    return my_data.shape[0]\n",
    "\n",
    "\n",
    "def pd_read(filename):\n",
    "    df = pd.read_csv(filename)\n",
    "    return df.shape[0] + 1\n",
    "\n",
    "\n",
    "methods = [\n",
    "    simplecount,\n",
    "    simplecount2,\n",
    "    enumerate_count,\n",
    "    mapcount,\n",
    "    bufcount,\n",
    "    numpy_count,\n",
    "    pd_read,\n",
    "\n",
    "\n",
    "]\n",
    "\n",
    "counts = defaultdict(list)\n",
    "\n",
    "for i in range(5):\n",
    "    for func in methods:\n",
    "        start_time = time.time()\n",
    "        assert func(\"data/PESEL_NAZWISKA.csv\") == 298127\n",
    "        counts[func].append(time.time() - start_time)\n",
    "\n",
    "for key, vals in counts.items():\n",
    "    print(key.__name__, \":\", sum(vals) / float(len(vals)))"
   ]
  },
  {
   "cell_type": "markdown",
   "metadata": {},
   "source": [
    "#### Optymalizacje, które trzeba stosować ze szczególną uwagą:\n",
    "\n",
    "##### przypisywanie wartości do zmiennych"
   ]
  },
  {
   "cell_type": "code",
   "execution_count": null,
   "metadata": {},
   "outputs": [],
   "source": []
  },
  {
   "cell_type": "code",
   "execution_count": null,
   "metadata": {
    "ExecuteTime": {
     "end_time": "2020-01-07T13:29:52.359143Z",
     "start_time": "2020-01-07T13:29:47.954141Z"
    }
   },
   "outputs": [],
   "source": [
    "%%timeit\n",
    "q=1\n",
    "w=1\n",
    "e=1\n",
    "r=1\n",
    "t=1\n",
    "y=1\n",
    "u=1\n",
    "i=1\n",
    "o=1\n",
    "p=1"
   ]
  },
  {
   "cell_type": "code",
   "execution_count": null,
   "metadata": {
    "ExecuteTime": {
     "end_time": "2020-01-07T13:29:57.488458Z",
     "start_time": "2020-01-07T13:29:53.104625Z"
    }
   },
   "outputs": [],
   "source": [
    "%%timeit\n",
    "q,w,e,r,t,y,u,i,o,p = 1,1,1,1,1,1,1,1,1,1"
   ]
  },
  {
   "cell_type": "markdown",
   "metadata": {},
   "source": [
    "W Pythonie 3.8 już nie widać tutaj różnicy. We wcześniejszych wersjach mogła być dostrzegalna.\n",
    "\n",
    "##### Przestrzenie nazw\n",
    "\n",
    "Poruszanie się po przestrzeniach nazw też może mieć wpływ na wydajność:"
   ]
  },
  {
   "cell_type": "code",
   "execution_count": null,
   "metadata": {
    "ExecuteTime": {
     "end_time": "2020-01-07T13:34:23.818089Z",
     "start_time": "2020-01-07T13:34:23.813970Z"
    }
   },
   "outputs": [],
   "source": [
    "def kwadraty_v1(lista):\n",
    "    output = []\n",
    "    for element in lista:\n",
    "        output.append(element**2)\n",
    "    return output"
   ]
  },
  {
   "cell_type": "code",
   "execution_count": null,
   "metadata": {
    "ExecuteTime": {
     "end_time": "2020-01-07T13:35:12.778418Z",
     "start_time": "2020-01-07T13:35:12.771191Z"
    }
   },
   "outputs": [],
   "source": [
    "def kwadraty_v2(lista):\n",
    "    output = []\n",
    "    append = output.append  # Tu dzieje się magia\n",
    "    for element in lista:\n",
    "        append(element**2)\n",
    "    return output"
   ]
  },
  {
   "cell_type": "code",
   "execution_count": null,
   "metadata": {
    "ExecuteTime": {
     "end_time": "2020-01-07T13:36:51.198899Z",
     "start_time": "2020-01-07T13:36:28.772664Z"
    }
   },
   "outputs": [],
   "source": [
    "%timeit -n10 kwadraty_v1(MILLION_ELEMENTS)"
   ]
  },
  {
   "cell_type": "code",
   "execution_count": null,
   "metadata": {
    "ExecuteTime": {
     "end_time": "2020-01-07T13:37:12.257724Z",
     "start_time": "2020-01-07T13:36:51.201375Z"
    }
   },
   "outputs": [],
   "source": [
    "%timeit -n10 kwadraty_v2(MILLION_ELEMENTS)"
   ]
  },
  {
   "cell_type": "markdown",
   "metadata": {},
   "source": [
    "Jak widać jest trochę szybciej.. ale też jest mniej czytelnie."
   ]
  },
  {
   "cell_type": "markdown",
   "metadata": {
    "ExecuteTime": {
     "end_time": "2020-01-07T13:45:23.710297Z",
     "start_time": "2020-01-07T13:45:23.707393Z"
    }
   },
   "source": [
    "### Profilowanie\n",
    "\n",
    "Zadanie\n",
    "\n",
    "1. Wczytaj listę filmów z pliku data/movies.txt (na początku - do testów weź pierwszych 5000 filmów, gdy kod będzie działąć szybko dodaj kolejne)\n",
    "2. Zwróć listę tytułów występujących więcej niż raz\n",
    "3. Wyszukiwanie powinno być nieczułe na wielkość liter\n"
   ]
  },
  {
   "cell_type": "markdown",
   "metadata": {},
   "source": [
    "Do tego zadania potrzebna nam będzie umiejetność korzystania z profilera. To taki specjalny program, który pozwala nam oszacować różne parametry związane z wykonywaniem naszych programów - np. czas w jakim się wykonuje całość i poszczególne funkcje w ramach programu\n",
    "\n",
    "Wykorzystamy do tego dekorator"
   ]
  },
  {
   "cell_type": "code",
   "execution_count": 75,
   "metadata": {
    "ExecuteTime": {
     "end_time": "2020-01-07T19:42:56.486351Z",
     "start_time": "2020-01-07T19:42:56.479987Z"
    }
   },
   "outputs": [],
   "source": [
    "import cProfile, pstats, io\n",
    "\n",
    "def profile(func):\n",
    "    \"\"\"A decorator that uses cProfile to profile a function\"\"\"\n",
    "    \n",
    "    def wrapper(*args, **kwargs):\n",
    "        pr = cProfile.Profile()\n",
    "        pr.enable()\n",
    "        retval = func(*args, **kwargs)\n",
    "        pr.disable()\n",
    "        s = io.StringIO()\n",
    "        sortby = \"cumulative\"\n",
    "        ps = pstats.Stats(pr, stream=s).sort_stats(sortby)\n",
    "        ps.print_stats()\n",
    "        print(s.getvalue())\n",
    "        return retval\n",
    "    return wrapper"
   ]
  },
  {
   "cell_type": "code",
   "execution_count": 76,
   "metadata": {
    "ExecuteTime": {
     "end_time": "2020-01-07T19:48:12.718411Z",
     "start_time": "2020-01-07T19:48:07.089188Z"
    }
   },
   "outputs": [
    {
     "name": "stdout",
     "output_type": "stream",
     "text": [
      "         10001 function calls in 75.652 seconds\n",
      "\n",
      "   Ordered by: cumulative time\n",
      "\n",
      "   ncalls  tottime  percall  cumtime  percall filename:lineno(function)\n",
      "        1    0.093    0.093   75.652   75.652 <ipython-input-76-7a698e362e27>:3(list_to_str)\n",
      "     4999   75.553    0.015   75.553    0.015 {built-in method time.sleep}\n",
      "     4999    0.005    0.000    0.005    0.000 {method 'append' of 'list' objects}\n",
      "        1    0.000    0.000    0.000    0.000 {method 'join' of 'str' objects}\n",
      "        1    0.000    0.000    0.000    0.000 {method 'disable' of '_lsprof.Profiler' objects}\n",
      "\n",
      "\n",
      "\n"
     ]
    },
    {
     "data": {
      "text/plain": [
       "'1\\n2\\n3\\n4\\n5\\n6\\n7\\n8\\n9\\n10\\n11\\n12\\n13\\n14\\n15\\n16\\n17\\n18\\n19\\n20\\n21\\n22\\n23\\n24\\n25\\n26\\n27\\n28\\n29\\n30\\n31\\n32\\n33\\n34\\n35\\n36\\n37\\n38\\n39\\n40\\n41\\n42\\n43\\n44\\n45\\n46\\n47\\n48\\n49\\n50\\n51\\n52\\n53\\n54\\n55\\n56\\n57\\n58\\n59\\n60\\n61\\n62\\n63\\n64\\n65\\n66\\n67\\n68\\n69\\n70\\n71\\n72\\n73\\n74\\n75\\n76\\n77\\n78\\n79\\n80\\n81\\n82\\n83\\n84\\n85\\n86\\n87\\n88\\n89\\n90\\n91\\n92\\n93\\n94\\n95\\n96\\n97\\n98\\n99\\n100\\n101\\n102\\n103\\n104\\n105\\n106\\n107\\n108\\n109\\n110\\n111\\n112\\n113\\n114\\n115\\n116\\n117\\n118\\n119\\n120\\n121\\n122\\n123\\n124\\n125\\n126\\n127\\n128\\n129\\n130\\n131\\n132\\n133\\n134\\n135\\n136\\n137\\n138\\n139\\n140\\n141\\n142\\n143\\n144\\n145\\n146\\n147\\n148\\n149\\n150\\n151\\n152\\n153\\n154\\n155\\n156\\n157\\n158\\n159\\n160\\n161\\n162\\n163\\n164\\n165\\n166\\n167\\n168\\n169\\n170\\n171\\n172\\n173\\n174\\n175\\n176\\n177\\n178\\n179\\n180\\n181\\n182\\n183\\n184\\n185\\n186\\n187\\n188\\n189\\n190\\n191\\n192\\n193\\n194\\n195\\n196\\n197\\n198\\n199\\n200\\n201\\n202\\n203\\n204\\n205\\n206\\n207\\n208\\n209\\n210\\n211\\n212\\n213\\n214\\n215\\n216\\n217\\n218\\n219\\n220\\n221\\n222\\n223\\n224\\n225\\n226\\n227\\n228\\n229\\n230\\n231\\n232\\n233\\n234\\n235\\n236\\n237\\n238\\n239\\n240\\n241\\n242\\n243\\n244\\n245\\n246\\n247\\n248\\n249\\n250\\n251\\n252\\n253\\n254\\n255\\n256\\n257\\n258\\n259\\n260\\n261\\n262\\n263\\n264\\n265\\n266\\n267\\n268\\n269\\n270\\n271\\n272\\n273\\n274\\n275\\n276\\n277\\n278\\n279\\n280\\n281\\n282\\n283\\n284\\n285\\n286\\n287\\n288\\n289\\n290\\n291\\n292\\n293\\n294\\n295\\n296\\n297\\n298\\n299\\n300\\n301\\n302\\n303\\n304\\n305\\n306\\n307\\n308\\n309\\n310\\n311\\n312\\n313\\n314\\n315\\n316\\n317\\n318\\n319\\n320\\n321\\n322\\n323\\n324\\n325\\n326\\n327\\n328\\n329\\n330\\n331\\n332\\n333\\n334\\n335\\n336\\n337\\n338\\n339\\n340\\n341\\n342\\n343\\n344\\n345\\n346\\n347\\n348\\n349\\n350\\n351\\n352\\n353\\n354\\n355\\n356\\n357\\n358\\n359\\n360\\n361\\n362\\n363\\n364\\n365\\n366\\n367\\n368\\n369\\n370\\n371\\n372\\n373\\n374\\n375\\n376\\n377\\n378\\n379\\n380\\n381\\n382\\n383\\n384\\n385\\n386\\n387\\n388\\n389\\n390\\n391\\n392\\n393\\n394\\n395\\n396\\n397\\n398\\n399\\n400\\n401\\n402\\n403\\n404\\n405\\n406\\n407\\n408\\n409\\n410\\n411\\n412\\n413\\n414\\n415\\n416\\n417\\n418\\n419\\n420\\n421\\n422\\n423\\n424\\n425\\n426\\n427\\n428\\n429\\n430\\n431\\n432\\n433\\n434\\n435\\n436\\n437\\n438\\n439\\n440\\n441\\n442\\n443\\n444\\n445\\n446\\n447\\n448\\n449\\n450\\n451\\n452\\n453\\n454\\n455\\n456\\n457\\n458\\n459\\n460\\n461\\n462\\n463\\n464\\n465\\n466\\n467\\n468\\n469\\n470\\n471\\n472\\n473\\n474\\n475\\n476\\n477\\n478\\n479\\n480\\n481\\n482\\n483\\n484\\n485\\n486\\n487\\n488\\n489\\n490\\n491\\n492\\n493\\n494\\n495\\n496\\n497\\n498\\n499\\n500\\n501\\n502\\n503\\n504\\n505\\n506\\n507\\n508\\n509\\n510\\n511\\n512\\n513\\n514\\n515\\n516\\n517\\n518\\n519\\n520\\n521\\n522\\n523\\n524\\n525\\n526\\n527\\n528\\n529\\n530\\n531\\n532\\n533\\n534\\n535\\n536\\n537\\n538\\n539\\n540\\n541\\n542\\n543\\n544\\n545\\n546\\n547\\n548\\n549\\n550\\n551\\n552\\n553\\n554\\n555\\n556\\n557\\n558\\n559\\n560\\n561\\n562\\n563\\n564\\n565\\n566\\n567\\n568\\n569\\n570\\n571\\n572\\n573\\n574\\n575\\n576\\n577\\n578\\n579\\n580\\n581\\n582\\n583\\n584\\n585\\n586\\n587\\n588\\n589\\n590\\n591\\n592\\n593\\n594\\n595\\n596\\n597\\n598\\n599\\n600\\n601\\n602\\n603\\n604\\n605\\n606\\n607\\n608\\n609\\n610\\n611\\n612\\n613\\n614\\n615\\n616\\n617\\n618\\n619\\n620\\n621\\n622\\n623\\n624\\n625\\n626\\n627\\n628\\n629\\n630\\n631\\n632\\n633\\n634\\n635\\n636\\n637\\n638\\n639\\n640\\n641\\n642\\n643\\n644\\n645\\n646\\n647\\n648\\n649\\n650\\n651\\n652\\n653\\n654\\n655\\n656\\n657\\n658\\n659\\n660\\n661\\n662\\n663\\n664\\n665\\n666\\n667\\n668\\n669\\n670\\n671\\n672\\n673\\n674\\n675\\n676\\n677\\n678\\n679\\n680\\n681\\n682\\n683\\n684\\n685\\n686\\n687\\n688\\n689\\n690\\n691\\n692\\n693\\n694\\n695\\n696\\n697\\n698\\n699\\n700\\n701\\n702\\n703\\n704\\n705\\n706\\n707\\n708\\n709\\n710\\n711\\n712\\n713\\n714\\n715\\n716\\n717\\n718\\n719\\n720\\n721\\n722\\n723\\n724\\n725\\n726\\n727\\n728\\n729\\n730\\n731\\n732\\n733\\n734\\n735\\n736\\n737\\n738\\n739\\n740\\n741\\n742\\n743\\n744\\n745\\n746\\n747\\n748\\n749\\n750\\n751\\n752\\n753\\n754\\n755\\n756\\n757\\n758\\n759\\n760\\n761\\n762\\n763\\n764\\n765\\n766\\n767\\n768\\n769\\n770\\n771\\n772\\n773\\n774\\n775\\n776\\n777\\n778\\n779\\n780\\n781\\n782\\n783\\n784\\n785\\n786\\n787\\n788\\n789\\n790\\n791\\n792\\n793\\n794\\n795\\n796\\n797\\n798\\n799\\n800\\n801\\n802\\n803\\n804\\n805\\n806\\n807\\n808\\n809\\n810\\n811\\n812\\n813\\n814\\n815\\n816\\n817\\n818\\n819\\n820\\n821\\n822\\n823\\n824\\n825\\n826\\n827\\n828\\n829\\n830\\n831\\n832\\n833\\n834\\n835\\n836\\n837\\n838\\n839\\n840\\n841\\n842\\n843\\n844\\n845\\n846\\n847\\n848\\n849\\n850\\n851\\n852\\n853\\n854\\n855\\n856\\n857\\n858\\n859\\n860\\n861\\n862\\n863\\n864\\n865\\n866\\n867\\n868\\n869\\n870\\n871\\n872\\n873\\n874\\n875\\n876\\n877\\n878\\n879\\n880\\n881\\n882\\n883\\n884\\n885\\n886\\n887\\n888\\n889\\n890\\n891\\n892\\n893\\n894\\n895\\n896\\n897\\n898\\n899\\n900\\n901\\n902\\n903\\n904\\n905\\n906\\n907\\n908\\n909\\n910\\n911\\n912\\n913\\n914\\n915\\n916\\n917\\n918\\n919\\n920\\n921\\n922\\n923\\n924\\n925\\n926\\n927\\n928\\n929\\n930\\n931\\n932\\n933\\n934\\n935\\n936\\n937\\n938\\n939\\n940\\n941\\n942\\n943\\n944\\n945\\n946\\n947\\n948\\n949\\n950\\n951\\n952\\n953\\n954\\n955\\n956\\n957\\n958\\n959\\n960\\n961\\n962\\n963\\n964\\n965\\n966\\n967\\n968\\n969\\n970\\n971\\n972\\n973\\n974\\n975\\n976\\n977\\n978\\n979\\n980\\n981\\n982\\n983\\n984\\n985\\n986\\n987\\n988\\n989\\n990\\n991\\n992\\n993\\n994\\n995\\n996\\n997\\n998\\n999\\n1000\\n1001\\n1002\\n1003\\n1004\\n1005\\n1006\\n1007\\n1008\\n1009\\n1010\\n1011\\n1012\\n1013\\n1014\\n1015\\n1016\\n1017\\n1018\\n1019\\n1020\\n1021\\n1022\\n1023\\n1024\\n1025\\n1026\\n1027\\n1028\\n1029\\n1030\\n1031\\n1032\\n1033\\n1034\\n1035\\n1036\\n1037\\n1038\\n1039\\n1040\\n1041\\n1042\\n1043\\n1044\\n1045\\n1046\\n1047\\n1048\\n1049\\n1050\\n1051\\n1052\\n1053\\n1054\\n1055\\n1056\\n1057\\n1058\\n1059\\n1060\\n1061\\n1062\\n1063\\n1064\\n1065\\n1066\\n1067\\n1068\\n1069\\n1070\\n1071\\n1072\\n1073\\n1074\\n1075\\n1076\\n1077\\n1078\\n1079\\n1080\\n1081\\n1082\\n1083\\n1084\\n1085\\n1086\\n1087\\n1088\\n1089\\n1090\\n1091\\n1092\\n1093\\n1094\\n1095\\n1096\\n1097\\n1098\\n1099\\n1100\\n1101\\n1102\\n1103\\n1104\\n1105\\n1106\\n1107\\n1108\\n1109\\n1110\\n1111\\n1112\\n1113\\n1114\\n1115\\n1116\\n1117\\n1118\\n1119\\n1120\\n1121\\n1122\\n1123\\n1124\\n1125\\n1126\\n1127\\n1128\\n1129\\n1130\\n1131\\n1132\\n1133\\n1134\\n1135\\n1136\\n1137\\n1138\\n1139\\n1140\\n1141\\n1142\\n1143\\n1144\\n1145\\n1146\\n1147\\n1148\\n1149\\n1150\\n1151\\n1152\\n1153\\n1154\\n1155\\n1156\\n1157\\n1158\\n1159\\n1160\\n1161\\n1162\\n1163\\n1164\\n1165\\n1166\\n1167\\n1168\\n1169\\n1170\\n1171\\n1172\\n1173\\n1174\\n1175\\n1176\\n1177\\n1178\\n1179\\n1180\\n1181\\n1182\\n1183\\n1184\\n1185\\n1186\\n1187\\n1188\\n1189\\n1190\\n1191\\n1192\\n1193\\n1194\\n1195\\n1196\\n1197\\n1198\\n1199\\n1200\\n1201\\n1202\\n1203\\n1204\\n1205\\n1206\\n1207\\n1208\\n1209\\n1210\\n1211\\n1212\\n1213\\n1214\\n1215\\n1216\\n1217\\n1218\\n1219\\n1220\\n1221\\n1222\\n1223\\n1224\\n1225\\n1226\\n1227\\n1228\\n1229\\n1230\\n1231\\n1232\\n1233\\n1234\\n1235\\n1236\\n1237\\n1238\\n1239\\n1240\\n1241\\n1242\\n1243\\n1244\\n1245\\n1246\\n1247\\n1248\\n1249\\n1250\\n1251\\n1252\\n1253\\n1254\\n1255\\n1256\\n1257\\n1258\\n1259\\n1260\\n1261\\n1262\\n1263\\n1264\\n1265\\n1266\\n1267\\n1268\\n1269\\n1270\\n1271\\n1272\\n1273\\n1274\\n1275\\n1276\\n1277\\n1278\\n1279\\n1280\\n1281\\n1282\\n1283\\n1284\\n1285\\n1286\\n1287\\n1288\\n1289\\n1290\\n1291\\n1292\\n1293\\n1294\\n1295\\n1296\\n1297\\n1298\\n1299\\n1300\\n1301\\n1302\\n1303\\n1304\\n1305\\n1306\\n1307\\n1308\\n1309\\n1310\\n1311\\n1312\\n1313\\n1314\\n1315\\n1316\\n1317\\n1318\\n1319\\n1320\\n1321\\n1322\\n1323\\n1324\\n1325\\n1326\\n1327\\n1328\\n1329\\n1330\\n1331\\n1332\\n1333\\n1334\\n1335\\n1336\\n1337\\n1338\\n1339\\n1340\\n1341\\n1342\\n1343\\n1344\\n1345\\n1346\\n1347\\n1348\\n1349\\n1350\\n1351\\n1352\\n1353\\n1354\\n1355\\n1356\\n1357\\n1358\\n1359\\n1360\\n1361\\n1362\\n1363\\n1364\\n1365\\n1366\\n1367\\n1368\\n1369\\n1370\\n1371\\n1372\\n1373\\n1374\\n1375\\n1376\\n1377\\n1378\\n1379\\n1380\\n1381\\n1382\\n1383\\n1384\\n1385\\n1386\\n1387\\n1388\\n1389\\n1390\\n1391\\n1392\\n1393\\n1394\\n1395\\n1396\\n1397\\n1398\\n1399\\n1400\\n1401\\n1402\\n1403\\n1404\\n1405\\n1406\\n1407\\n1408\\n1409\\n1410\\n1411\\n1412\\n1413\\n1414\\n1415\\n1416\\n1417\\n1418\\n1419\\n1420\\n1421\\n1422\\n1423\\n1424\\n1425\\n1426\\n1427\\n1428\\n1429\\n1430\\n1431\\n1432\\n1433\\n1434\\n1435\\n1436\\n1437\\n1438\\n1439\\n1440\\n1441\\n1442\\n1443\\n1444\\n1445\\n1446\\n1447\\n1448\\n1449\\n1450\\n1451\\n1452\\n1453\\n1454\\n1455\\n1456\\n1457\\n1458\\n1459\\n1460\\n1461\\n1462\\n1463\\n1464\\n1465\\n1466\\n1467\\n1468\\n1469\\n1470\\n1471\\n1472\\n1473\\n1474\\n1475\\n1476\\n1477\\n1478\\n1479\\n1480\\n1481\\n1482\\n1483\\n1484\\n1485\\n1486\\n1487\\n1488\\n1489\\n1490\\n1491\\n1492\\n1493\\n1494\\n1495\\n1496\\n1497\\n1498\\n1499\\n1500\\n1501\\n1502\\n1503\\n1504\\n1505\\n1506\\n1507\\n1508\\n1509\\n1510\\n1511\\n1512\\n1513\\n1514\\n1515\\n1516\\n1517\\n1518\\n1519\\n1520\\n1521\\n1522\\n1523\\n1524\\n1525\\n1526\\n1527\\n1528\\n1529\\n1530\\n1531\\n1532\\n1533\\n1534\\n1535\\n1536\\n1537\\n1538\\n1539\\n1540\\n1541\\n1542\\n1543\\n1544\\n1545\\n1546\\n1547\\n1548\\n1549\\n1550\\n1551\\n1552\\n1553\\n1554\\n1555\\n1556\\n1557\\n1558\\n1559\\n1560\\n1561\\n1562\\n1563\\n1564\\n1565\\n1566\\n1567\\n1568\\n1569\\n1570\\n1571\\n1572\\n1573\\n1574\\n1575\\n1576\\n1577\\n1578\\n1579\\n1580\\n1581\\n1582\\n1583\\n1584\\n1585\\n1586\\n1587\\n1588\\n1589\\n1590\\n1591\\n1592\\n1593\\n1594\\n1595\\n1596\\n1597\\n1598\\n1599\\n1600\\n1601\\n1602\\n1603\\n1604\\n1605\\n1606\\n1607\\n1608\\n1609\\n1610\\n1611\\n1612\\n1613\\n1614\\n1615\\n1616\\n1617\\n1618\\n1619\\n1620\\n1621\\n1622\\n1623\\n1624\\n1625\\n1626\\n1627\\n1628\\n1629\\n1630\\n1631\\n1632\\n1633\\n1634\\n1635\\n1636\\n1637\\n1638\\n1639\\n1640\\n1641\\n1642\\n1643\\n1644\\n1645\\n1646\\n1647\\n1648\\n1649\\n1650\\n1651\\n1652\\n1653\\n1654\\n1655\\n1656\\n1657\\n1658\\n1659\\n1660\\n1661\\n1662\\n1663\\n1664\\n1665\\n1666\\n1667\\n1668\\n1669\\n1670\\n1671\\n1672\\n1673\\n1674\\n1675\\n1676\\n1677\\n1678\\n1679\\n1680\\n1681\\n1682\\n1683\\n1684\\n1685\\n1686\\n1687\\n1688\\n1689\\n1690\\n1691\\n1692\\n1693\\n1694\\n1695\\n1696\\n1697\\n1698\\n1699\\n1700\\n1701\\n1702\\n1703\\n1704\\n1705\\n1706\\n1707\\n1708\\n1709\\n1710\\n1711\\n1712\\n1713\\n1714\\n1715\\n1716\\n1717\\n1718\\n1719\\n1720\\n1721\\n1722\\n1723\\n1724\\n1725\\n1726\\n1727\\n1728\\n1729\\n1730\\n1731\\n1732\\n1733\\n1734\\n1735\\n1736\\n1737\\n1738\\n1739\\n1740\\n1741\\n1742\\n1743\\n1744\\n1745\\n1746\\n1747\\n1748\\n1749\\n1750\\n1751\\n1752\\n1753\\n1754\\n1755\\n1756\\n1757\\n1758\\n1759\\n1760\\n1761\\n1762\\n1763\\n1764\\n1765\\n1766\\n1767\\n1768\\n1769\\n1770\\n1771\\n1772\\n1773\\n1774\\n1775\\n1776\\n1777\\n1778\\n1779\\n1780\\n1781\\n1782\\n1783\\n1784\\n1785\\n1786\\n1787\\n1788\\n1789\\n1790\\n1791\\n1792\\n1793\\n1794\\n1795\\n1796\\n1797\\n1798\\n1799\\n1800\\n1801\\n1802\\n1803\\n1804\\n1805\\n1806\\n1807\\n1808\\n1809\\n1810\\n1811\\n1812\\n1813\\n1814\\n1815\\n1816\\n1817\\n1818\\n1819\\n1820\\n1821\\n1822\\n1823\\n1824\\n1825\\n1826\\n1827\\n1828\\n1829\\n1830\\n1831\\n1832\\n1833\\n1834\\n1835\\n1836\\n1837\\n1838\\n1839\\n1840\\n1841\\n1842\\n1843\\n1844\\n1845\\n1846\\n1847\\n1848\\n1849\\n1850\\n1851\\n1852\\n1853\\n1854\\n1855\\n1856\\n1857\\n1858\\n1859\\n1860\\n1861\\n1862\\n1863\\n1864\\n1865\\n1866\\n1867\\n1868\\n1869\\n1870\\n1871\\n1872\\n1873\\n1874\\n1875\\n1876\\n1877\\n1878\\n1879\\n1880\\n1881\\n1882\\n1883\\n1884\\n1885\\n1886\\n1887\\n1888\\n1889\\n1890\\n1891\\n1892\\n1893\\n1894\\n1895\\n1896\\n1897\\n1898\\n1899\\n1900\\n1901\\n1902\\n1903\\n1904\\n1905\\n1906\\n1907\\n1908\\n1909\\n1910\\n1911\\n1912\\n1913\\n1914\\n1915\\n1916\\n1917\\n1918\\n1919\\n1920\\n1921\\n1922\\n1923\\n1924\\n1925\\n1926\\n1927\\n1928\\n1929\\n1930\\n1931\\n1932\\n1933\\n1934\\n1935\\n1936\\n1937\\n1938\\n1939\\n1940\\n1941\\n1942\\n1943\\n1944\\n1945\\n1946\\n1947\\n1948\\n1949\\n1950\\n1951\\n1952\\n1953\\n1954\\n1955\\n1956\\n1957\\n1958\\n1959\\n1960\\n1961\\n1962\\n1963\\n1964\\n1965\\n1966\\n1967\\n1968\\n1969\\n1970\\n1971\\n1972\\n1973\\n1974\\n1975\\n1976\\n1977\\n1978\\n1979\\n1980\\n1981\\n1982\\n1983\\n1984\\n1985\\n1986\\n1987\\n1988\\n1989\\n1990\\n1991\\n1992\\n1993\\n1994\\n1995\\n1996\\n1997\\n1998\\n1999\\n2000\\n2001\\n2002\\n2003\\n2004\\n2005\\n2006\\n2007\\n2008\\n2009\\n2010\\n2011\\n2012\\n2013\\n2014\\n2015\\n2016\\n2017\\n2018\\n2019\\n2020\\n2021\\n2022\\n2023\\n2024\\n2025\\n2026\\n2027\\n2028\\n2029\\n2030\\n2031\\n2032\\n2033\\n2034\\n2035\\n2036\\n2037\\n2038\\n2039\\n2040\\n2041\\n2042\\n2043\\n2044\\n2045\\n2046\\n2047\\n2048\\n2049\\n2050\\n2051\\n2052\\n2053\\n2054\\n2055\\n2056\\n2057\\n2058\\n2059\\n2060\\n2061\\n2062\\n2063\\n2064\\n2065\\n2066\\n2067\\n2068\\n2069\\n2070\\n2071\\n2072\\n2073\\n2074\\n2075\\n2076\\n2077\\n2078\\n2079\\n2080\\n2081\\n2082\\n2083\\n2084\\n2085\\n2086\\n2087\\n2088\\n2089\\n2090\\n2091\\n2092\\n2093\\n2094\\n2095\\n2096\\n2097\\n2098\\n2099\\n2100\\n2101\\n2102\\n2103\\n2104\\n2105\\n2106\\n2107\\n2108\\n2109\\n2110\\n2111\\n2112\\n2113\\n2114\\n2115\\n2116\\n2117\\n2118\\n2119\\n2120\\n2121\\n2122\\n2123\\n2124\\n2125\\n2126\\n2127\\n2128\\n2129\\n2130\\n2131\\n2132\\n2133\\n2134\\n2135\\n2136\\n2137\\n2138\\n2139\\n2140\\n2141\\n2142\\n2143\\n2144\\n2145\\n2146\\n2147\\n2148\\n2149\\n2150\\n2151\\n2152\\n2153\\n2154\\n2155\\n2156\\n2157\\n2158\\n2159\\n2160\\n2161\\n2162\\n2163\\n2164\\n2165\\n2166\\n2167\\n2168\\n2169\\n2170\\n2171\\n2172\\n2173\\n2174\\n2175\\n2176\\n2177\\n2178\\n2179\\n2180\\n2181\\n2182\\n2183\\n2184\\n2185\\n2186\\n2187\\n2188\\n2189\\n2190\\n2191\\n2192\\n2193\\n2194\\n2195\\n2196\\n2197\\n2198\\n2199\\n2200\\n2201\\n2202\\n2203\\n2204\\n2205\\n2206\\n2207\\n2208\\n2209\\n2210\\n2211\\n2212\\n2213\\n2214\\n2215\\n2216\\n2217\\n2218\\n2219\\n2220\\n2221\\n2222\\n2223\\n2224\\n2225\\n2226\\n2227\\n2228\\n2229\\n2230\\n2231\\n2232\\n2233\\n2234\\n2235\\n2236\\n2237\\n2238\\n2239\\n2240\\n2241\\n2242\\n2243\\n2244\\n2245\\n2246\\n2247\\n2248\\n2249\\n2250\\n2251\\n2252\\n2253\\n2254\\n2255\\n2256\\n2257\\n2258\\n2259\\n2260\\n2261\\n2262\\n2263\\n2264\\n2265\\n2266\\n2267\\n2268\\n2269\\n2270\\n2271\\n2272\\n2273\\n2274\\n2275\\n2276\\n2277\\n2278\\n2279\\n2280\\n2281\\n2282\\n2283\\n2284\\n2285\\n2286\\n2287\\n2288\\n2289\\n2290\\n2291\\n2292\\n2293\\n2294\\n2295\\n2296\\n2297\\n2298\\n2299\\n2300\\n2301\\n2302\\n2303\\n2304\\n2305\\n2306\\n2307\\n2308\\n2309\\n2310\\n2311\\n2312\\n2313\\n2314\\n2315\\n2316\\n2317\\n2318\\n2319\\n2320\\n2321\\n2322\\n2323\\n2324\\n2325\\n2326\\n2327\\n2328\\n2329\\n2330\\n2331\\n2332\\n2333\\n2334\\n2335\\n2336\\n2337\\n2338\\n2339\\n2340\\n2341\\n2342\\n2343\\n2344\\n2345\\n2346\\n2347\\n2348\\n2349\\n2350\\n2351\\n2352\\n2353\\n2354\\n2355\\n2356\\n2357\\n2358\\n2359\\n2360\\n2361\\n2362\\n2363\\n2364\\n2365\\n2366\\n2367\\n2368\\n2369\\n2370\\n2371\\n2372\\n2373\\n2374\\n2375\\n2376\\n2377\\n2378\\n2379\\n2380\\n2381\\n2382\\n2383\\n2384\\n2385\\n2386\\n2387\\n2388\\n2389\\n2390\\n2391\\n2392\\n2393\\n2394\\n2395\\n2396\\n2397\\n2398\\n2399\\n2400\\n2401\\n2402\\n2403\\n2404\\n2405\\n2406\\n2407\\n2408\\n2409\\n2410\\n2411\\n2412\\n2413\\n2414\\n2415\\n2416\\n2417\\n2418\\n2419\\n2420\\n2421\\n2422\\n2423\\n2424\\n2425\\n2426\\n2427\\n2428\\n2429\\n2430\\n2431\\n2432\\n2433\\n2434\\n2435\\n2436\\n2437\\n2438\\n2439\\n2440\\n2441\\n2442\\n2443\\n2444\\n2445\\n2446\\n2447\\n2448\\n2449\\n2450\\n2451\\n2452\\n2453\\n2454\\n2455\\n2456\\n2457\\n2458\\n2459\\n2460\\n2461\\n2462\\n2463\\n2464\\n2465\\n2466\\n2467\\n2468\\n2469\\n2470\\n2471\\n2472\\n2473\\n2474\\n2475\\n2476\\n2477\\n2478\\n2479\\n2480\\n2481\\n2482\\n2483\\n2484\\n2485\\n2486\\n2487\\n2488\\n2489\\n2490\\n2491\\n2492\\n2493\\n2494\\n2495\\n2496\\n2497\\n2498\\n2499\\n2500\\n2501\\n2502\\n2503\\n2504\\n2505\\n2506\\n2507\\n2508\\n2509\\n2510\\n2511\\n2512\\n2513\\n2514\\n2515\\n2516\\n2517\\n2518\\n2519\\n2520\\n2521\\n2522\\n2523\\n2524\\n2525\\n2526\\n2527\\n2528\\n2529\\n2530\\n2531\\n2532\\n2533\\n2534\\n2535\\n2536\\n2537\\n2538\\n2539\\n2540\\n2541\\n2542\\n2543\\n2544\\n2545\\n2546\\n2547\\n2548\\n2549\\n2550\\n2551\\n2552\\n2553\\n2554\\n2555\\n2556\\n2557\\n2558\\n2559\\n2560\\n2561\\n2562\\n2563\\n2564\\n2565\\n2566\\n2567\\n2568\\n2569\\n2570\\n2571\\n2572\\n2573\\n2574\\n2575\\n2576\\n2577\\n2578\\n2579\\n2580\\n2581\\n2582\\n2583\\n2584\\n2585\\n2586\\n2587\\n2588\\n2589\\n2590\\n2591\\n2592\\n2593\\n2594\\n2595\\n2596\\n2597\\n2598\\n2599\\n2600\\n2601\\n2602\\n2603\\n2604\\n2605\\n2606\\n2607\\n2608\\n2609\\n2610\\n2611\\n2612\\n2613\\n2614\\n2615\\n2616\\n2617\\n2618\\n2619\\n2620\\n2621\\n2622\\n2623\\n2624\\n2625\\n2626\\n2627\\n2628\\n2629\\n2630\\n2631\\n2632\\n2633\\n2634\\n2635\\n2636\\n2637\\n2638\\n2639\\n2640\\n2641\\n2642\\n2643\\n2644\\n2645\\n2646\\n2647\\n2648\\n2649\\n2650\\n2651\\n2652\\n2653\\n2654\\n2655\\n2656\\n2657\\n2658\\n2659\\n2660\\n2661\\n2662\\n2663\\n2664\\n2665\\n2666\\n2667\\n2668\\n2669\\n2670\\n2671\\n2672\\n2673\\n2674\\n2675\\n2676\\n2677\\n2678\\n2679\\n2680\\n2681\\n2682\\n2683\\n2684\\n2685\\n2686\\n2687\\n2688\\n2689\\n2690\\n2691\\n2692\\n2693\\n2694\\n2695\\n2696\\n2697\\n2698\\n2699\\n2700\\n2701\\n2702\\n2703\\n2704\\n2705\\n2706\\n2707\\n2708\\n2709\\n2710\\n2711\\n2712\\n2713\\n2714\\n2715\\n2716\\n2717\\n2718\\n2719\\n2720\\n2721\\n2722\\n2723\\n2724\\n2725\\n2726\\n2727\\n2728\\n2729\\n2730\\n2731\\n2732\\n2733\\n2734\\n2735\\n2736\\n2737\\n2738\\n2739\\n2740\\n2741\\n2742\\n2743\\n2744\\n2745\\n2746\\n2747\\n2748\\n2749\\n2750\\n2751\\n2752\\n2753\\n2754\\n2755\\n2756\\n2757\\n2758\\n2759\\n2760\\n2761\\n2762\\n2763\\n2764\\n2765\\n2766\\n2767\\n2768\\n2769\\n2770\\n2771\\n2772\\n2773\\n2774\\n2775\\n2776\\n2777\\n2778\\n2779\\n2780\\n2781\\n2782\\n2783\\n2784\\n2785\\n2786\\n2787\\n2788\\n2789\\n2790\\n2791\\n2792\\n2793\\n2794\\n2795\\n2796\\n2797\\n2798\\n2799\\n2800\\n2801\\n2802\\n2803\\n2804\\n2805\\n2806\\n2807\\n2808\\n2809\\n2810\\n2811\\n2812\\n2813\\n2814\\n2815\\n2816\\n2817\\n2818\\n2819\\n2820\\n2821\\n2822\\n2823\\n2824\\n2825\\n2826\\n2827\\n2828\\n2829\\n2830\\n2831\\n2832\\n2833\\n2834\\n2835\\n2836\\n2837\\n2838\\n2839\\n2840\\n2841\\n2842\\n2843\\n2844\\n2845\\n2846\\n2847\\n2848\\n2849\\n2850\\n2851\\n2852\\n2853\\n2854\\n2855\\n2856\\n2857\\n2858\\n2859\\n2860\\n2861\\n2862\\n2863\\n2864\\n2865\\n2866\\n2867\\n2868\\n2869\\n2870\\n2871\\n2872\\n2873\\n2874\\n2875\\n2876\\n2877\\n2878\\n2879\\n2880\\n2881\\n2882\\n2883\\n2884\\n2885\\n2886\\n2887\\n2888\\n2889\\n2890\\n2891\\n2892\\n2893\\n2894\\n2895\\n2896\\n2897\\n2898\\n2899\\n2900\\n2901\\n2902\\n2903\\n2904\\n2905\\n2906\\n2907\\n2908\\n2909\\n2910\\n2911\\n2912\\n2913\\n2914\\n2915\\n2916\\n2917\\n2918\\n2919\\n2920\\n2921\\n2922\\n2923\\n2924\\n2925\\n2926\\n2927\\n2928\\n2929\\n2930\\n2931\\n2932\\n2933\\n2934\\n2935\\n2936\\n2937\\n2938\\n2939\\n2940\\n2941\\n2942\\n2943\\n2944\\n2945\\n2946\\n2947\\n2948\\n2949\\n2950\\n2951\\n2952\\n2953\\n2954\\n2955\\n2956\\n2957\\n2958\\n2959\\n2960\\n2961\\n2962\\n2963\\n2964\\n2965\\n2966\\n2967\\n2968\\n2969\\n2970\\n2971\\n2972\\n2973\\n2974\\n2975\\n2976\\n2977\\n2978\\n2979\\n2980\\n2981\\n2982\\n2983\\n2984\\n2985\\n2986\\n2987\\n2988\\n2989\\n2990\\n2991\\n2992\\n2993\\n2994\\n2995\\n2996\\n2997\\n2998\\n2999\\n3000\\n3001\\n3002\\n3003\\n3004\\n3005\\n3006\\n3007\\n3008\\n3009\\n3010\\n3011\\n3012\\n3013\\n3014\\n3015\\n3016\\n3017\\n3018\\n3019\\n3020\\n3021\\n3022\\n3023\\n3024\\n3025\\n3026\\n3027\\n3028\\n3029\\n3030\\n3031\\n3032\\n3033\\n3034\\n3035\\n3036\\n3037\\n3038\\n3039\\n3040\\n3041\\n3042\\n3043\\n3044\\n3045\\n3046\\n3047\\n3048\\n3049\\n3050\\n3051\\n3052\\n3053\\n3054\\n3055\\n3056\\n3057\\n3058\\n3059\\n3060\\n3061\\n3062\\n3063\\n3064\\n3065\\n3066\\n3067\\n3068\\n3069\\n3070\\n3071\\n3072\\n3073\\n3074\\n3075\\n3076\\n3077\\n3078\\n3079\\n3080\\n3081\\n3082\\n3083\\n3084\\n3085\\n3086\\n3087\\n3088\\n3089\\n3090\\n3091\\n3092\\n3093\\n3094\\n3095\\n3096\\n3097\\n3098\\n3099\\n3100\\n3101\\n3102\\n3103\\n3104\\n3105\\n3106\\n3107\\n3108\\n3109\\n3110\\n3111\\n3112\\n3113\\n3114\\n3115\\n3116\\n3117\\n3118\\n3119\\n3120\\n3121\\n3122\\n3123\\n3124\\n3125\\n3126\\n3127\\n3128\\n3129\\n3130\\n3131\\n3132\\n3133\\n3134\\n3135\\n3136\\n3137\\n3138\\n3139\\n3140\\n3141\\n3142\\n3143\\n3144\\n3145\\n3146\\n3147\\n3148\\n3149\\n3150\\n3151\\n3152\\n3153\\n3154\\n3155\\n3156\\n3157\\n3158\\n3159\\n3160\\n3161\\n3162\\n3163\\n3164\\n3165\\n3166\\n3167\\n3168\\n3169\\n3170\\n3171\\n3172\\n3173\\n3174\\n3175\\n3176\\n3177\\n3178\\n3179\\n3180\\n3181\\n3182\\n3183\\n3184\\n3185\\n3186\\n3187\\n3188\\n3189\\n3190\\n3191\\n3192\\n3193\\n3194\\n3195\\n3196\\n3197\\n3198\\n3199\\n3200\\n3201\\n3202\\n3203\\n3204\\n3205\\n3206\\n3207\\n3208\\n3209\\n3210\\n3211\\n3212\\n3213\\n3214\\n3215\\n3216\\n3217\\n3218\\n3219\\n3220\\n3221\\n3222\\n3223\\n3224\\n3225\\n3226\\n3227\\n3228\\n3229\\n3230\\n3231\\n3232\\n3233\\n3234\\n3235\\n3236\\n3237\\n3238\\n3239\\n3240\\n3241\\n3242\\n3243\\n3244\\n3245\\n3246\\n3247\\n3248\\n3249\\n3250\\n3251\\n3252\\n3253\\n3254\\n3255\\n3256\\n3257\\n3258\\n3259\\n3260\\n3261\\n3262\\n3263\\n3264\\n3265\\n3266\\n3267\\n3268\\n3269\\n3270\\n3271\\n3272\\n3273\\n3274\\n3275\\n3276\\n3277\\n3278\\n3279\\n3280\\n3281\\n3282\\n3283\\n3284\\n3285\\n3286\\n3287\\n3288\\n3289\\n3290\\n3291\\n3292\\n3293\\n3294\\n3295\\n3296\\n3297\\n3298\\n3299\\n3300\\n3301\\n3302\\n3303\\n3304\\n3305\\n3306\\n3307\\n3308\\n3309\\n3310\\n3311\\n3312\\n3313\\n3314\\n3315\\n3316\\n3317\\n3318\\n3319\\n3320\\n3321\\n3322\\n3323\\n3324\\n3325\\n3326\\n3327\\n3328\\n3329\\n3330\\n3331\\n3332\\n3333\\n3334\\n3335\\n3336\\n3337\\n3338\\n3339\\n3340\\n3341\\n3342\\n3343\\n3344\\n3345\\n3346\\n3347\\n3348\\n3349\\n3350\\n3351\\n3352\\n3353\\n3354\\n3355\\n3356\\n3357\\n3358\\n3359\\n3360\\n3361\\n3362\\n3363\\n3364\\n3365\\n3366\\n3367\\n3368\\n3369\\n3370\\n3371\\n3372\\n3373\\n3374\\n3375\\n3376\\n3377\\n3378\\n3379\\n3380\\n3381\\n3382\\n3383\\n3384\\n3385\\n3386\\n3387\\n3388\\n3389\\n3390\\n3391\\n3392\\n3393\\n3394\\n3395\\n3396\\n3397\\n3398\\n3399\\n3400\\n3401\\n3402\\n3403\\n3404\\n3405\\n3406\\n3407\\n3408\\n3409\\n3410\\n3411\\n3412\\n3413\\n3414\\n3415\\n3416\\n3417\\n3418\\n3419\\n3420\\n3421\\n3422\\n3423\\n3424\\n3425\\n3426\\n3427\\n3428\\n3429\\n3430\\n3431\\n3432\\n3433\\n3434\\n3435\\n3436\\n3437\\n3438\\n3439\\n3440\\n3441\\n3442\\n3443\\n3444\\n3445\\n3446\\n3447\\n3448\\n3449\\n3450\\n3451\\n3452\\n3453\\n3454\\n3455\\n3456\\n3457\\n3458\\n3459\\n3460\\n3461\\n3462\\n3463\\n3464\\n3465\\n3466\\n3467\\n3468\\n3469\\n3470\\n3471\\n3472\\n3473\\n3474\\n3475\\n3476\\n3477\\n3478\\n3479\\n3480\\n3481\\n3482\\n3483\\n3484\\n3485\\n3486\\n3487\\n3488\\n3489\\n3490\\n3491\\n3492\\n3493\\n3494\\n3495\\n3496\\n3497\\n3498\\n3499\\n3500\\n3501\\n3502\\n3503\\n3504\\n3505\\n3506\\n3507\\n3508\\n3509\\n3510\\n3511\\n3512\\n3513\\n3514\\n3515\\n3516\\n3517\\n3518\\n3519\\n3520\\n3521\\n3522\\n3523\\n3524\\n3525\\n3526\\n3527\\n3528\\n3529\\n3530\\n3531\\n3532\\n3533\\n3534\\n3535\\n3536\\n3537\\n3538\\n3539\\n3540\\n3541\\n3542\\n3543\\n3544\\n3545\\n3546\\n3547\\n3548\\n3549\\n3550\\n3551\\n3552\\n3553\\n3554\\n3555\\n3556\\n3557\\n3558\\n3559\\n3560\\n3561\\n3562\\n3563\\n3564\\n3565\\n3566\\n3567\\n3568\\n3569\\n3570\\n3571\\n3572\\n3573\\n3574\\n3575\\n3576\\n3577\\n3578\\n3579\\n3580\\n3581\\n3582\\n3583\\n3584\\n3585\\n3586\\n3587\\n3588\\n3589\\n3590\\n3591\\n3592\\n3593\\n3594\\n3595\\n3596\\n3597\\n3598\\n3599\\n3600\\n3601\\n3602\\n3603\\n3604\\n3605\\n3606\\n3607\\n3608\\n3609\\n3610\\n3611\\n3612\\n3613\\n3614\\n3615\\n3616\\n3617\\n3618\\n3619\\n3620\\n3621\\n3622\\n3623\\n3624\\n3625\\n3626\\n3627\\n3628\\n3629\\n3630\\n3631\\n3632\\n3633\\n3634\\n3635\\n3636\\n3637\\n3638\\n3639\\n3640\\n3641\\n3642\\n3643\\n3644\\n3645\\n3646\\n3647\\n3648\\n3649\\n3650\\n3651\\n3652\\n3653\\n3654\\n3655\\n3656\\n3657\\n3658\\n3659\\n3660\\n3661\\n3662\\n3663\\n3664\\n3665\\n3666\\n3667\\n3668\\n3669\\n3670\\n3671\\n3672\\n3673\\n3674\\n3675\\n3676\\n3677\\n3678\\n3679\\n3680\\n3681\\n3682\\n3683\\n3684\\n3685\\n3686\\n3687\\n3688\\n3689\\n3690\\n3691\\n3692\\n3693\\n3694\\n3695\\n3696\\n3697\\n3698\\n3699\\n3700\\n3701\\n3702\\n3703\\n3704\\n3705\\n3706\\n3707\\n3708\\n3709\\n3710\\n3711\\n3712\\n3713\\n3714\\n3715\\n3716\\n3717\\n3718\\n3719\\n3720\\n3721\\n3722\\n3723\\n3724\\n3725\\n3726\\n3727\\n3728\\n3729\\n3730\\n3731\\n3732\\n3733\\n3734\\n3735\\n3736\\n3737\\n3738\\n3739\\n3740\\n3741\\n3742\\n3743\\n3744\\n3745\\n3746\\n3747\\n3748\\n3749\\n3750\\n3751\\n3752\\n3753\\n3754\\n3755\\n3756\\n3757\\n3758\\n3759\\n3760\\n3761\\n3762\\n3763\\n3764\\n3765\\n3766\\n3767\\n3768\\n3769\\n3770\\n3771\\n3772\\n3773\\n3774\\n3775\\n3776\\n3777\\n3778\\n3779\\n3780\\n3781\\n3782\\n3783\\n3784\\n3785\\n3786\\n3787\\n3788\\n3789\\n3790\\n3791\\n3792\\n3793\\n3794\\n3795\\n3796\\n3797\\n3798\\n3799\\n3800\\n3801\\n3802\\n3803\\n3804\\n3805\\n3806\\n3807\\n3808\\n3809\\n3810\\n3811\\n3812\\n3813\\n3814\\n3815\\n3816\\n3817\\n3818\\n3819\\n3820\\n3821\\n3822\\n3823\\n3824\\n3825\\n3826\\n3827\\n3828\\n3829\\n3830\\n3831\\n3832\\n3833\\n3834\\n3835\\n3836\\n3837\\n3838\\n3839\\n3840\\n3841\\n3842\\n3843\\n3844\\n3845\\n3846\\n3847\\n3848\\n3849\\n3850\\n3851\\n3852\\n3853\\n3854\\n3855\\n3856\\n3857\\n3858\\n3859\\n3860\\n3861\\n3862\\n3863\\n3864\\n3865\\n3866\\n3867\\n3868\\n3869\\n3870\\n3871\\n3872\\n3873\\n3874\\n3875\\n3876\\n3877\\n3878\\n3879\\n3880\\n3881\\n3882\\n3883\\n3884\\n3885\\n3886\\n3887\\n3888\\n3889\\n3890\\n3891\\n3892\\n3893\\n3894\\n3895\\n3896\\n3897\\n3898\\n3899\\n3900\\n3901\\n3902\\n3903\\n3904\\n3905\\n3906\\n3907\\n3908\\n3909\\n3910\\n3911\\n3912\\n3913\\n3914\\n3915\\n3916\\n3917\\n3918\\n3919\\n3920\\n3921\\n3922\\n3923\\n3924\\n3925\\n3926\\n3927\\n3928\\n3929\\n3930\\n3931\\n3932\\n3933\\n3934\\n3935\\n3936\\n3937\\n3938\\n3939\\n3940\\n3941\\n3942\\n3943\\n3944\\n3945\\n3946\\n3947\\n3948\\n3949\\n3950\\n3951\\n3952\\n3953\\n3954\\n3955\\n3956\\n3957\\n3958\\n3959\\n3960\\n3961\\n3962\\n3963\\n3964\\n3965\\n3966\\n3967\\n3968\\n3969\\n3970\\n3971\\n3972\\n3973\\n3974\\n3975\\n3976\\n3977\\n3978\\n3979\\n3980\\n3981\\n3982\\n3983\\n3984\\n3985\\n3986\\n3987\\n3988\\n3989\\n3990\\n3991\\n3992\\n3993\\n3994\\n3995\\n3996\\n3997\\n3998\\n3999\\n4000\\n4001\\n4002\\n4003\\n4004\\n4005\\n4006\\n4007\\n4008\\n4009\\n4010\\n4011\\n4012\\n4013\\n4014\\n4015\\n4016\\n4017\\n4018\\n4019\\n4020\\n4021\\n4022\\n4023\\n4024\\n4025\\n4026\\n4027\\n4028\\n4029\\n4030\\n4031\\n4032\\n4033\\n4034\\n4035\\n4036\\n4037\\n4038\\n4039\\n4040\\n4041\\n4042\\n4043\\n4044\\n4045\\n4046\\n4047\\n4048\\n4049\\n4050\\n4051\\n4052\\n4053\\n4054\\n4055\\n4056\\n4057\\n4058\\n4059\\n4060\\n4061\\n4062\\n4063\\n4064\\n4065\\n4066\\n4067\\n4068\\n4069\\n4070\\n4071\\n4072\\n4073\\n4074\\n4075\\n4076\\n4077\\n4078\\n4079\\n4080\\n4081\\n4082\\n4083\\n4084\\n4085\\n4086\\n4087\\n4088\\n4089\\n4090\\n4091\\n4092\\n4093\\n4094\\n4095\\n4096\\n4097\\n4098\\n4099\\n4100\\n4101\\n4102\\n4103\\n4104\\n4105\\n4106\\n4107\\n4108\\n4109\\n4110\\n4111\\n4112\\n4113\\n4114\\n4115\\n4116\\n4117\\n4118\\n4119\\n4120\\n4121\\n4122\\n4123\\n4124\\n4125\\n4126\\n4127\\n4128\\n4129\\n4130\\n4131\\n4132\\n4133\\n4134\\n4135\\n4136\\n4137\\n4138\\n4139\\n4140\\n4141\\n4142\\n4143\\n4144\\n4145\\n4146\\n4147\\n4148\\n4149\\n4150\\n4151\\n4152\\n4153\\n4154\\n4155\\n4156\\n4157\\n4158\\n4159\\n4160\\n4161\\n4162\\n4163\\n4164\\n4165\\n4166\\n4167\\n4168\\n4169\\n4170\\n4171\\n4172\\n4173\\n4174\\n4175\\n4176\\n4177\\n4178\\n4179\\n4180\\n4181\\n4182\\n4183\\n4184\\n4185\\n4186\\n4187\\n4188\\n4189\\n4190\\n4191\\n4192\\n4193\\n4194\\n4195\\n4196\\n4197\\n4198\\n4199\\n4200\\n4201\\n4202\\n4203\\n4204\\n4205\\n4206\\n4207\\n4208\\n4209\\n4210\\n4211\\n4212\\n4213\\n4214\\n4215\\n4216\\n4217\\n4218\\n4219\\n4220\\n4221\\n4222\\n4223\\n4224\\n4225\\n4226\\n4227\\n4228\\n4229\\n4230\\n4231\\n4232\\n4233\\n4234\\n4235\\n4236\\n4237\\n4238\\n4239\\n4240\\n4241\\n4242\\n4243\\n4244\\n4245\\n4246\\n4247\\n4248\\n4249\\n4250\\n4251\\n4252\\n4253\\n4254\\n4255\\n4256\\n4257\\n4258\\n4259\\n4260\\n4261\\n4262\\n4263\\n4264\\n4265\\n4266\\n4267\\n4268\\n4269\\n4270\\n4271\\n4272\\n4273\\n4274\\n4275\\n4276\\n4277\\n4278\\n4279\\n4280\\n4281\\n4282\\n4283\\n4284\\n4285\\n4286\\n4287\\n4288\\n4289\\n4290\\n4291\\n4292\\n4293\\n4294\\n4295\\n4296\\n4297\\n4298\\n4299\\n4300\\n4301\\n4302\\n4303\\n4304\\n4305\\n4306\\n4307\\n4308\\n4309\\n4310\\n4311\\n4312\\n4313\\n4314\\n4315\\n4316\\n4317\\n4318\\n4319\\n4320\\n4321\\n4322\\n4323\\n4324\\n4325\\n4326\\n4327\\n4328\\n4329\\n4330\\n4331\\n4332\\n4333\\n4334\\n4335\\n4336\\n4337\\n4338\\n4339\\n4340\\n4341\\n4342\\n4343\\n4344\\n4345\\n4346\\n4347\\n4348\\n4349\\n4350\\n4351\\n4352\\n4353\\n4354\\n4355\\n4356\\n4357\\n4358\\n4359\\n4360\\n4361\\n4362\\n4363\\n4364\\n4365\\n4366\\n4367\\n4368\\n4369\\n4370\\n4371\\n4372\\n4373\\n4374\\n4375\\n4376\\n4377\\n4378\\n4379\\n4380\\n4381\\n4382\\n4383\\n4384\\n4385\\n4386\\n4387\\n4388\\n4389\\n4390\\n4391\\n4392\\n4393\\n4394\\n4395\\n4396\\n4397\\n4398\\n4399\\n4400\\n4401\\n4402\\n4403\\n4404\\n4405\\n4406\\n4407\\n4408\\n4409\\n4410\\n4411\\n4412\\n4413\\n4414\\n4415\\n4416\\n4417\\n4418\\n4419\\n4420\\n4421\\n4422\\n4423\\n4424\\n4425\\n4426\\n4427\\n4428\\n4429\\n4430\\n4431\\n4432\\n4433\\n4434\\n4435\\n4436\\n4437\\n4438\\n4439\\n4440\\n4441\\n4442\\n4443\\n4444\\n4445\\n4446\\n4447\\n4448\\n4449\\n4450\\n4451\\n4452\\n4453\\n4454\\n4455\\n4456\\n4457\\n4458\\n4459\\n4460\\n4461\\n4462\\n4463\\n4464\\n4465\\n4466\\n4467\\n4468\\n4469\\n4470\\n4471\\n4472\\n4473\\n4474\\n4475\\n4476\\n4477\\n4478\\n4479\\n4480\\n4481\\n4482\\n4483\\n4484\\n4485\\n4486\\n4487\\n4488\\n4489\\n4490\\n4491\\n4492\\n4493\\n4494\\n4495\\n4496\\n4497\\n4498\\n4499\\n4500\\n4501\\n4502\\n4503\\n4504\\n4505\\n4506\\n4507\\n4508\\n4509\\n4510\\n4511\\n4512\\n4513\\n4514\\n4515\\n4516\\n4517\\n4518\\n4519\\n4520\\n4521\\n4522\\n4523\\n4524\\n4525\\n4526\\n4527\\n4528\\n4529\\n4530\\n4531\\n4532\\n4533\\n4534\\n4535\\n4536\\n4537\\n4538\\n4539\\n4540\\n4541\\n4542\\n4543\\n4544\\n4545\\n4546\\n4547\\n4548\\n4549\\n4550\\n4551\\n4552\\n4553\\n4554\\n4555\\n4556\\n4557\\n4558\\n4559\\n4560\\n4561\\n4562\\n4563\\n4564\\n4565\\n4566\\n4567\\n4568\\n4569\\n4570\\n4571\\n4572\\n4573\\n4574\\n4575\\n4576\\n4577\\n4578\\n4579\\n4580\\n4581\\n4582\\n4583\\n4584\\n4585\\n4586\\n4587\\n4588\\n4589\\n4590\\n4591\\n4592\\n4593\\n4594\\n4595\\n4596\\n4597\\n4598\\n4599\\n4600\\n4601\\n4602\\n4603\\n4604\\n4605\\n4606\\n4607\\n4608\\n4609\\n4610\\n4611\\n4612\\n4613\\n4614\\n4615\\n4616\\n4617\\n4618\\n4619\\n4620\\n4621\\n4622\\n4623\\n4624\\n4625\\n4626\\n4627\\n4628\\n4629\\n4630\\n4631\\n4632\\n4633\\n4634\\n4635\\n4636\\n4637\\n4638\\n4639\\n4640\\n4641\\n4642\\n4643\\n4644\\n4645\\n4646\\n4647\\n4648\\n4649\\n4650\\n4651\\n4652\\n4653\\n4654\\n4655\\n4656\\n4657\\n4658\\n4659\\n4660\\n4661\\n4662\\n4663\\n4664\\n4665\\n4666\\n4667\\n4668\\n4669\\n4670\\n4671\\n4672\\n4673\\n4674\\n4675\\n4676\\n4677\\n4678\\n4679\\n4680\\n4681\\n4682\\n4683\\n4684\\n4685\\n4686\\n4687\\n4688\\n4689\\n4690\\n4691\\n4692\\n4693\\n4694\\n4695\\n4696\\n4697\\n4698\\n4699\\n4700\\n4701\\n4702\\n4703\\n4704\\n4705\\n4706\\n4707\\n4708\\n4709\\n4710\\n4711\\n4712\\n4713\\n4714\\n4715\\n4716\\n4717\\n4718\\n4719\\n4720\\n4721\\n4722\\n4723\\n4724\\n4725\\n4726\\n4727\\n4728\\n4729\\n4730\\n4731\\n4732\\n4733\\n4734\\n4735\\n4736\\n4737\\n4738\\n4739\\n4740\\n4741\\n4742\\n4743\\n4744\\n4745\\n4746\\n4747\\n4748\\n4749\\n4750\\n4751\\n4752\\n4753\\n4754\\n4755\\n4756\\n4757\\n4758\\n4759\\n4760\\n4761\\n4762\\n4763\\n4764\\n4765\\n4766\\n4767\\n4768\\n4769\\n4770\\n4771\\n4772\\n4773\\n4774\\n4775\\n4776\\n4777\\n4778\\n4779\\n4780\\n4781\\n4782\\n4783\\n4784\\n4785\\n4786\\n4787\\n4788\\n4789\\n4790\\n4791\\n4792\\n4793\\n4794\\n4795\\n4796\\n4797\\n4798\\n4799\\n4800\\n4801\\n4802\\n4803\\n4804\\n4805\\n4806\\n4807\\n4808\\n4809\\n4810\\n4811\\n4812\\n4813\\n4814\\n4815\\n4816\\n4817\\n4818\\n4819\\n4820\\n4821\\n4822\\n4823\\n4824\\n4825\\n4826\\n4827\\n4828\\n4829\\n4830\\n4831\\n4832\\n4833\\n4834\\n4835\\n4836\\n4837\\n4838\\n4839\\n4840\\n4841\\n4842\\n4843\\n4844\\n4845\\n4846\\n4847\\n4848\\n4849\\n4850\\n4851\\n4852\\n4853\\n4854\\n4855\\n4856\\n4857\\n4858\\n4859\\n4860\\n4861\\n4862\\n4863\\n4864\\n4865\\n4866\\n4867\\n4868\\n4869\\n4870\\n4871\\n4872\\n4873\\n4874\\n4875\\n4876\\n4877\\n4878\\n4879\\n4880\\n4881\\n4882\\n4883\\n4884\\n4885\\n4886\\n4887\\n4888\\n4889\\n4890\\n4891\\n4892\\n4893\\n4894\\n4895\\n4896\\n4897\\n4898\\n4899\\n4900\\n4901\\n4902\\n4903\\n4904\\n4905\\n4906\\n4907\\n4908\\n4909\\n4910\\n4911\\n4912\\n4913\\n4914\\n4915\\n4916\\n4917\\n4918\\n4919\\n4920\\n4921\\n4922\\n4923\\n4924\\n4925\\n4926\\n4927\\n4928\\n4929\\n4930\\n4931\\n4932\\n4933\\n4934\\n4935\\n4936\\n4937\\n4938\\n4939\\n4940\\n4941\\n4942\\n4943\\n4944\\n4945\\n4946\\n4947\\n4948\\n4949\\n4950\\n4951\\n4952\\n4953\\n4954\\n4955\\n4956\\n4957\\n4958\\n4959\\n4960\\n4961\\n4962\\n4963\\n4964\\n4965\\n4966\\n4967\\n4968\\n4969\\n4970\\n4971\\n4972\\n4973\\n4974\\n4975\\n4976\\n4977\\n4978\\n4979\\n4980\\n4981\\n4982\\n4983\\n4984\\n4985\\n4986\\n4987\\n4988\\n4989\\n4990\\n4991\\n4992\\n4993\\n4994\\n4995\\n4996\\n4997\\n4998\\n4999'"
      ]
     },
     "execution_count": 76,
     "metadata": {},
     "output_type": "execute_result"
    }
   ],
   "source": [
    "import time\n",
    "\n",
    "@profile\n",
    "def list_to_str(lista):\n",
    "    output = []\n",
    "    for el in lista:\n",
    "        output.append(str(el))\n",
    "        time.sleep(0.001)\n",
    "    return \"\\n\".join(output)\n",
    "\n",
    "list_to_str(range(1, 5000))"
   ]
  },
  {
   "cell_type": "markdown",
   "metadata": {},
   "source": [
    "Widzimy ile razy dany fragment był wywołany (`ncalls`) i w odpowiednich kolumnach widzimy ile to zajęło czasu. \n",
    "\n",
    "Spróbujcie teraz napisać rozwiązanie zadania, sprofiluj je a potem zoptymalizuj\n",
    "\n",
    "\n",
    "- Wczytaj listę filmów z pliku data/movies.txt (na początku - do testów weź pierwszych 5000 filmów, gdy kod będzie działąć szybko dodaj kolejne)\n",
    "- Zwróć listę tytułów występujących więcej niż raz\n",
    "- Wyszukiwanie powinno być nieczułe na wielkość liter\n"
   ]
  },
  {
   "cell_type": "code",
   "execution_count": null,
   "metadata": {},
   "outputs": [],
   "source": []
  },
  {
   "cell_type": "code",
   "execution_count": null,
   "metadata": {},
   "outputs": [],
   "source": []
  },
  {
   "cell_type": "code",
   "execution_count": null,
   "metadata": {},
   "outputs": [],
   "source": []
  },
  {
   "cell_type": "code",
   "execution_count": null,
   "metadata": {},
   "outputs": [],
   "source": []
  },
  {
   "cell_type": "code",
   "execution_count": null,
   "metadata": {},
   "outputs": [],
   "source": []
  },
  {
   "cell_type": "code",
   "execution_count": null,
   "metadata": {},
   "outputs": [],
   "source": []
  },
  {
   "cell_type": "code",
   "execution_count": null,
   "metadata": {},
   "outputs": [],
   "source": []
  },
  {
   "cell_type": "code",
   "execution_count": 79,
   "metadata": {
    "ExecuteTime": {
     "end_time": "2020-01-07T14:34:34.260638Z",
     "start_time": "2020-01-07T14:34:34.254314Z"
    }
   },
   "outputs": [],
   "source": [
    "\n",
    "\n",
    "# ver 0\n",
    "def read_movies(src, N=5000):\n",
    "    with open(src) as fh:\n",
    "        return fh.read().splitlines()[:N]\n",
    "\n",
    "def is_duplicate(needle, haystack):\n",
    "\n",
    "    for movie in haystack:\n",
    "        if needle.lower() == movie.lower():\n",
    "            return True\n",
    "    return False\n",
    "\n",
    "@profile\n",
    "def find_duplicate_movies(src=\"data/movies.csv\"):\n",
    "    movies = read_movies(src)\n",
    "    duplicates = []\n",
    "    while movies:\n",
    "        movie = movies.pop()\n",
    "        if is_duplicate(movie, movies):\n",
    "            duplicates.append(movie)\n",
    "    return duplicates\n"
   ]
  },
  {
   "cell_type": "markdown",
   "metadata": {},
   "source": [
    "Zmierzmy czas wykonania takiego wyszukiwania:\n"
   ]
  },
  {
   "cell_type": "code",
   "execution_count": 80,
   "metadata": {
    "ExecuteTime": {
     "end_time": "2020-01-07T14:35:45.653598Z",
     "start_time": "2020-01-07T14:35:30.163344Z"
    }
   },
   "outputs": [
    {
     "ename": "UnicodeDecodeError",
     "evalue": "'charmap' codec can't decode byte 0x83 in position 4162889: character maps to <undefined>",
     "output_type": "error",
     "traceback": [
      "\u001b[1;31m---------------------------------------------------------------------------\u001b[0m",
      "\u001b[1;31mUnicodeDecodeError\u001b[0m                        Traceback (most recent call last)",
      "\u001b[1;32m<ipython-input-80-154567e2e9ea>\u001b[0m in \u001b[0;36m<module>\u001b[1;34m\u001b[0m\n\u001b[1;32m----> 1\u001b[1;33m \u001b[0mget_ipython\u001b[0m\u001b[1;33m(\u001b[0m\u001b[1;33m)\u001b[0m\u001b[1;33m.\u001b[0m\u001b[0mrun_line_magic\u001b[0m\u001b[1;33m(\u001b[0m\u001b[1;34m'timeit'\u001b[0m\u001b[1;33m,\u001b[0m \u001b[1;34m'-n1 find_duplicate_movies()'\u001b[0m\u001b[1;33m)\u001b[0m\u001b[1;33m\u001b[0m\u001b[1;33m\u001b[0m\u001b[0m\n\u001b[0m",
      "\u001b[1;32mc:\\users\\kurs\\appdata\\local\\programs\\python\\python37\\lib\\site-packages\\IPython\\core\\interactiveshell.py\u001b[0m in \u001b[0;36mrun_line_magic\u001b[1;34m(self, magic_name, line, _stack_depth)\u001b[0m\n\u001b[0;32m   2312\u001b[0m                 \u001b[0mkwargs\u001b[0m\u001b[1;33m[\u001b[0m\u001b[1;34m'local_ns'\u001b[0m\u001b[1;33m]\u001b[0m \u001b[1;33m=\u001b[0m \u001b[0msys\u001b[0m\u001b[1;33m.\u001b[0m\u001b[0m_getframe\u001b[0m\u001b[1;33m(\u001b[0m\u001b[0mstack_depth\u001b[0m\u001b[1;33m)\u001b[0m\u001b[1;33m.\u001b[0m\u001b[0mf_locals\u001b[0m\u001b[1;33m\u001b[0m\u001b[1;33m\u001b[0m\u001b[0m\n\u001b[0;32m   2313\u001b[0m             \u001b[1;32mwith\u001b[0m \u001b[0mself\u001b[0m\u001b[1;33m.\u001b[0m\u001b[0mbuiltin_trap\u001b[0m\u001b[1;33m:\u001b[0m\u001b[1;33m\u001b[0m\u001b[1;33m\u001b[0m\u001b[0m\n\u001b[1;32m-> 2314\u001b[1;33m                 \u001b[0mresult\u001b[0m \u001b[1;33m=\u001b[0m \u001b[0mfn\u001b[0m\u001b[1;33m(\u001b[0m\u001b[1;33m*\u001b[0m\u001b[0margs\u001b[0m\u001b[1;33m,\u001b[0m \u001b[1;33m**\u001b[0m\u001b[0mkwargs\u001b[0m\u001b[1;33m)\u001b[0m\u001b[1;33m\u001b[0m\u001b[1;33m\u001b[0m\u001b[0m\n\u001b[0m\u001b[0;32m   2315\u001b[0m             \u001b[1;32mreturn\u001b[0m \u001b[0mresult\u001b[0m\u001b[1;33m\u001b[0m\u001b[1;33m\u001b[0m\u001b[0m\n\u001b[0;32m   2316\u001b[0m \u001b[1;33m\u001b[0m\u001b[0m\n",
      "\u001b[1;32m<c:\\users\\kurs\\appdata\\local\\programs\\python\\python37\\lib\\site-packages\\decorator.py:decorator-gen-61>\u001b[0m in \u001b[0;36mtimeit\u001b[1;34m(self, line, cell, local_ns)\u001b[0m\n",
      "\u001b[1;32mc:\\users\\kurs\\appdata\\local\\programs\\python\\python37\\lib\\site-packages\\IPython\\core\\magic.py\u001b[0m in \u001b[0;36m<lambda>\u001b[1;34m(f, *a, **k)\u001b[0m\n\u001b[0;32m    185\u001b[0m     \u001b[1;31m# but it's overkill for just that one bit of state.\u001b[0m\u001b[1;33m\u001b[0m\u001b[1;33m\u001b[0m\u001b[1;33m\u001b[0m\u001b[0m\n\u001b[0;32m    186\u001b[0m     \u001b[1;32mdef\u001b[0m \u001b[0mmagic_deco\u001b[0m\u001b[1;33m(\u001b[0m\u001b[0marg\u001b[0m\u001b[1;33m)\u001b[0m\u001b[1;33m:\u001b[0m\u001b[1;33m\u001b[0m\u001b[1;33m\u001b[0m\u001b[0m\n\u001b[1;32m--> 187\u001b[1;33m         \u001b[0mcall\u001b[0m \u001b[1;33m=\u001b[0m \u001b[1;32mlambda\u001b[0m \u001b[0mf\u001b[0m\u001b[1;33m,\u001b[0m \u001b[1;33m*\u001b[0m\u001b[0ma\u001b[0m\u001b[1;33m,\u001b[0m \u001b[1;33m**\u001b[0m\u001b[0mk\u001b[0m\u001b[1;33m:\u001b[0m \u001b[0mf\u001b[0m\u001b[1;33m(\u001b[0m\u001b[1;33m*\u001b[0m\u001b[0ma\u001b[0m\u001b[1;33m,\u001b[0m \u001b[1;33m**\u001b[0m\u001b[0mk\u001b[0m\u001b[1;33m)\u001b[0m\u001b[1;33m\u001b[0m\u001b[1;33m\u001b[0m\u001b[0m\n\u001b[0m\u001b[0;32m    188\u001b[0m \u001b[1;33m\u001b[0m\u001b[0m\n\u001b[0;32m    189\u001b[0m         \u001b[1;32mif\u001b[0m \u001b[0mcallable\u001b[0m\u001b[1;33m(\u001b[0m\u001b[0marg\u001b[0m\u001b[1;33m)\u001b[0m\u001b[1;33m:\u001b[0m\u001b[1;33m\u001b[0m\u001b[1;33m\u001b[0m\u001b[0m\n",
      "\u001b[1;32mc:\\users\\kurs\\appdata\\local\\programs\\python\\python37\\lib\\site-packages\\IPython\\core\\magics\\execution.py\u001b[0m in \u001b[0;36mtimeit\u001b[1;34m(self, line, cell, local_ns)\u001b[0m\n\u001b[0;32m   1160\u001b[0m                     \u001b[1;32mbreak\u001b[0m\u001b[1;33m\u001b[0m\u001b[1;33m\u001b[0m\u001b[0m\n\u001b[0;32m   1161\u001b[0m \u001b[1;33m\u001b[0m\u001b[0m\n\u001b[1;32m-> 1162\u001b[1;33m         \u001b[0mall_runs\u001b[0m \u001b[1;33m=\u001b[0m \u001b[0mtimer\u001b[0m\u001b[1;33m.\u001b[0m\u001b[0mrepeat\u001b[0m\u001b[1;33m(\u001b[0m\u001b[0mrepeat\u001b[0m\u001b[1;33m,\u001b[0m \u001b[0mnumber\u001b[0m\u001b[1;33m)\u001b[0m\u001b[1;33m\u001b[0m\u001b[1;33m\u001b[0m\u001b[0m\n\u001b[0m\u001b[0;32m   1163\u001b[0m         \u001b[0mbest\u001b[0m \u001b[1;33m=\u001b[0m \u001b[0mmin\u001b[0m\u001b[1;33m(\u001b[0m\u001b[0mall_runs\u001b[0m\u001b[1;33m)\u001b[0m \u001b[1;33m/\u001b[0m \u001b[0mnumber\u001b[0m\u001b[1;33m\u001b[0m\u001b[1;33m\u001b[0m\u001b[0m\n\u001b[0;32m   1164\u001b[0m         \u001b[0mworst\u001b[0m \u001b[1;33m=\u001b[0m \u001b[0mmax\u001b[0m\u001b[1;33m(\u001b[0m\u001b[0mall_runs\u001b[0m\u001b[1;33m)\u001b[0m \u001b[1;33m/\u001b[0m \u001b[0mnumber\u001b[0m\u001b[1;33m\u001b[0m\u001b[1;33m\u001b[0m\u001b[0m\n",
      "\u001b[1;32mc:\\users\\kurs\\appdata\\local\\programs\\python\\python37\\lib\\timeit.py\u001b[0m in \u001b[0;36mrepeat\u001b[1;34m(self, repeat, number)\u001b[0m\n\u001b[0;32m    202\u001b[0m         \u001b[0mr\u001b[0m \u001b[1;33m=\u001b[0m \u001b[1;33m[\u001b[0m\u001b[1;33m]\u001b[0m\u001b[1;33m\u001b[0m\u001b[1;33m\u001b[0m\u001b[0m\n\u001b[0;32m    203\u001b[0m         \u001b[1;32mfor\u001b[0m \u001b[0mi\u001b[0m \u001b[1;32min\u001b[0m \u001b[0mrange\u001b[0m\u001b[1;33m(\u001b[0m\u001b[0mrepeat\u001b[0m\u001b[1;33m)\u001b[0m\u001b[1;33m:\u001b[0m\u001b[1;33m\u001b[0m\u001b[1;33m\u001b[0m\u001b[0m\n\u001b[1;32m--> 204\u001b[1;33m             \u001b[0mt\u001b[0m \u001b[1;33m=\u001b[0m \u001b[0mself\u001b[0m\u001b[1;33m.\u001b[0m\u001b[0mtimeit\u001b[0m\u001b[1;33m(\u001b[0m\u001b[0mnumber\u001b[0m\u001b[1;33m)\u001b[0m\u001b[1;33m\u001b[0m\u001b[1;33m\u001b[0m\u001b[0m\n\u001b[0m\u001b[0;32m    205\u001b[0m             \u001b[0mr\u001b[0m\u001b[1;33m.\u001b[0m\u001b[0mappend\u001b[0m\u001b[1;33m(\u001b[0m\u001b[0mt\u001b[0m\u001b[1;33m)\u001b[0m\u001b[1;33m\u001b[0m\u001b[1;33m\u001b[0m\u001b[0m\n\u001b[0;32m    206\u001b[0m         \u001b[1;32mreturn\u001b[0m \u001b[0mr\u001b[0m\u001b[1;33m\u001b[0m\u001b[1;33m\u001b[0m\u001b[0m\n",
      "\u001b[1;32mc:\\users\\kurs\\appdata\\local\\programs\\python\\python37\\lib\\site-packages\\IPython\\core\\magics\\execution.py\u001b[0m in \u001b[0;36mtimeit\u001b[1;34m(self, number)\u001b[0m\n\u001b[0;32m    167\u001b[0m         \u001b[0mgc\u001b[0m\u001b[1;33m.\u001b[0m\u001b[0mdisable\u001b[0m\u001b[1;33m(\u001b[0m\u001b[1;33m)\u001b[0m\u001b[1;33m\u001b[0m\u001b[1;33m\u001b[0m\u001b[0m\n\u001b[0;32m    168\u001b[0m         \u001b[1;32mtry\u001b[0m\u001b[1;33m:\u001b[0m\u001b[1;33m\u001b[0m\u001b[1;33m\u001b[0m\u001b[0m\n\u001b[1;32m--> 169\u001b[1;33m             \u001b[0mtiming\u001b[0m \u001b[1;33m=\u001b[0m \u001b[0mself\u001b[0m\u001b[1;33m.\u001b[0m\u001b[0minner\u001b[0m\u001b[1;33m(\u001b[0m\u001b[0mit\u001b[0m\u001b[1;33m,\u001b[0m \u001b[0mself\u001b[0m\u001b[1;33m.\u001b[0m\u001b[0mtimer\u001b[0m\u001b[1;33m)\u001b[0m\u001b[1;33m\u001b[0m\u001b[1;33m\u001b[0m\u001b[0m\n\u001b[0m\u001b[0;32m    170\u001b[0m         \u001b[1;32mfinally\u001b[0m\u001b[1;33m:\u001b[0m\u001b[1;33m\u001b[0m\u001b[1;33m\u001b[0m\u001b[0m\n\u001b[0;32m    171\u001b[0m             \u001b[1;32mif\u001b[0m \u001b[0mgcold\u001b[0m\u001b[1;33m:\u001b[0m\u001b[1;33m\u001b[0m\u001b[1;33m\u001b[0m\u001b[0m\n",
      "\u001b[1;32m<magic-timeit>\u001b[0m in \u001b[0;36minner\u001b[1;34m(_it, _timer)\u001b[0m\n",
      "\u001b[1;32m<ipython-input-75-c2eeeb80984b>\u001b[0m in \u001b[0;36mwrapper\u001b[1;34m(*args, **kwargs)\u001b[0m\n\u001b[0;32m      7\u001b[0m         \u001b[0mpr\u001b[0m \u001b[1;33m=\u001b[0m \u001b[0mcProfile\u001b[0m\u001b[1;33m.\u001b[0m\u001b[0mProfile\u001b[0m\u001b[1;33m(\u001b[0m\u001b[1;33m)\u001b[0m\u001b[1;33m\u001b[0m\u001b[1;33m\u001b[0m\u001b[0m\n\u001b[0;32m      8\u001b[0m         \u001b[0mpr\u001b[0m\u001b[1;33m.\u001b[0m\u001b[0menable\u001b[0m\u001b[1;33m(\u001b[0m\u001b[1;33m)\u001b[0m\u001b[1;33m\u001b[0m\u001b[1;33m\u001b[0m\u001b[0m\n\u001b[1;32m----> 9\u001b[1;33m         \u001b[0mretval\u001b[0m \u001b[1;33m=\u001b[0m \u001b[0mfunc\u001b[0m\u001b[1;33m(\u001b[0m\u001b[1;33m*\u001b[0m\u001b[0margs\u001b[0m\u001b[1;33m,\u001b[0m \u001b[1;33m**\u001b[0m\u001b[0mkwargs\u001b[0m\u001b[1;33m)\u001b[0m\u001b[1;33m\u001b[0m\u001b[1;33m\u001b[0m\u001b[0m\n\u001b[0m\u001b[0;32m     10\u001b[0m         \u001b[0mpr\u001b[0m\u001b[1;33m.\u001b[0m\u001b[0mdisable\u001b[0m\u001b[1;33m(\u001b[0m\u001b[1;33m)\u001b[0m\u001b[1;33m\u001b[0m\u001b[1;33m\u001b[0m\u001b[0m\n\u001b[0;32m     11\u001b[0m         \u001b[0ms\u001b[0m \u001b[1;33m=\u001b[0m \u001b[0mio\u001b[0m\u001b[1;33m.\u001b[0m\u001b[0mStringIO\u001b[0m\u001b[1;33m(\u001b[0m\u001b[1;33m)\u001b[0m\u001b[1;33m\u001b[0m\u001b[1;33m\u001b[0m\u001b[0m\n",
      "\u001b[1;32m<ipython-input-79-4299886d3cb4>\u001b[0m in \u001b[0;36mfind_duplicate_movies\u001b[1;34m(src)\u001b[0m\n\u001b[0;32m     13\u001b[0m \u001b[1;33m@\u001b[0m\u001b[0mprofile\u001b[0m\u001b[1;33m\u001b[0m\u001b[1;33m\u001b[0m\u001b[0m\n\u001b[0;32m     14\u001b[0m \u001b[1;32mdef\u001b[0m \u001b[0mfind_duplicate_movies\u001b[0m\u001b[1;33m(\u001b[0m\u001b[0msrc\u001b[0m\u001b[1;33m=\u001b[0m\u001b[1;34m\"data/movies.csv\"\u001b[0m\u001b[1;33m)\u001b[0m\u001b[1;33m:\u001b[0m\u001b[1;33m\u001b[0m\u001b[1;33m\u001b[0m\u001b[0m\n\u001b[1;32m---> 15\u001b[1;33m     \u001b[0mmovies\u001b[0m \u001b[1;33m=\u001b[0m \u001b[0mread_movies\u001b[0m\u001b[1;33m(\u001b[0m\u001b[0msrc\u001b[0m\u001b[1;33m)\u001b[0m\u001b[1;33m\u001b[0m\u001b[1;33m\u001b[0m\u001b[0m\n\u001b[0m\u001b[0;32m     16\u001b[0m     \u001b[0mduplicates\u001b[0m \u001b[1;33m=\u001b[0m \u001b[1;33m[\u001b[0m\u001b[1;33m]\u001b[0m\u001b[1;33m\u001b[0m\u001b[1;33m\u001b[0m\u001b[0m\n\u001b[0;32m     17\u001b[0m     \u001b[1;32mwhile\u001b[0m \u001b[0mmovies\u001b[0m\u001b[1;33m:\u001b[0m\u001b[1;33m\u001b[0m\u001b[1;33m\u001b[0m\u001b[0m\n",
      "\u001b[1;32m<ipython-input-79-4299886d3cb4>\u001b[0m in \u001b[0;36mread_movies\u001b[1;34m(src, N)\u001b[0m\n\u001b[0;32m      2\u001b[0m \u001b[1;32mdef\u001b[0m \u001b[0mread_movies\u001b[0m\u001b[1;33m(\u001b[0m\u001b[0msrc\u001b[0m\u001b[1;33m,\u001b[0m \u001b[0mN\u001b[0m\u001b[1;33m=\u001b[0m\u001b[1;36m5000\u001b[0m\u001b[1;33m)\u001b[0m\u001b[1;33m:\u001b[0m\u001b[1;33m\u001b[0m\u001b[1;33m\u001b[0m\u001b[0m\n\u001b[0;32m      3\u001b[0m     \u001b[1;32mwith\u001b[0m \u001b[0mopen\u001b[0m\u001b[1;33m(\u001b[0m\u001b[0msrc\u001b[0m\u001b[1;33m)\u001b[0m \u001b[1;32mas\u001b[0m \u001b[0mfh\u001b[0m\u001b[1;33m:\u001b[0m\u001b[1;33m\u001b[0m\u001b[1;33m\u001b[0m\u001b[0m\n\u001b[1;32m----> 4\u001b[1;33m         \u001b[1;32mreturn\u001b[0m \u001b[0mfh\u001b[0m\u001b[1;33m.\u001b[0m\u001b[0mread\u001b[0m\u001b[1;33m(\u001b[0m\u001b[1;33m)\u001b[0m\u001b[1;33m.\u001b[0m\u001b[0msplitlines\u001b[0m\u001b[1;33m(\u001b[0m\u001b[1;33m)\u001b[0m\u001b[1;33m[\u001b[0m\u001b[1;33m:\u001b[0m\u001b[0mN\u001b[0m\u001b[1;33m]\u001b[0m\u001b[1;33m\u001b[0m\u001b[1;33m\u001b[0m\u001b[0m\n\u001b[0m\u001b[0;32m      5\u001b[0m \u001b[1;33m\u001b[0m\u001b[0m\n\u001b[0;32m      6\u001b[0m \u001b[1;32mdef\u001b[0m \u001b[0mis_duplicate\u001b[0m\u001b[1;33m(\u001b[0m\u001b[0mneedle\u001b[0m\u001b[1;33m,\u001b[0m \u001b[0mhaystack\u001b[0m\u001b[1;33m)\u001b[0m\u001b[1;33m:\u001b[0m\u001b[1;33m\u001b[0m\u001b[1;33m\u001b[0m\u001b[0m\n",
      "\u001b[1;32mc:\\users\\kurs\\appdata\\local\\programs\\python\\python37\\lib\\encodings\\cp1250.py\u001b[0m in \u001b[0;36mdecode\u001b[1;34m(self, input, final)\u001b[0m\n\u001b[0;32m     21\u001b[0m \u001b[1;32mclass\u001b[0m \u001b[0mIncrementalDecoder\u001b[0m\u001b[1;33m(\u001b[0m\u001b[0mcodecs\u001b[0m\u001b[1;33m.\u001b[0m\u001b[0mIncrementalDecoder\u001b[0m\u001b[1;33m)\u001b[0m\u001b[1;33m:\u001b[0m\u001b[1;33m\u001b[0m\u001b[1;33m\u001b[0m\u001b[0m\n\u001b[0;32m     22\u001b[0m     \u001b[1;32mdef\u001b[0m \u001b[0mdecode\u001b[0m\u001b[1;33m(\u001b[0m\u001b[0mself\u001b[0m\u001b[1;33m,\u001b[0m \u001b[0minput\u001b[0m\u001b[1;33m,\u001b[0m \u001b[0mfinal\u001b[0m\u001b[1;33m=\u001b[0m\u001b[1;32mFalse\u001b[0m\u001b[1;33m)\u001b[0m\u001b[1;33m:\u001b[0m\u001b[1;33m\u001b[0m\u001b[1;33m\u001b[0m\u001b[0m\n\u001b[1;32m---> 23\u001b[1;33m         \u001b[1;32mreturn\u001b[0m \u001b[0mcodecs\u001b[0m\u001b[1;33m.\u001b[0m\u001b[0mcharmap_decode\u001b[0m\u001b[1;33m(\u001b[0m\u001b[0minput\u001b[0m\u001b[1;33m,\u001b[0m\u001b[0mself\u001b[0m\u001b[1;33m.\u001b[0m\u001b[0merrors\u001b[0m\u001b[1;33m,\u001b[0m\u001b[0mdecoding_table\u001b[0m\u001b[1;33m)\u001b[0m\u001b[1;33m[\u001b[0m\u001b[1;36m0\u001b[0m\u001b[1;33m]\u001b[0m\u001b[1;33m\u001b[0m\u001b[1;33m\u001b[0m\u001b[0m\n\u001b[0m\u001b[0;32m     24\u001b[0m \u001b[1;33m\u001b[0m\u001b[0m\n\u001b[0;32m     25\u001b[0m \u001b[1;32mclass\u001b[0m \u001b[0mStreamWriter\u001b[0m\u001b[1;33m(\u001b[0m\u001b[0mCodec\u001b[0m\u001b[1;33m,\u001b[0m\u001b[0mcodecs\u001b[0m\u001b[1;33m.\u001b[0m\u001b[0mStreamWriter\u001b[0m\u001b[1;33m)\u001b[0m\u001b[1;33m:\u001b[0m\u001b[1;33m\u001b[0m\u001b[1;33m\u001b[0m\u001b[0m\n",
      "\u001b[1;31mUnicodeDecodeError\u001b[0m: 'charmap' codec can't decode byte 0x83 in position 4162889: character maps to <undefined>"
     ]
    }
   ],
   "source": [
    "%timeit -n1 find_duplicate_movies()"
   ]
  },
  {
   "cell_type": "markdown",
   "metadata": {},
   "source": [
    "Postarajmy się sprofilować nasz kod i zobaczyć co tam się dzieje.\n",
    "W tym celu stworzymy dekorator `@profile`, który umożliwi profilowanie funkcji i wypisze raport. Napiszemy to w oparciu o: https://docs.python.org/3/library/profile.html#profile.Profile"
   ]
  },
  {
   "cell_type": "code",
   "execution_count": null,
   "metadata": {
    "ExecuteTime": {
     "end_time": "2020-01-07T14:43:26.091178Z",
     "start_time": "2020-01-07T14:43:26.083167Z"
    }
   },
   "outputs": [],
   "source": [
    "import cProfile, pstats, io\n",
    "\n",
    "def profile(func):\n",
    "    \"\"\"A decorator that uses cProfile to profile a function\"\"\"\n",
    "    \n",
    "    def wrapper(*args, **kwargs):\n",
    "        pr = cProfile.Profile()\n",
    "        pr.enable()\n",
    "        retval = func(*args, **kwargs)\n",
    "        pr.disable()\n",
    "        s = io.StringIO()\n",
    "        sortby = \"cumulative\"\n",
    "        ps = pstats.Stats(pr, stream=s).sort_stats(sortby)\n",
    "        ps.print_stats()\n",
    "        print(s.getvalue())\n",
    "        return retval\n",
    "    return wrapper"
   ]
  },
  {
   "cell_type": "markdown",
   "metadata": {},
   "source": [
    "Udekorujemy teraz funkcję, którą chcemy profilować. Można to zrobić w oryginalnej celce, ale zachowam tutaj kolejność i przepisze kod jeszcze raz"
   ]
  },
  {
   "cell_type": "code",
   "execution_count": null,
   "metadata": {
    "ExecuteTime": {
     "end_time": "2020-01-07T15:10:26.700157Z",
     "start_time": "2020-01-07T15:10:21.197983Z"
    }
   },
   "outputs": [],
   "source": [
    "# ver 1 - dodany dekorator profilera\n",
    "\n",
    "def read_movies(src, N=5000):\n",
    "    with open(src) as fh:\n",
    "        return fh.read().splitlines()[:N]\n",
    "\n",
    "def is_duplicate(needle, haystack):\n",
    "\n",
    "    for movie in haystack:\n",
    "        if needle.lower() == movie.lower():\n",
    "            return True\n",
    "    return False\n",
    "\n",
    "@profile\n",
    "def find_duplicate_movies(src=\"data/movies.csv\"):\n",
    "    movies = read_movies(src)\n",
    "    duplicates = []\n",
    "    while movies:\n",
    "        movie = movies.pop()\n",
    "        if is_duplicate(movie, movies):\n",
    "            duplicates.append(movie)\n",
    "    return duplicates\n",
    "\n",
    "find_duplicate_movies()"
   ]
  },
  {
   "cell_type": "markdown",
   "metadata": {},
   "source": [
    "Widzimy winowajcę:\n",
    "\n",
    "            1    0.005    0.005    5.454    5.454 <ipython-input-209-7044ee3853c0>:12(find_duplicate_movies)\n",
    "         5000    3.095    0.001    5.367    0.001 <ipython-input-209-7044ee3853c0>:5(is_duplicate)\n",
    "     24679772    2.272    0.000    2.272    0.000 {method 'lower' of 'str' objects}\n",
    "     \n",
    "Zmieńmy więc trochę implementację:\n",
    "\n"
   ]
  },
  {
   "cell_type": "code",
   "execution_count": null,
   "metadata": {
    "ExecuteTime": {
     "end_time": "2020-01-07T15:10:43.782473Z",
     "start_time": "2020-01-07T15:10:43.242887Z"
    }
   },
   "outputs": [],
   "source": [
    "# ver 2 - optymalizacja ze względu na lower()\n",
    "def read_movies(src, N=5000):\n",
    "    with open(src) as fh:\n",
    "        return fh.read().splitlines()[:N]\n",
    "\n",
    "def is_duplicate(needle, haystack):\n",
    "\n",
    "    for movie in haystack:\n",
    "        if needle == movie:\n",
    "            return True\n",
    "    return False\n",
    "\n",
    "@profile\n",
    "def find_duplicate_movies(src=\"data/movies.csv\"):\n",
    "    movies = [movie.lower() for movie in read_movies(src)]\n",
    "    duplicates = []\n",
    "    while movies:\n",
    "        movie = movies.pop()\n",
    "        if is_duplicate(movie, movies):\n",
    "            duplicates.append(movie)\n",
    "    return duplicates\n",
    "\n",
    "find_duplicate_movies()"
   ]
  },
  {
   "cell_type": "markdown",
   "metadata": {},
   "source": [
    "Czy potrzebujemy teraz funkcji is_duplicate? Zamiast pętli moglibyśmy sprawdzić przecież przynależność"
   ]
  },
  {
   "cell_type": "code",
   "execution_count": null,
   "metadata": {
    "ExecuteTime": {
     "end_time": "2020-01-07T15:10:53.693797Z",
     "start_time": "2020-01-07T15:10:53.386777Z"
    }
   },
   "outputs": [],
   "source": [
    "# ver 3 sprawdzenie przynależności zamiast pętli\n",
    "def read_movies(src, N=5000):\n",
    "    with open(src) as fh:\n",
    "        return fh.read().splitlines()[:N]\n",
    "\n",
    "@profile\n",
    "def find_duplicate_movies(src=\"data/movies.csv\"):\n",
    "    movies = [movie.lower() for movie in read_movies(src)]\n",
    "    duplicates = []\n",
    "    while movies:\n",
    "        movie = movies.pop()\n",
    "        if movie in movies:\n",
    "            duplicates.append(movie)\n",
    "    return duplicates\n",
    "\n",
    "find_duplicate_movies()"
   ]
  },
  {
   "cell_type": "markdown",
   "metadata": {},
   "source": [
    "Dopracujmy metodę read_movies - to się powinno dać zrobić szybciej. Może coś zamiast read?"
   ]
  },
  {
   "cell_type": "code",
   "execution_count": null,
   "metadata": {
    "ExecuteTime": {
     "end_time": "2020-01-07T15:26:36.563260Z",
     "start_time": "2020-01-07T15:26:36.352046Z"
    }
   },
   "outputs": [],
   "source": [
    "# ver 4 optymalizacja read movies\n",
    "def read_movies(src, N=5000):\n",
    "    with open(src) as fh:\n",
    "        return [next(fh) for i in range(N)]\n",
    "\n",
    "@profile\n",
    "def find_duplicate_movies(src=\"data/movies.csv\"):\n",
    "    movies = [movie.lower() for movie in read_movies(src)]\n",
    "    duplicates = []\n",
    "    while movies:\n",
    "        movie = movies.pop()\n",
    "        if movie in movies:\n",
    "            duplicates.append(movie)\n",
    "    return duplicates\n",
    "\n",
    "find_duplicate_movies()"
   ]
  },
  {
   "cell_type": "markdown",
   "metadata": {},
   "source": [
    "Do zrobienia jest jeszcze trochę w tym miejscu:\n",
    "    \n",
    "    duplicates = []\n",
    "    while movies:\n",
    "        movie = movies.pop()\n",
    "        if movie in movies:\n",
    "            duplicates.append(movie)\n",
    "\n",
    "\n",
    "Wielokrotnie iterujemy po liście. Może coś tutaj dałoby się wymyśleć. \n",
    "\n",
    "gdybyśmy mieli taką listę: \n",
    "    \n",
    "    [1, 3, 1, 4, 2, 3, 1]\n",
    "\n",
    "i gdybyśmy ją posortowali \n",
    "\n",
    "    [1, 1, 1, 2, 3, 3, 4]\n",
    "\n",
    "jeśli teraz zrobimy sobie dwie listy, które są wycinkami tej listy - bez pierwszego i bez ostatniego\n",
    "\n",
    "    [1, 1, 2, 3, 3, 4]\n",
    "    [1, 1, 1, 2, 3, 3]\n",
    "    \n",
    "Dzięki posortowaniu wiemy, że te same elementy leżeć będą obok siebie. Tutaj więc będą się zgadzać ich pozycje. Wykorzystajmy to\n"
   ]
  },
  {
   "cell_type": "code",
   "execution_count": null,
   "metadata": {
    "ExecuteTime": {
     "end_time": "2020-01-07T15:28:57.420775Z",
     "start_time": "2020-01-07T15:28:57.366392Z"
    }
   },
   "outputs": [],
   "source": [
    "# ver 5 optymalizacja read movies\n",
    "def read_movies(src, N=5000):\n",
    "    with open(src) as fh:\n",
    "        return [next(fh) for i in range(N)]\n",
    "\n",
    "@profile    \n",
    "def find_duplicate_movies(src=\"data/movies.csv\"):\n",
    "    movies = [movie.lower() for movie in read_movies(src)]\n",
    "    movies.sort()\n",
    "    duplicates = [movie1 for movie1, movie2 in zip(movies[:-1], movies[1:]) if movie1 == movie2]\n",
    "    return duplicates\n",
    "\n",
    "find_duplicate_movies()"
   ]
  },
  {
   "cell_type": "markdown",
   "metadata": {},
   "source": [
    "Musimy się jeszcze uodpornić na wczytanie większej liczby linii\n",
    "\n"
   ]
  },
  {
   "cell_type": "code",
   "execution_count": null,
   "metadata": {
    "ExecuteTime": {
     "end_time": "2020-01-07T15:32:17.486633Z",
     "start_time": "2020-01-07T15:32:17.256656Z"
    }
   },
   "outputs": [],
   "source": [
    "# ver 6 wczytywanie większej liczby linii\n",
    "def read_movies(src, N):\n",
    "    with open(src) as fh:\n",
    "        return [next(fh) for i in range(N)]\n",
    "\n",
    "@profile    \n",
    "def find_duplicate_movies(src=\"data/movies.csv\", N=5000):\n",
    "    movies = [movie.lower() for movie in read_movies(src, N)]\n",
    "    movies.sort()\n",
    "    duplicates = [movie1 for movie1, movie2 in zip(movies[:-1], movies[1:]) if movie1 == movie2]\n",
    "    return duplicates\n",
    "\n",
    "find_duplicate_movies(N=500000)"
   ]
  },
  {
   "cell_type": "markdown",
   "metadata": {
    "ExecuteTime": {
     "end_time": "2020-01-07T15:32:58.398121Z",
     "start_time": "2020-01-07T15:32:58.391652Z"
    }
   },
   "source": [
    "By poradzić sobie ze StopIteration możemy sięgnąć np po `itertools.islice`"
   ]
  },
  {
   "cell_type": "code",
   "execution_count": null,
   "metadata": {
    "ExecuteTime": {
     "end_time": "2020-01-07T15:49:37.857517Z",
     "start_time": "2020-01-07T15:49:37.539648Z"
    }
   },
   "outputs": [],
   "source": [
    "# ver 7\n",
    "import itertools\n",
    "\n",
    "def read_movies(src, N=5000):\n",
    "    with open(src) as fh:\n",
    "        return list(itertools.islice(fh, N))\n",
    "\n",
    "@profile    \n",
    "def find_duplicate_movies(src=\"data/movies.csv\", N=5000):\n",
    "    movies = [movie.lower() for movie in read_movies(src, N)]\n",
    "    movies.sort()\n",
    "    duplicates = [movie1 for movie1, movie2 in zip(movies[:-1], movies[1:]) if movie1 == movie2]\n",
    "    return duplicates\n",
    "\n",
    "find_duplicate_movies(N=500000)"
   ]
  },
  {
   "cell_type": "code",
   "execution_count": null,
   "metadata": {
    "ExecuteTime": {
     "end_time": "2020-01-07T15:49:39.805509Z",
     "start_time": "2020-01-07T15:49:39.499717Z"
    }
   },
   "outputs": [],
   "source": [
    "# ver 8 \n",
    "import itertools\n",
    "\n",
    "def read_movies(src, N=5000):\n",
    "    with open(src) as fh:\n",
    "        return list(itertools.islice(fh, N))\n",
    "\n",
    "@profile    \n",
    "def find_duplicate_movies(src=\"data/movies.csv\", N=5000):\n",
    "    l = str.lower\n",
    "    movies = [l(movie) for movie in read_movies(src, N)]\n",
    "    movies.sort()\n",
    "    duplicates = [movie1 for movie1, movie2 in zip(movies[:-1], movies[1:]) if movie1 == movie2]\n",
    "    return duplicates\n",
    "\n",
    "find_duplicate_movies(N=500000)"
   ]
  },
  {
   "cell_type": "code",
   "execution_count": null,
   "metadata": {
    "ExecuteTime": {
     "end_time": "2020-01-07T15:47:55.641760Z",
     "start_time": "2020-01-07T15:47:55.324298Z"
    }
   },
   "outputs": [],
   "source": []
  },
  {
   "cell_type": "code",
   "execution_count": null,
   "metadata": {
    "ExecuteTime": {
     "end_time": "2020-01-07T15:47:07.209343Z",
     "start_time": "2020-01-07T15:47:07.197614Z"
    }
   },
   "outputs": [],
   "source": [
    "def xxx(text):\n",
    "    l = str.lower\n",
    "    return l(text)\n",
    "\n",
    "def xxx2(text):\n",
    "    return text.lower()\n",
    "    "
   ]
  },
  {
   "cell_type": "code",
   "execution_count": null,
   "metadata": {
    "ExecuteTime": {
     "end_time": "2020-01-07T15:45:49.211619Z",
     "start_time": "2020-01-07T15:45:47.606636Z"
    }
   },
   "outputs": [],
   "source": [
    "%timeit xxx(\"QWE\")"
   ]
  },
  {
   "cell_type": "code",
   "execution_count": null,
   "metadata": {
    "ExecuteTime": {
     "end_time": "2020-01-07T15:46:12.157803Z",
     "start_time": "2020-01-07T15:46:01.183270Z"
    }
   },
   "outputs": [],
   "source": [
    "%timeit xxx2(\"QWE\")"
   ]
  },
  {
   "cell_type": "markdown",
   "metadata": {},
   "source": [
    "#### Podsumowując\n",
    "\n",
    "* Są różne rodzaje optymalizacji (szybkość, pamięć, stabilność itp)\n",
    "* Są różne poziomy optymalizacji (projekt, algorytmy, struktury danych, kod źródłowy)\n",
    "* Optymalizacja kodu źródłowego sumuje się - każda poprawka wnosi swój wkład w przyspieszenie\n",
    "* Optymalizacja kodu źródłowego jest stosunkowo prosta i \"tania\" - wystarczy, że będziemy trzymać się idiomów pythona, korzystać z funkcji wbudowanych, biblioteki standardowej. Nie wymyślajmy koła na nowo.\n",
    "* Przed optymalizacją dokończ swój kod - spraw by powstała działająca wersja, napisz testy, które pomogą uniknąć błędów regresji, przetestuj swój kod. Zapisz wyniki i czas by mieć z czym porównywać. Profiluj swój kod. "
   ]
  },
  {
   "cell_type": "code",
   "execution_count": null,
   "metadata": {},
   "outputs": [],
   "source": []
  }
 ],
 "metadata": {
  "kernelspec": {
   "display_name": "Python 3",
   "language": "python",
   "name": "python3"
  },
  "language_info": {
   "codemirror_mode": {
    "name": "ipython",
    "version": 3
   },
   "file_extension": ".py",
   "mimetype": "text/x-python",
   "name": "python",
   "nbconvert_exporter": "python",
   "pygments_lexer": "ipython3",
   "version": "3.7.4"
  },
  "toc": {
   "base_numbering": 1,
   "nav_menu": {},
   "number_sections": true,
   "sideBar": true,
   "skip_h1_title": false,
   "title_cell": "Table of Contents",
   "title_sidebar": "Contents",
   "toc_cell": false,
   "toc_position": {},
   "toc_section_display": true,
   "toc_window_display": true
  }
 },
 "nbformat": 4,
 "nbformat_minor": 2
}

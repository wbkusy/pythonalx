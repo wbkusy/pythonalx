{
 "cells": [
  {
   "cell_type": "markdown",
   "metadata": {},
   "source": [
    "# Operacje I/O\n",
    "\n",
    "## Managery kontekstu"
   ]
  },
  {
   "cell_type": "markdown",
   "metadata": {},
   "source": [
    "## praca z plikami"
   ]
  },
  {
   "cell_type": "markdown",
   "metadata": {},
   "source": [
    "### Przykład optymalizacji - zwrócenie długości pliku."
   ]
  },
  {
   "cell_type": "code",
   "execution_count": 9,
   "metadata": {
    "ExecuteTime": {
     "end_time": "2020-01-07T23:52:38.758595Z",
     "start_time": "2020-01-07T23:52:38.470362Z"
    }
   },
   "outputs": [
    {
     "ename": "NameError",
     "evalue": "name 'mmap' is not defined",
     "output_type": "error",
     "traceback": [
      "\u001b[0;31m---------------------------------------------------------------------------\u001b[0m",
      "\u001b[0;31mNameError\u001b[0m                                 Traceback (most recent call last)",
      "\u001b[0;32m<ipython-input-9-a6337d5a2e56>\u001b[0m in \u001b[0;36m<module>\u001b[0;34m\u001b[0m\n\u001b[1;32m     34\u001b[0m     \u001b[0;32mreturn\u001b[0m \u001b[0mlines\u001b[0m\u001b[0;34m\u001b[0m\u001b[0;34m\u001b[0m\u001b[0m\n\u001b[1;32m     35\u001b[0m \u001b[0;34m\u001b[0m\u001b[0m\n\u001b[0;32m---> 36\u001b[0;31m \u001b[0;32massert\u001b[0m \u001b[0mmapcount\u001b[0m\u001b[0;34m(\u001b[0m\u001b[0mfilename\u001b[0m\u001b[0;34m)\u001b[0m \u001b[0;34m==\u001b[0m \u001b[0;36m298127\u001b[0m\u001b[0;34m\u001b[0m\u001b[0;34m\u001b[0m\u001b[0m\n\u001b[0m\u001b[1;32m     37\u001b[0m \u001b[0;34m\u001b[0m\u001b[0m\n\u001b[1;32m     38\u001b[0m \u001b[0;32mdef\u001b[0m \u001b[0mbufcount\u001b[0m\u001b[0;34m(\u001b[0m\u001b[0mfilename\u001b[0m\u001b[0;34m)\u001b[0m\u001b[0;34m:\u001b[0m\u001b[0;34m\u001b[0m\u001b[0;34m\u001b[0m\u001b[0m\n",
      "\u001b[0;32m<ipython-input-9-a6337d5a2e56>\u001b[0m in \u001b[0;36mmapcount\u001b[0;34m(filename)\u001b[0m\n\u001b[1;32m     28\u001b[0m     \u001b[0mlines\u001b[0m \u001b[0;34m=\u001b[0m \u001b[0;36m0\u001b[0m\u001b[0;34m\u001b[0m\u001b[0;34m\u001b[0m\u001b[0m\n\u001b[1;32m     29\u001b[0m     \u001b[0;32mwith\u001b[0m \u001b[0mopen\u001b[0m\u001b[0;34m(\u001b[0m\u001b[0mfilename\u001b[0m\u001b[0;34m)\u001b[0m \u001b[0;32mas\u001b[0m \u001b[0mf\u001b[0m\u001b[0;34m:\u001b[0m\u001b[0;34m\u001b[0m\u001b[0;34m\u001b[0m\u001b[0m\n\u001b[0;32m---> 30\u001b[0;31m         \u001b[0mbuf\u001b[0m \u001b[0;34m=\u001b[0m \u001b[0mmmap\u001b[0m\u001b[0;34m.\u001b[0m\u001b[0mmmap\u001b[0m\u001b[0;34m(\u001b[0m\u001b[0mf\u001b[0m\u001b[0;34m.\u001b[0m\u001b[0mfileno\u001b[0m\u001b[0;34m(\u001b[0m\u001b[0;34m)\u001b[0m\u001b[0;34m,\u001b[0m \u001b[0;36m0\u001b[0m\u001b[0;34m,\u001b[0m \u001b[0mprot\u001b[0m\u001b[0;34m=\u001b[0m\u001b[0mmmap\u001b[0m\u001b[0;34m.\u001b[0m\u001b[0mPROT_READ\u001b[0m\u001b[0;34m)\u001b[0m\u001b[0;34m\u001b[0m\u001b[0;34m\u001b[0m\u001b[0m\n\u001b[0m\u001b[1;32m     31\u001b[0m         \u001b[0mreadline\u001b[0m \u001b[0;34m=\u001b[0m \u001b[0mbuf\u001b[0m\u001b[0;34m.\u001b[0m\u001b[0mreadline\u001b[0m\u001b[0;34m\u001b[0m\u001b[0;34m\u001b[0m\u001b[0m\n\u001b[1;32m     32\u001b[0m         \u001b[0;32mwhile\u001b[0m \u001b[0mreadline\u001b[0m\u001b[0;34m(\u001b[0m\u001b[0;34m)\u001b[0m\u001b[0;34m:\u001b[0m\u001b[0;34m\u001b[0m\u001b[0;34m\u001b[0m\u001b[0m\n",
      "\u001b[0;31mNameError\u001b[0m: name 'mmap' is not defined"
     ]
    }
   ],
   "source": [
    "filename = \"data/PESEL_NAZWISKA.csv\"  # 298127 linii\n",
    "\n",
    "def simplecount(filename):\n",
    "    lines=0\n",
    "    with open(filename) as f:\n",
    "        for line in f:\n",
    "            lines += 1\n",
    "    return lines\n",
    "\n",
    "simplecount(filename)\n",
    "\n",
    "def simplecount2(filename):\n",
    "    with open(filename) as f:\n",
    "        lines = sum(1 for line in f)\n",
    "    return lines\n",
    "\n",
    "assert simplecount2(filename) == 298127\n",
    "\n",
    "def enumerate_count(fname):\n",
    "    with open(fname) as f:\n",
    "        for i, l in enumerate(f):\n",
    "            pass\n",
    "    return i + 1\n",
    "\n",
    "assert enumerate_count(filename) == 298127\n",
    "\n",
    "def mapcount(filename):\n",
    "    lines = 0\n",
    "    with open(filename) as f:\n",
    "        buf = mmap.mmap(f.fileno(), 0, prot=mmap.PROT_READ)\n",
    "        readline = buf.readline\n",
    "        while readline():\n",
    "            lines += 1\n",
    "    return lines\n",
    "\n",
    "assert mapcount(filename) == 298127\n",
    "\n",
    "def bufcount(filename):\n",
    "    lines=0\n",
    "    buf_size = 1024 * 1024\n",
    "  \n",
    "    with open(filename) as f:\n",
    "        lines = 0\n",
    "        read_f = f.read # loop optimization\n",
    "        buf = read_f(buf_size)\n",
    "        while buf:\n",
    "            lines += buf.count('\\n')\n",
    "            buf = read_f(buf_size)\n",
    "    return lines\n",
    "\n",
    "assert bufcount(filename) == 298127\n",
    "\n",
    "import numpy as np\n",
    "\n",
    "def numpy_count(filename):\n",
    "    my_data = np.genfromtxt(filename, delimiter=',')\n",
    "    return my_data.shape[0]\n",
    "\n",
    "assert bufcount(filename) == 298127\n",
    "\n",
    "\n",
    "import pandas as pd\n",
    "\n",
    "def pd_read(filename):\n",
    "    df = pd.read_csv(filename)\n",
    "    return df.shape[0] + 1\n",
    "\n",
    "assert pd_read(filename) == 298127\n",
    "\n",
    "import time\n",
    "import mmap\n",
    "import random\n",
    "from collections import defaultdict\n",
    "\n",
    "\n",
    "methods = [\n",
    "    simplecount,\n",
    "    simplecount2,\n",
    "    enumerate_count,\n",
    "    mapcount,\n",
    "    bufcount,\n",
    "    numpy_count,\n",
    "    pd_read, \n",
    "    \n",
    "\n",
    "]\n",
    "counts = defaultdict(list)\n",
    "\n",
    "for i in range(5):\n",
    "    for func in methods:\n",
    "        start_time = time.time()\n",
    "        assert func(\"data/PESEL_NAZWISKA.csv\") == 298127\n",
    "        counts[func].append(time.time() - start_time)\n",
    "\n",
    "for key, vals in counts.items():\n",
    "    print(key.__name__, \":\", sum(vals) / float(len(vals)))"
   ]
  },
  {
   "cell_type": "markdown",
   "metadata": {},
   "source": [
    "### Praca z dużymi plikam"
   ]
  },
  {
   "cell_type": "code",
   "execution_count": null,
   "metadata": {},
   "outputs": [],
   "source": []
  },
  {
   "cell_type": "markdown",
   "metadata": {},
   "source": [
    "## Bazy danych\n",
    "\n",
    "### Postgresql"
   ]
  },
  {
   "cell_type": "code",
   "execution_count": 7,
   "metadata": {
    "ExecuteTime": {
     "end_time": "2020-01-04T14:36:39.781220Z",
     "start_time": "2020-01-04T14:36:39.776487Z"
    }
   },
   "outputs": [],
   "source": [
    "# pip install psycopg2\n",
    "# !which pip"
   ]
  },
  {
   "cell_type": "markdown",
   "metadata": {},
   "source": [
    "Dane do połączenia z bazą danych"
   ]
  },
  {
   "cell_type": "code",
   "execution_count": 1,
   "metadata": {
    "ExecuteTime": {
     "end_time": "2020-01-07T23:28:11.452037Z",
     "start_time": "2020-01-07T23:28:11.447507Z"
    }
   },
   "outputs": [],
   "source": [
    "connection_data = dict(\n",
    "    user=\"doadmin\",\n",
    "    password=\"mo8ishar2150lq59\",\n",
    "    host=\"db-kpmg-tests-do-user-2498346-0.db.ondigitalocean.com\",\n",
    "    port=25060,\n",
    "    database=\"defaultdb\",\n",
    "    sslmode=\"require\",\n",
    ")"
   ]
  },
  {
   "cell_type": "code",
   "execution_count": 2,
   "metadata": {
    "ExecuteTime": {
     "end_time": "2020-01-07T23:28:14.263902Z",
     "start_time": "2020-01-07T23:28:13.816395Z"
    },
    "code_folding": []
   },
   "outputs": [
    {
     "name": "stdout",
     "output_type": "stream",
     "text": [
      "{'user': 'doadmin', 'dbname': 'defaultdb', 'host': 'db-kpmg-tests-do-user-2498346-0.db.ondigitalocean.com', 'port': '25060', 'tty': '', 'options': '', 'sslmode': 'require', 'sslcompression': '0', 'krbsrvname': 'postgres', 'target_session_attrs': 'any'} \n",
      "\n",
      "You are connected to -  ('PostgreSQL 11.6 on x86_64-pc-linux-gnu, compiled by gcc, a 863367dcd p 310a24bd77, 64-bit',) \n",
      "\n",
      "PostgreSQL connection is closed\n"
     ]
    }
   ],
   "source": [
    "import psycopg2   # biblioteka umożliwiająca połączenie\n",
    "try:\n",
    "    connection = psycopg2.connect(**connection_data)  # nawiązywanie połączenia\n",
    "    cursor = connection.cursor()           # tworzenie kursora\n",
    "\n",
    "    # Print PostgreSQL Connection properties\n",
    "    print(connection.get_dsn_parameters(), \"\\n\")  # wypisanie parametrów\n",
    "\n",
    "    # Print PostgreSQL version\n",
    "    cursor.execute(\"SELECT version();\")           # wykonanie skryptu SQL \n",
    "    record = cursor.fetchone()                    # pobranie wyniku\n",
    "    print(\"You are connected to - \", record, \"\\n\")\n",
    "\n",
    "except (Exception, psycopg2.Error) as error:\n",
    "    print(\"Error while connecting to PostgreSQL\", error)\n",
    "finally:\n",
    "    # Zamknięcie kursora i połączenia.\n",
    "    if(connection):\n",
    "        cursor.close()\n",
    "        connection.close()\n",
    "        print(\"PostgreSQL connection is closed\")"
   ]
  },
  {
   "cell_type": "code",
   "execution_count": 77,
   "metadata": {
    "ExecuteTime": {
     "end_time": "2020-01-04T16:07:16.456541Z",
     "start_time": "2020-01-04T16:07:15.857465Z"
    }
   },
   "outputs": [
    {
     "name": "stdout",
     "output_type": "stream",
     "text": [
      "You are connected to -  ('PostgreSQL 11.6 on x86_64-pc-linux-gnu, compiled by gcc, a 863367dcd p 310a24bd77, 64-bit',) \n",
      "\n"
     ]
    }
   ],
   "source": [
    "with psycopg2.connect(**connection_data) as conn:\n",
    "    with conn.cursor() as cursor:\n",
    "        cursor.execute(\"SELECT version();\")\n",
    "        record = cursor.fetchone()\n",
    "        print(\"You are connected to - \", record, \"\\n\")"
   ]
  },
  {
   "cell_type": "markdown",
   "metadata": {},
   "source": [
    "Utworzenie tabeli"
   ]
  },
  {
   "cell_type": "code",
   "execution_count": 78,
   "metadata": {
    "ExecuteTime": {
     "end_time": "2020-01-04T16:07:59.069346Z",
     "start_time": "2020-01-04T16:07:59.055595Z"
    }
   },
   "outputs": [],
   "source": [
    "create_table_sql = \"\"\"\n",
    "CREATE TABLE surnames (\n",
    "   id SERIAL PRIMARY KEY,\n",
    "   surname VARCHAR (250) UNIQUE NOT NULL,\n",
    "   count INTEGER NOT NULL\n",
    ");\n",
    "\"\"\"\n",
    "\n",
    "\n",
    "with psycopg2.connect(**connection_data) as conn:\n",
    "    with conn.cursor() as cursor:\n",
    "        cursor.execute(create_table_sql)\n",
    "        conn.commit()"
   ]
  },
  {
   "cell_type": "code",
   "execution_count": 81,
   "metadata": {
    "ExecuteTime": {
     "end_time": "2020-01-04T16:09:15.328025Z",
     "start_time": "2020-01-04T16:09:14.683949Z"
    }
   },
   "outputs": [
    {
     "name": "stdout",
     "output_type": "stream",
     "text": [
      "[]\n"
     ]
    }
   ],
   "source": [
    "sql = \"SELECT * FROM surnames;\"\n",
    "\n",
    "with psycopg2.connect(**connection_data) as conn:\n",
    "    with conn.cursor() as cursor:\n",
    "        cursor.execute(sql)\n",
    "        record = cursor.fetchall()\n",
    "print(record)"
   ]
  },
  {
   "cell_type": "markdown",
   "metadata": {},
   "source": [
    "Dodajmy do bazy trochę danych. Wrzucimy tam informacje o częstotliwości występowania nazwisk w systemie PESEL.\n",
    "\n",
    "Na początku trzeba zbadać same dane. By przeczytać tylko kilka pierwszych linii możemy wykorzystać funkcje next(), albo np islice z itertools.\n"
   ]
  },
  {
   "cell_type": "code",
   "execution_count": 82,
   "metadata": {
    "ExecuteTime": {
     "end_time": "2020-01-04T16:11:05.656170Z",
     "start_time": "2020-01-04T16:11:05.646197Z"
    }
   },
   "outputs": [],
   "source": [
    "import csv"
   ]
  },
  {
   "cell_type": "markdown",
   "metadata": {},
   "source": [
    "ile linii ma plik?\n"
   ]
  },
  {
   "cell_type": "code",
   "execution_count": 102,
   "metadata": {
    "ExecuteTime": {
     "end_time": "2020-01-04T16:30:39.982491Z",
     "start_time": "2020-01-04T16:30:39.975488Z"
    }
   },
   "outputs": [
    {
     "name": "stdout",
     "output_type": "stream",
     "text": [
      "['Nazwisko,Liczba wystąpień\\n', 'NOWAK,139\\xa0325\\n', 'KOWALSKA,89\\xa0885\\n', 'WIŚNIEWSKA,70\\xa0701\\n', 'WÓJCIK,63\\xa0894\\n', 'KOWALCZYK,62\\xa0407\\n', 'KAMIŃSKA,60\\xa0965\\n', 'LEWANDOWSKA,60\\xa0468\\n', 'DĄBROWSKA,59\\xa0520\\n', 'ZIELIŃSKA,58\\xa0929\\n']\n"
     ]
    }
   ],
   "source": [
    "# \\xa0 - no break space\n",
    "with open(\"data/PESEL_NAZWISKA.csv\") as f:\n",
    "    head = [next(f) for n in range(10)]\n",
    "    print(head)"
   ]
  },
  {
   "cell_type": "code",
   "execution_count": 92,
   "metadata": {
    "ExecuteTime": {
     "end_time": "2020-01-04T16:16:46.372783Z",
     "start_time": "2020-01-04T16:16:46.360339Z"
    }
   },
   "outputs": [
    {
     "name": "stdout",
     "output_type": "stream",
     "text": [
      "['Nazwisko,Liczba wystąpień\\n', 'NOWAK,139\\xa0325\\n', 'KOWALSKA,89\\xa0885\\n', 'WIŚNIEWSKA,70\\xa0701\\n', 'WÓJCIK,63\\xa0894\\n', 'KOWALCZYK,62\\xa0407\\n', 'KAMIŃSKA,60\\xa0965\\n', 'LEWANDOWSKA,60\\xa0468\\n', 'DĄBROWSKA,59\\xa0520\\n', 'ZIELIŃSKA,58\\xa0929\\n']\n"
     ]
    }
   ],
   "source": [
    "from itertools import islice\n",
    "\n",
    "with open(\"data/PESEL_NAZWISKA.csv\") as f:\n",
    "    head = list(islice(f, 10))\n",
    "    print(head)"
   ]
  },
  {
   "cell_type": "code",
   "execution_count": 94,
   "metadata": {
    "ExecuteTime": {
     "end_time": "2020-01-04T16:20:31.552001Z",
     "start_time": "2020-01-04T16:20:31.546409Z"
    }
   },
   "outputs": [],
   "source": [
    "import mmap\n",
    "mmap.mmap?"
   ]
  },
  {
   "cell_type": "code",
   "execution_count": 70,
   "metadata": {
    "ExecuteTime": {
     "end_time": "2020-01-04T16:00:28.084840Z",
     "start_time": "2020-01-04T16:00:28.069263Z"
    }
   },
   "outputs": [
    {
     "name": "stdout",
     "output_type": "stream",
     "text": [
      "NOWAK 139325\n"
     ]
    }
   ],
   "source": [
    "with open(\"data/PESEL_NAZWISKA.csv\") as f:\n",
    "    data = csv.reader(f, delimiter=',')\n",
    "    columns = next(data)\n",
    "    for d in data:\n",
    "        print(d[0], int(d[1].replace(u\"\\xa0\",\"\")))\n",
    "        break"
   ]
  },
  {
   "cell_type": "markdown",
   "metadata": {
    "ExecuteTime": {
     "end_time": "2020-01-04T16:03:20.103441Z",
     "start_time": "2020-01-04T16:03:20.094958Z"
    }
   },
   "source": [
    "### SQLite"
   ]
  },
  {
   "cell_type": "markdown",
   "metadata": {},
   "source": [
    "### zadanie\n",
    "\n",
    "Odczytaj dane - np z pliku, API, lub innej bazy danych i zapisz je w bazie dane.sqlite\n",
    "\n"
   ]
  }
 ],
 "metadata": {
  "kernelspec": {
   "display_name": "Python 3",
   "language": "python",
   "name": "python3"
  },
  "language_info": {
   "codemirror_mode": {
    "name": "ipython",
    "version": 3
   },
   "file_extension": ".py",
   "mimetype": "text/x-python",
   "name": "python",
   "nbconvert_exporter": "python",
   "pygments_lexer": "ipython3",
   "version": "3.7.5"
  },
  "toc": {
   "base_numbering": 1,
   "nav_menu": {},
   "number_sections": true,
   "sideBar": true,
   "skip_h1_title": false,
   "title_cell": "Table of Contents",
   "title_sidebar": "Contents",
   "toc_cell": false,
   "toc_position": {
    "height": "calc(100% - 180px)",
    "left": "10px",
    "top": "150px",
    "width": "177.117px"
   },
   "toc_section_display": true,
   "toc_window_display": true
  }
 },
 "nbformat": 4,
 "nbformat_minor": 2
}
